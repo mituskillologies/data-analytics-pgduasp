{
 "cells": [
  {
   "cell_type": "code",
   "execution_count": 1,
   "id": "64e1fb8d",
   "metadata": {},
   "outputs": [
    {
     "name": "stdout",
     "output_type": "stream",
     "text": [
      "Hello World\n"
     ]
    }
   ],
   "source": [
    "print('Hello World')"
   ]
  },
  {
   "cell_type": "code",
   "execution_count": 2,
   "id": "a0d6392a",
   "metadata": {},
   "outputs": [
    {
     "name": "stdout",
     "output_type": "stream",
     "text": [
      "90\n"
     ]
    }
   ],
   "source": [
    "x = 67\n",
    "print(x + 23)"
   ]
  },
  {
   "cell_type": "markdown",
   "id": "51293990",
   "metadata": {},
   "source": [
    "#### Creating a vector"
   ]
  },
  {
   "cell_type": "code",
   "execution_count": 4,
   "id": "208ad828",
   "metadata": {},
   "outputs": [],
   "source": [
    "import numpy as np"
   ]
  },
  {
   "cell_type": "code",
   "execution_count": 5,
   "id": "e9992cba",
   "metadata": {},
   "outputs": [],
   "source": [
    "num = np.array([56,22,16,34,47,22,71])"
   ]
  },
  {
   "cell_type": "code",
   "execution_count": 6,
   "id": "c0ab9bfc",
   "metadata": {},
   "outputs": [
    {
     "name": "stdout",
     "output_type": "stream",
     "text": [
      "[56 22 16 34 47 22 71]\n"
     ]
    }
   ],
   "source": [
    "print(num)"
   ]
  },
  {
   "cell_type": "code",
   "execution_count": 9,
   "id": "f8c2ed73",
   "metadata": {},
   "outputs": [
    {
     "name": "stdout",
     "output_type": "stream",
     "text": [
      "57851042258991963731032767997255568484669876127798842175562763625105475819094187729370136188942973099498052408323613539198285942602350418724192003188774594018982651058930391572638844283074391758026724048767152005341971208002055335080382099467228778118125641733806308826223839985165283187477339367689346441414070007115696597358654777464583370145351060649092947248735464088300298528751976309246546775920722351433169799353522187190593298605383867209788996001057464768315496568299227635993049198900783168807554305553016106383967768252586024933484434743824239861856747003562116195361966186671376816235416987379362249516768457684817607374901975846532508507985915031677972923131002551524167273773258071719221596595150149840301714940658748229952550422029576987282950038638786427691286589991239130714023080772987011360614106996236987612456698699817490224877903774674685929279861123320981337169542031883890520576824477060598516871080657234459325026053594652917978000027834171256640851666870455927809001704931544498653070934306093146557884786201886895308184420592688504083997419118623908497101576277258765781373859018764300140016037851492711573522423528480877902538863425880518938211391527094826842792230891558905656388170682330006416750055322627708438416702413793568480359630990507470484906992879714666415748092708539569328886482663289231988308409688300975581422797128665612566276591626026248917439704790202038499340331031421764969814010584302437927292048904812144562818504891862196199530806404495936466309891698228763016005570569049439876126421330992151413036981133297029950575312184445165456401743854715571849068045359494137829622682411301001133399101452665956393892305182450533756887405511307252082088145801678716222049543813290860629820506502595023044173949552611269168206026002897155523538288586429347616790424597089082605409862355739609631016505410336169520771998219428965130420892187456968280833749024751691464685234079205831027113724601911319624182796244213903540802966936752982261207915452138881552068248527054614416613708133745002327239387180528613952166930015336549945116906399732517594709024185958053086823110185243897233666119851002289543184384\n"
     ]
    }
   ],
   "source": [
    "x = 2234 ** 641\n",
    "print(x)"
   ]
  },
  {
   "cell_type": "code",
   "execution_count": 10,
   "id": "b6c58b68",
   "metadata": {},
   "outputs": [
    {
     "data": {
      "text/plain": [
       "int"
      ]
     },
     "execution_count": 10,
     "metadata": {},
     "output_type": "execute_result"
    }
   ],
   "source": [
    "type(x)"
   ]
  },
  {
   "cell_type": "code",
   "execution_count": 11,
   "id": "75e858b2",
   "metadata": {},
   "outputs": [
    {
     "data": {
      "text/plain": [
       "array([56, 22, 16, 34, 47, 22, 71])"
      ]
     },
     "execution_count": 11,
     "metadata": {},
     "output_type": "execute_result"
    }
   ],
   "source": [
    "num"
   ]
  },
  {
   "cell_type": "code",
   "execution_count": 12,
   "id": "6ebe5941",
   "metadata": {},
   "outputs": [
    {
     "data": {
      "text/plain": [
       "numpy.ndarray"
      ]
     },
     "execution_count": 12,
     "metadata": {},
     "output_type": "execute_result"
    }
   ],
   "source": [
    "type(num)"
   ]
  },
  {
   "cell_type": "code",
   "execution_count": 13,
   "id": "03a00d83",
   "metadata": {},
   "outputs": [
    {
     "data": {
      "text/plain": [
       "dtype('int64')"
      ]
     },
     "execution_count": 13,
     "metadata": {},
     "output_type": "execute_result"
    }
   ],
   "source": [
    "num.dtype"
   ]
  },
  {
   "cell_type": "code",
   "execution_count": 15,
   "id": "50fae307",
   "metadata": {},
   "outputs": [],
   "source": [
    "num = np.array([56,22,16,34,47,22,71], dtype=np.int16)"
   ]
  },
  {
   "cell_type": "code",
   "execution_count": 16,
   "id": "e2b8a3a9",
   "metadata": {},
   "outputs": [
    {
     "data": {
      "text/plain": [
       "dtype('int16')"
      ]
     },
     "execution_count": 16,
     "metadata": {},
     "output_type": "execute_result"
    }
   ],
   "source": [
    "num.dtype"
   ]
  },
  {
   "cell_type": "code",
   "execution_count": 17,
   "id": "b66c9d14",
   "metadata": {},
   "outputs": [
    {
     "data": {
      "text/plain": [
       "1"
      ]
     },
     "execution_count": 17,
     "metadata": {},
     "output_type": "execute_result"
    }
   ],
   "source": [
    "num.ndim"
   ]
  },
  {
   "cell_type": "code",
   "execution_count": 18,
   "id": "4fed97b8",
   "metadata": {},
   "outputs": [
    {
     "data": {
      "text/plain": [
       "7"
      ]
     },
     "execution_count": 18,
     "metadata": {},
     "output_type": "execute_result"
    }
   ],
   "source": [
    "num.size"
   ]
  },
  {
   "cell_type": "code",
   "execution_count": 19,
   "id": "dbf3aac0",
   "metadata": {},
   "outputs": [],
   "source": [
    "num = np.array([56,22,16,34,47.23,22,71])"
   ]
  },
  {
   "cell_type": "code",
   "execution_count": 20,
   "id": "2a9b5e69",
   "metadata": {},
   "outputs": [
    {
     "data": {
      "text/plain": [
       "array([56.  , 22.  , 16.  , 34.  , 47.23, 22.  , 71.  ])"
      ]
     },
     "execution_count": 20,
     "metadata": {},
     "output_type": "execute_result"
    }
   ],
   "source": [
    "num"
   ]
  },
  {
   "cell_type": "code",
   "execution_count": 21,
   "id": "7793c197",
   "metadata": {},
   "outputs": [
    {
     "data": {
      "text/plain": [
       "dtype('float64')"
      ]
     },
     "execution_count": 21,
     "metadata": {},
     "output_type": "execute_result"
    }
   ],
   "source": [
    "num.dtype"
   ]
  },
  {
   "cell_type": "code",
   "execution_count": 22,
   "id": "5fb7ffbb",
   "metadata": {},
   "outputs": [
    {
     "data": {
      "text/plain": [
       "34.0"
      ]
     },
     "execution_count": 22,
     "metadata": {},
     "output_type": "execute_result"
    }
   ],
   "source": [
    "num[3]"
   ]
  },
  {
   "cell_type": "code",
   "execution_count": 23,
   "id": "50227ced",
   "metadata": {},
   "outputs": [],
   "source": [
    "num[2] = 12.75"
   ]
  },
  {
   "cell_type": "code",
   "execution_count": 24,
   "id": "3d11ecb2",
   "metadata": {},
   "outputs": [
    {
     "data": {
      "text/plain": [
       "array([56.  , 22.  , 12.75, 34.  , 47.23, 22.  , 71.  ])"
      ]
     },
     "execution_count": 24,
     "metadata": {},
     "output_type": "execute_result"
    }
   ],
   "source": [
    "num"
   ]
  },
  {
   "cell_type": "markdown",
   "id": "a7cb3da0",
   "metadata": {},
   "source": [
    "#### Simple Vector"
   ]
  },
  {
   "cell_type": "code",
   "execution_count": 26,
   "id": "b5605959",
   "metadata": {},
   "outputs": [],
   "source": [
    "v = np.arange(10)"
   ]
  },
  {
   "cell_type": "code",
   "execution_count": 27,
   "id": "7abaf51c",
   "metadata": {},
   "outputs": [
    {
     "data": {
      "text/plain": [
       "array([0, 1, 2, 3, 4, 5, 6, 7, 8, 9])"
      ]
     },
     "execution_count": 27,
     "metadata": {},
     "output_type": "execute_result"
    }
   ],
   "source": [
    "v"
   ]
  },
  {
   "cell_type": "code",
   "execution_count": 28,
   "id": "6c275106",
   "metadata": {},
   "outputs": [],
   "source": [
    "import matplotlib.pyplot as plt"
   ]
  },
  {
   "cell_type": "code",
   "execution_count": 29,
   "id": "ba4f9468",
   "metadata": {},
   "outputs": [
    {
     "data": {
      "text/plain": [
       "[<matplotlib.lines.Line2D at 0x7f716ed22340>]"
      ]
     },
     "execution_count": 29,
     "metadata": {},
     "output_type": "execute_result"
    },
    {
     "data": {
      "image/png": "[encoded data removed]",
      "text/plain": [
       "<Figure size 432x288 with 1 Axes>"
      ]
     },
     "metadata": {
      "needs_background": "light"
     },
     "output_type": "display_data"
    }
   ],
   "source": [
    "plt.plot(v)"
   ]
  },
  {
   "cell_type": "code",
   "execution_count": 30,
   "id": "11f3080b",
   "metadata": {},
   "outputs": [],
   "source": [
    "v = np.arange(3,13)"
   ]
  },
  {
   "cell_type": "code",
   "execution_count": 31,
   "id": "e6327714",
   "metadata": {},
   "outputs": [
    {
     "data": {
      "text/plain": [
       "array([ 3,  4,  5,  6,  7,  8,  9, 10, 11, 12])"
      ]
     },
     "execution_count": 31,
     "metadata": {},
     "output_type": "execute_result"
    }
   ],
   "source": [
    "v"
   ]
  },
  {
   "cell_type": "code",
   "execution_count": 32,
   "id": "4950a2b3",
   "metadata": {},
   "outputs": [
    {
     "data": {
      "text/plain": [
       "[<matplotlib.lines.Line2D at 0x7f716ccc0940>]"
      ]
     },
     "execution_count": 32,
     "metadata": {},
     "output_type": "execute_result"
    },
    {
     "data": {
      "image/png": "[encoded data removed]",
      "text/plain": [
       "<Figure size 432x288 with 1 Axes>"
      ]
     },
     "metadata": {
      "needs_background": "light"
     },
     "output_type": "display_data"
    }
   ],
   "source": [
    "plt.plot(v)"
   ]
  },
  {
   "cell_type": "code",
   "execution_count": 33,
   "id": "3a64f88e",
   "metadata": {},
   "outputs": [],
   "source": [
    "v = np.arange(1,20,2)"
   ]
  },
  {
   "cell_type": "code",
   "execution_count": 34,
   "id": "e29d691c",
   "metadata": {},
   "outputs": [
    {
     "data": {
      "text/plain": [
       "array([ 1,  3,  5,  7,  9, 11, 13, 15, 17, 19])"
      ]
     },
     "execution_count": 34,
     "metadata": {},
     "output_type": "execute_result"
    }
   ],
   "source": [
    "v"
   ]
  },
  {
   "cell_type": "code",
   "execution_count": 35,
   "id": "0a6772e4",
   "metadata": {},
   "outputs": [],
   "source": [
    "v = np.arange(20,1,-2)"
   ]
  },
  {
   "cell_type": "code",
   "execution_count": 36,
   "id": "46b0f35b",
   "metadata": {},
   "outputs": [
    {
     "data": {
      "text/plain": [
       "array([20, 18, 16, 14, 12, 10,  8,  6,  4,  2])"
      ]
     },
     "execution_count": 36,
     "metadata": {},
     "output_type": "execute_result"
    }
   ],
   "source": [
    "v"
   ]
  },
  {
   "cell_type": "code",
   "execution_count": 37,
   "id": "30a47dfa",
   "metadata": {},
   "outputs": [
    {
     "data": {
      "text/plain": [
       "[<matplotlib.lines.Line2D at 0x7f716ccbb730>]"
      ]
     },
     "execution_count": 37,
     "metadata": {},
     "output_type": "execute_result"
    },
    {
     "data": {
      "image/png": "[encoded data removed]",
      "text/plain": [
       "<Figure size 432x288 with 1 Axes>"
      ]
     },
     "metadata": {
      "needs_background": "light"
     },
     "output_type": "display_data"
    }
   ],
   "source": [
    "plt.plot(v)"
   ]
  },
  {
   "cell_type": "code",
   "execution_count": 38,
   "id": "af5998f3",
   "metadata": {},
   "outputs": [],
   "source": [
    "v = np.arange(1,10,0.25)"
   ]
  },
  {
   "cell_type": "code",
   "execution_count": 39,
   "id": "14fd04eb",
   "metadata": {},
   "outputs": [
    {
     "data": {
      "text/plain": [
       "array([1.  , 1.25, 1.5 , 1.75, 2.  , 2.25, 2.5 , 2.75, 3.  , 3.25, 3.5 ,\n",
       "       3.75, 4.  , 4.25, 4.5 , 4.75, 5.  , 5.25, 5.5 , 5.75, 6.  , 6.25,\n",
       "       6.5 , 6.75, 7.  , 7.25, 7.5 , 7.75, 8.  , 8.25, 8.5 , 8.75, 9.  ,\n",
       "       9.25, 9.5 , 9.75])"
      ]
     },
     "execution_count": 39,
     "metadata": {},
     "output_type": "execute_result"
    }
   ],
   "source": [
    "v"
   ]
  },
  {
   "cell_type": "code",
   "execution_count": 44,
   "id": "7847db5f",
   "metadata": {},
   "outputs": [],
   "source": [
    "v = np.linspace(1,10,5)"
   ]
  },
  {
   "cell_type": "code",
   "execution_count": 45,
   "id": "00d6672e",
   "metadata": {},
   "outputs": [
    {
     "data": {
      "text/plain": [
       "array([ 1.  ,  3.25,  5.5 ,  7.75, 10.  ])"
      ]
     },
     "execution_count": 45,
     "metadata": {},
     "output_type": "execute_result"
    }
   ],
   "source": [
    "v"
   ]
  },
  {
   "cell_type": "markdown",
   "id": "5e0cafbd",
   "metadata": {},
   "source": [
    "#### Zero Vector"
   ]
  },
  {
   "cell_type": "code",
   "execution_count": 52,
   "id": "2708dae3",
   "metadata": {},
   "outputs": [],
   "source": [
    "e = np.empty(5)"
   ]
  },
  {
   "cell_type": "code",
   "execution_count": 53,
   "id": "5f9e49be",
   "metadata": {},
   "outputs": [
    {
     "data": {
      "text/plain": [
       "array([ 1.  ,  3.25,  5.5 ,  7.75, 10.  ])"
      ]
     },
     "execution_count": 53,
     "metadata": {},
     "output_type": "execute_result"
    }
   ],
   "source": [
    "e"
   ]
  },
  {
   "cell_type": "code",
   "execution_count": 57,
   "id": "62b5f52e",
   "metadata": {},
   "outputs": [],
   "source": [
    "z = np.zeros(10, dtype=np.int16)"
   ]
  },
  {
   "cell_type": "code",
   "execution_count": 58,
   "id": "2924774e",
   "metadata": {},
   "outputs": [
    {
     "data": {
      "text/plain": [
       "array([0, 0, 0, 0, 0, 0, 0, 0, 0, 0], dtype=int16)"
      ]
     },
     "execution_count": 58,
     "metadata": {},
     "output_type": "execute_result"
    }
   ],
   "source": [
    "z"
   ]
  },
  {
   "cell_type": "code",
   "execution_count": 60,
   "id": "89ad5b46",
   "metadata": {},
   "outputs": [
    {
     "data": {
      "text/plain": [
       "<matplotlib.collections.PathCollection at 0x7f716cbd7e80>"
      ]
     },
     "execution_count": 60,
     "metadata": {},
     "output_type": "execute_result"
    },
    {
     "data": {
      "image/png": "[encoded data removed]",
      "text/plain": [
       "<Figure size 432x288 with 1 Axes>"
      ]
     },
     "metadata": {
      "needs_background": "light"
     },
     "output_type": "display_data"
    }
   ],
   "source": [
    "plt.scatter(z,z)"
   ]
  },
  {
   "cell_type": "markdown",
   "id": "cef35eef",
   "metadata": {},
   "source": [
    "#### Unit Vector"
   ]
  },
  {
   "cell_type": "code",
   "execution_count": 64,
   "id": "c3af967f",
   "metadata": {},
   "outputs": [],
   "source": [
    "v = np.ones(10, dtype=np.int16)"
   ]
  },
  {
   "cell_type": "code",
   "execution_count": 65,
   "id": "55933683",
   "metadata": {},
   "outputs": [
    {
     "data": {
      "text/plain": [
       "array([1, 1, 1, 1, 1, 1, 1, 1, 1, 1], dtype=int16)"
      ]
     },
     "execution_count": 65,
     "metadata": {},
     "output_type": "execute_result"
    }
   ],
   "source": [
    "v"
   ]
  },
  {
   "cell_type": "markdown",
   "id": "2718d345",
   "metadata": {},
   "source": [
    "#### Vector Operations"
   ]
  },
  {
   "cell_type": "code",
   "execution_count": 67,
   "id": "d749b7e8",
   "metadata": {},
   "outputs": [],
   "source": [
    "x = [45,77,23,15,77,84]"
   ]
  },
  {
   "cell_type": "code",
   "execution_count": 68,
   "id": "3326d038",
   "metadata": {},
   "outputs": [
    {
     "data": {
      "text/plain": [
       "list"
      ]
     },
     "execution_count": 68,
     "metadata": {},
     "output_type": "execute_result"
    }
   ],
   "source": [
    "type(x)"
   ]
  },
  {
   "cell_type": "code",
   "execution_count": 69,
   "id": "1bc32d8e",
   "metadata": {},
   "outputs": [
    {
     "data": {
      "text/plain": [
       "[45, 77, 23, 15, 77, 84, 45, 77, 23, 15, 77, 84]"
      ]
     },
     "execution_count": 69,
     "metadata": {},
     "output_type": "execute_result"
    }
   ],
   "source": [
    "x *2"
   ]
  },
  {
   "cell_type": "code",
   "execution_count": 211,
   "id": "1a87f5f5",
   "metadata": {},
   "outputs": [],
   "source": [
    "v1 = np.array([45,77,23,15,77,84,38])\n",
    "v2 = np.array([78,98,33,16,48,62,17])\n",
    "v3 = np.arange(10,17)\n",
    "v4 = np.arange(10,23,2)"
   ]
  },
  {
   "cell_type": "code",
   "execution_count": 72,
   "id": "65a103d9",
   "metadata": {},
   "outputs": [
    {
     "data": {
      "text/plain": [
       "(7, 7, 7, 7)"
      ]
     },
     "execution_count": 72,
     "metadata": {},
     "output_type": "execute_result"
    }
   ],
   "source": [
    "v1.size, v2.size, v3.size, v4.size"
   ]
  },
  {
   "cell_type": "code",
   "execution_count": 73,
   "id": "fbd62167",
   "metadata": {},
   "outputs": [],
   "source": [
    "v5 = v1 * 2"
   ]
  },
  {
   "cell_type": "code",
   "execution_count": 74,
   "id": "5ac9585d",
   "metadata": {},
   "outputs": [
    {
     "data": {
      "text/plain": [
       "array([ 90, 154,  46,  30, 154, 168,  76])"
      ]
     },
     "execution_count": 74,
     "metadata": {},
     "output_type": "execute_result"
    }
   ],
   "source": [
    "v5"
   ]
  },
  {
   "cell_type": "code",
   "execution_count": 75,
   "id": "7ba5d868",
   "metadata": {},
   "outputs": [],
   "source": [
    "v6 = v3 + 5"
   ]
  },
  {
   "cell_type": "code",
   "execution_count": 76,
   "id": "16aeb3f1",
   "metadata": {},
   "outputs": [
    {
     "data": {
      "text/plain": [
       "array([15, 16, 17, 18, 19, 20, 21])"
      ]
     },
     "execution_count": 76,
     "metadata": {},
     "output_type": "execute_result"
    }
   ],
   "source": [
    "v6"
   ]
  },
  {
   "cell_type": "code",
   "execution_count": 79,
   "id": "3477836b",
   "metadata": {},
   "outputs": [
    {
     "data": {
      "text/plain": [
       "<matplotlib.legend.Legend at 0x7f716cabba00>"
      ]
     },
     "execution_count": 79,
     "metadata": {},
     "output_type": "execute_result"
    },
    {
     "data": {
      "image/png": "[encoded data removed]",
      "text/plain": [
       "<Figure size 432x288 with 1 Axes>"
      ]
     },
     "metadata": {
      "needs_background": "light"
     },
     "output_type": "display_data"
    }
   ],
   "source": [
    "plt.plot(v3, label='Vector3')\n",
    "plt.plot(v6, label='Vector6')\n",
    "plt.legend()"
   ]
  },
  {
   "cell_type": "code",
   "execution_count": 81,
   "id": "b891b2b7",
   "metadata": {},
   "outputs": [],
   "source": [
    "v7 = v3 * 2"
   ]
  },
  {
   "cell_type": "code",
   "execution_count": 82,
   "id": "1c645087",
   "metadata": {},
   "outputs": [
    {
     "data": {
      "text/plain": [
       "<matplotlib.legend.Legend at 0x7f716c9878b0>"
      ]
     },
     "execution_count": 82,
     "metadata": {},
     "output_type": "execute_result"
    },
    {
     "data": {
      "image/png": "[encoded data removed]",
      "text/plain": [
       "<Figure size 432x288 with 1 Axes>"
      ]
     },
     "metadata": {
      "needs_background": "light"
     },
     "output_type": "display_data"
    }
   ],
   "source": [
    "plt.plot(v3, label='Vector3')\n",
    "plt.plot(v7, label='Vector7')\n",
    "plt.legend()"
   ]
  },
  {
   "cell_type": "code",
   "execution_count": 83,
   "id": "1e1ede44",
   "metadata": {},
   "outputs": [
    {
     "data": {
      "text/plain": [
       "140125132639760"
      ]
     },
     "execution_count": 83,
     "metadata": {},
     "output_type": "execute_result"
    }
   ],
   "source": [
    "id(v1)"
   ]
  },
  {
   "cell_type": "code",
   "execution_count": 84,
   "id": "ec3ed090",
   "metadata": {},
   "outputs": [
    {
     "data": {
      "text/plain": [
       "140125132275760"
      ]
     },
     "execution_count": 84,
     "metadata": {},
     "output_type": "execute_result"
    }
   ],
   "source": [
    "id(v2)"
   ]
  },
  {
   "cell_type": "code",
   "execution_count": 85,
   "id": "8927055e",
   "metadata": {},
   "outputs": [],
   "source": [
    "v8 = v1"
   ]
  },
  {
   "cell_type": "code",
   "execution_count": 86,
   "id": "cdd4a7ef",
   "metadata": {},
   "outputs": [
    {
     "data": {
      "text/plain": [
       "array([45, 77, 23, 15, 77, 84, 38])"
      ]
     },
     "execution_count": 86,
     "metadata": {},
     "output_type": "execute_result"
    }
   ],
   "source": [
    "v8"
   ]
  },
  {
   "cell_type": "code",
   "execution_count": 87,
   "id": "83bc1dc2",
   "metadata": {},
   "outputs": [
    {
     "data": {
      "text/plain": [
       "140125132639760"
      ]
     },
     "execution_count": 87,
     "metadata": {},
     "output_type": "execute_result"
    }
   ],
   "source": [
    "id(v8)"
   ]
  },
  {
   "cell_type": "code",
   "execution_count": 90,
   "id": "0a12313e",
   "metadata": {},
   "outputs": [],
   "source": [
    "v8 = v3.copy()"
   ]
  },
  {
   "cell_type": "code",
   "execution_count": 91,
   "id": "2953739a",
   "metadata": {},
   "outputs": [
    {
     "data": {
      "text/plain": [
       "140125132105552"
      ]
     },
     "execution_count": 91,
     "metadata": {},
     "output_type": "execute_result"
    }
   ],
   "source": [
    "id(v8)"
   ]
  },
  {
   "cell_type": "code",
   "execution_count": 99,
   "id": "bfa421bb",
   "metadata": {},
   "outputs": [
    {
     "data": {
      "text/plain": [
       "<matplotlib.legend.Legend at 0x7f716c5b3790>"
      ]
     },
     "execution_count": 99,
     "metadata": {},
     "output_type": "execute_result"
    },
    {
     "data": {
      "image/png": "[encoded data removed]",
      "text/plain": [
       "<Figure size 1152x648 with 1 Axes>"
      ]
     },
     "metadata": {
      "needs_background": "light"
     },
     "output_type": "display_data"
    }
   ],
   "source": [
    "plt.figure(figsize=(16,9))\n",
    "plt.plot(v3, label='Vector3',lw=10, color='red')\n",
    "plt.plot(v8, label='Vector8', ls='--', color = 'yellow', lw=5)\n",
    "plt.legend()"
   ]
  },
  {
   "cell_type": "code",
   "execution_count": 101,
   "id": "d8c0a2d6",
   "metadata": {},
   "outputs": [
    {
     "data": {
      "text/plain": [
       "<matplotlib.legend.Legend at 0x7f716c854ee0>"
      ]
     },
     "execution_count": 101,
     "metadata": {},
     "output_type": "execute_result"
    },
    {
     "data": {
      "image/png": "[encoded data removed]",
      "text/plain": [
       "<Figure size 432x288 with 1 Axes>"
      ]
     },
     "metadata": {
      "needs_background": "light"
     },
     "output_type": "display_data"
    }
   ],
   "source": [
    "plt.title('co-initial vectors')\n",
    "plt.plot(v3, label='Vector3')\n",
    "plt.plot(v4, label='Vector4')\n",
    "plt.legend()"
   ]
  },
  {
   "cell_type": "markdown",
   "id": "21b6d411",
   "metadata": {},
   "source": [
    "##### dot product"
   ]
  },
  {
   "cell_type": "code",
   "execution_count": 103,
   "id": "8b48dda3",
   "metadata": {},
   "outputs": [
    {
     "data": {
      "text/plain": [
       "1512"
      ]
     },
     "execution_count": 103,
     "metadata": {},
     "output_type": "execute_result"
    }
   ],
   "source": [
    "np.dot(v3, v4)"
   ]
  },
  {
   "cell_type": "code",
   "execution_count": 104,
   "id": "3dbce3c0",
   "metadata": {},
   "outputs": [],
   "source": [
    "x1 = [56,33,12]\n",
    "x2 = [78,22,17]"
   ]
  },
  {
   "cell_type": "code",
   "execution_count": 105,
   "id": "90ba9ad3",
   "metadata": {},
   "outputs": [
    {
     "data": {
      "text/plain": [
       "[56, 33, 12, 78, 22, 17]"
      ]
     },
     "execution_count": 105,
     "metadata": {},
     "output_type": "execute_result"
    }
   ],
   "source": [
    "x1 + x2"
   ]
  },
  {
   "cell_type": "code",
   "execution_count": 106,
   "id": "60eca989",
   "metadata": {},
   "outputs": [
    {
     "data": {
      "text/plain": [
       "array([45, 77, 23, 15, 77, 84, 38])"
      ]
     },
     "execution_count": 106,
     "metadata": {},
     "output_type": "execute_result"
    }
   ],
   "source": [
    "v1"
   ]
  },
  {
   "cell_type": "code",
   "execution_count": 107,
   "id": "3705e38d",
   "metadata": {},
   "outputs": [
    {
     "data": {
      "text/plain": [
       "array([78, 98, 33, 16, 48, 62, 17])"
      ]
     },
     "execution_count": 107,
     "metadata": {},
     "output_type": "execute_result"
    }
   ],
   "source": [
    "v2"
   ]
  },
  {
   "cell_type": "code",
   "execution_count": 108,
   "id": "b9995624",
   "metadata": {},
   "outputs": [
    {
     "data": {
      "text/plain": [
       "array([123, 175,  56,  31, 125, 146,  55])"
      ]
     },
     "execution_count": 108,
     "metadata": {},
     "output_type": "execute_result"
    }
   ],
   "source": [
    "v1 + v2"
   ]
  },
  {
   "cell_type": "code",
   "execution_count": 110,
   "id": "04059744",
   "metadata": {},
   "outputs": [
    {
     "data": {
      "text/plain": [
       "<matplotlib.legend.Legend at 0x7f716c93f910>"
      ]
     },
     "execution_count": 110,
     "metadata": {},
     "output_type": "execute_result"
    },
    {
     "data": {
      "image/png": "[encoded data removed]",
      "text/plain": [
       "<Figure size 432x288 with 1 Axes>"
      ]
     },
     "metadata": {
      "needs_background": "light"
     },
     "output_type": "display_data"
    }
   ],
   "source": [
    "plt.title('Addition of vectors')\n",
    "plt.plot(v3, label='Vector3')\n",
    "plt.plot(v4, label='Vector4')\n",
    "plt.plot(v3+v4, label='addition')\n",
    "plt.legend()"
   ]
  },
  {
   "cell_type": "code",
   "execution_count": 112,
   "id": "0f6a6680",
   "metadata": {},
   "outputs": [
    {
     "data": {
      "text/plain": [
       "array([10, 11, 12, 13, 14, 15, 16])"
      ]
     },
     "execution_count": 112,
     "metadata": {},
     "output_type": "execute_result"
    }
   ],
   "source": [
    "v3"
   ]
  },
  {
   "cell_type": "code",
   "execution_count": 113,
   "id": "8eb1d682",
   "metadata": {},
   "outputs": [
    {
     "data": {
      "text/plain": [
       "array([10, 12, 14, 16, 18, 20, 22])"
      ]
     },
     "execution_count": 113,
     "metadata": {},
     "output_type": "execute_result"
    }
   ],
   "source": [
    "v4"
   ]
  },
  {
   "cell_type": "code",
   "execution_count": 114,
   "id": "7e343f00",
   "metadata": {},
   "outputs": [
    {
     "data": {
      "text/plain": [
       "array([20, 23, 26, 29, 32, 35, 38])"
      ]
     },
     "execution_count": 114,
     "metadata": {},
     "output_type": "execute_result"
    }
   ],
   "source": [
    "v3 + v4"
   ]
  },
  {
   "cell_type": "code",
   "execution_count": 115,
   "id": "07bf0f0c",
   "metadata": {},
   "outputs": [
    {
     "data": {
      "text/plain": [
       "array([ 0, -1, -2, -3, -4, -5, -6])"
      ]
     },
     "execution_count": 115,
     "metadata": {},
     "output_type": "execute_result"
    }
   ],
   "source": [
    "v3 - v4"
   ]
  },
  {
   "cell_type": "code",
   "execution_count": 116,
   "id": "ddd528dd",
   "metadata": {},
   "outputs": [
    {
     "data": {
      "text/plain": [
       "array([100, 132, 168, 208, 252, 300, 352])"
      ]
     },
     "execution_count": 116,
     "metadata": {},
     "output_type": "execute_result"
    }
   ],
   "source": [
    "v3 * v4"
   ]
  },
  {
   "cell_type": "markdown",
   "id": "9cee6434",
   "metadata": {},
   "source": [
    "#### slicing"
   ]
  },
  {
   "cell_type": "code",
   "execution_count": 118,
   "id": "bbfc17f0",
   "metadata": {},
   "outputs": [
    {
     "data": {
      "text/plain": [
       "array([45, 77, 23, 15, 77, 84, 38])"
      ]
     },
     "execution_count": 118,
     "metadata": {},
     "output_type": "execute_result"
    }
   ],
   "source": [
    "v1"
   ]
  },
  {
   "cell_type": "code",
   "execution_count": 119,
   "id": "6955e401",
   "metadata": {},
   "outputs": [
    {
     "data": {
      "text/plain": [
       "array([77, 23, 15, 77])"
      ]
     },
     "execution_count": 119,
     "metadata": {},
     "output_type": "execute_result"
    }
   ],
   "source": [
    "v1[1:5]"
   ]
  },
  {
   "cell_type": "markdown",
   "id": "4d21e332",
   "metadata": {},
   "source": [
    "#### filters"
   ]
  },
  {
   "cell_type": "code",
   "execution_count": 121,
   "id": "32f6ee5b",
   "metadata": {},
   "outputs": [
    {
     "data": {
      "text/plain": [
       "array([False, False, False, False,  True,  True,  True])"
      ]
     },
     "execution_count": 121,
     "metadata": {},
     "output_type": "execute_result"
    }
   ],
   "source": [
    "v1 > v2"
   ]
  },
  {
   "cell_type": "code",
   "execution_count": 122,
   "id": "c0372a30",
   "metadata": {},
   "outputs": [
    {
     "data": {
      "text/plain": [
       "array([77, 84, 38])"
      ]
     },
     "execution_count": 122,
     "metadata": {},
     "output_type": "execute_result"
    }
   ],
   "source": [
    "v1[v1 > v2]"
   ]
  },
  {
   "cell_type": "code",
   "execution_count": 123,
   "id": "16aa8307",
   "metadata": {},
   "outputs": [
    {
     "data": {
      "text/plain": [
       "array([48, 62, 17])"
      ]
     },
     "execution_count": 123,
     "metadata": {},
     "output_type": "execute_result"
    }
   ],
   "source": [
    "v2[v1 > v2]"
   ]
  },
  {
   "cell_type": "code",
   "execution_count": 124,
   "id": "c3797a63",
   "metadata": {},
   "outputs": [
    {
     "data": {
      "text/plain": [
       "array([45, 77, 23, 15, 77, 84, 38])"
      ]
     },
     "execution_count": 124,
     "metadata": {},
     "output_type": "execute_result"
    }
   ],
   "source": [
    "v1"
   ]
  },
  {
   "cell_type": "code",
   "execution_count": 126,
   "id": "a9e5900e",
   "metadata": {},
   "outputs": [
    {
     "data": {
      "text/plain": [
       "array([45, 77, 23, 15, 77])"
      ]
     },
     "execution_count": 126,
     "metadata": {},
     "output_type": "execute_result"
    }
   ],
   "source": [
    "v1[v1 % 2 == 1]"
   ]
  },
  {
   "cell_type": "code",
   "execution_count": 127,
   "id": "9b6deb40",
   "metadata": {},
   "outputs": [
    {
     "data": {
      "text/plain": [
       "array([[45, 77, 23, 15, 77, 84, 38]])"
      ]
     },
     "execution_count": 127,
     "metadata": {},
     "output_type": "execute_result"
    }
   ],
   "source": [
    "v1[True]"
   ]
  },
  {
   "cell_type": "markdown",
   "id": "3e125eb3",
   "metadata": {},
   "source": [
    "#### Orthogonal Vectors"
   ]
  },
  {
   "cell_type": "code",
   "execution_count": 139,
   "id": "fbd5f73c",
   "metadata": {},
   "outputs": [],
   "source": [
    "a1 = np.array([1,0])\n",
    "a2 = np.array([0,1])"
   ]
  },
  {
   "cell_type": "code",
   "execution_count": 140,
   "id": "1b57f557",
   "metadata": {},
   "outputs": [
    {
     "name": "stdout",
     "output_type": "stream",
     "text": [
      "[1 0] [0 1]\n"
     ]
    }
   ],
   "source": [
    "print(a1, a2)"
   ]
  },
  {
   "cell_type": "code",
   "execution_count": 141,
   "id": "b8c2aff0",
   "metadata": {},
   "outputs": [
    {
     "data": {
      "text/plain": [
       "0"
      ]
     },
     "execution_count": 141,
     "metadata": {},
     "output_type": "execute_result"
    }
   ],
   "source": [
    "a1.dot(a2)"
   ]
  },
  {
   "cell_type": "code",
   "execution_count": 168,
   "id": "83c25841",
   "metadata": {},
   "outputs": [
    {
     "data": {
      "text/plain": [
       "<matplotlib.legend.Legend at 0x7f716bccf280>"
      ]
     },
     "execution_count": 168,
     "metadata": {},
     "output_type": "execute_result"
    },
    {
     "data": {
      "image/png": "[encoded data removed]",
      "text/plain": [
       "<Figure size 288x288 with 1 Axes>"
      ]
     },
     "metadata": {
      "needs_background": "light"
     },
     "output_type": "display_data"
    }
   ],
   "source": [
    "plt.figure(figsize=(4,4))\n",
    "plt.title('Orthogonal Vectors')\n",
    "plt.grid()\n",
    "plt.plot(a1, label='a1 vector')\n",
    "plt.plot(a2, label='a2 vector')\n",
    "plt.legend()"
   ]
  },
  {
   "cell_type": "code",
   "execution_count": 161,
   "id": "ece494b3",
   "metadata": {},
   "outputs": [],
   "source": [
    "x1 = np.random.rand(4)\n",
    "x2 = np.random.rand(4)"
   ]
  },
  {
   "cell_type": "code",
   "execution_count": 162,
   "id": "48657731",
   "metadata": {},
   "outputs": [
    {
     "data": {
      "text/plain": [
       "(array([0.50351811, 0.61174017, 0.03633024, 0.90544644]),\n",
       " array([0.89630037, 0.18351984, 0.79054333, 0.26812917]))"
      ]
     },
     "execution_count": 162,
     "metadata": {},
     "output_type": "execute_result"
    }
   ],
   "source": [
    "x1, x2"
   ]
  },
  {
   "cell_type": "code",
   "execution_count": 163,
   "id": "832384c6",
   "metadata": {},
   "outputs": [
    {
     "data": {
      "text/plain": [
       "0.835067156210263"
      ]
     },
     "execution_count": 163,
     "metadata": {},
     "output_type": "execute_result"
    }
   ],
   "source": [
    "x1.dot(x2)"
   ]
  },
  {
   "cell_type": "code",
   "execution_count": 164,
   "id": "13f7a44c",
   "metadata": {},
   "outputs": [
    {
     "data": {
      "text/plain": [
       "0.835067156210263"
      ]
     },
     "execution_count": 164,
     "metadata": {},
     "output_type": "execute_result"
    }
   ],
   "source": [
    "np.dot(x1, x2)"
   ]
  },
  {
   "cell_type": "code",
   "execution_count": 174,
   "id": "e016c3e9",
   "metadata": {},
   "outputs": [
    {
     "data": {
      "text/plain": [
       "'0b1111'"
      ]
     },
     "execution_count": 174,
     "metadata": {},
     "output_type": "execute_result"
    }
   ],
   "source": [
    "bin(15)"
   ]
  },
  {
   "cell_type": "code",
   "execution_count": 175,
   "id": "8cc2c661",
   "metadata": {},
   "outputs": [
    {
     "data": {
      "text/plain": [
       "4"
      ]
     },
     "execution_count": 175,
     "metadata": {},
     "output_type": "execute_result"
    }
   ],
   "source": [
    "4 & 5"
   ]
  },
  {
   "cell_type": "code",
   "execution_count": 177,
   "id": "21e69dc9",
   "metadata": {},
   "outputs": [
    {
     "data": {
      "text/plain": [
       "True"
      ]
     },
     "execution_count": 177,
     "metadata": {},
     "output_type": "execute_result"
    }
   ],
   "source": [
    "56 > 40 & 67 != 23"
   ]
  },
  {
   "cell_type": "code",
   "execution_count": 180,
   "id": "6a7f4930",
   "metadata": {},
   "outputs": [
    {
     "data": {
      "text/plain": [
       "1"
      ]
     },
     "execution_count": 180,
     "metadata": {},
     "output_type": "execute_result"
    }
   ],
   "source": [
    "37 & 1"
   ]
  },
  {
   "cell_type": "code",
   "execution_count": 182,
   "id": "9da2c0d4",
   "metadata": {},
   "outputs": [
    {
     "data": {
      "text/plain": [
       "array([45, 77, 23, 15, 77])"
      ]
     },
     "execution_count": 182,
     "metadata": {},
     "output_type": "execute_result"
    }
   ],
   "source": [
    "v1[v1 & 1 == 1]"
   ]
  },
  {
   "cell_type": "code",
   "execution_count": 183,
   "id": "386ef33c",
   "metadata": {},
   "outputs": [
    {
     "data": {
      "text/plain": [
       "6"
      ]
     },
     "execution_count": 183,
     "metadata": {},
     "output_type": "execute_result"
    }
   ],
   "source": [
    "11 ^ 13"
   ]
  },
  {
   "cell_type": "code",
   "execution_count": 196,
   "id": "0e92b87e",
   "metadata": {},
   "outputs": [],
   "source": [
    "a = 45\n",
    "b = 55"
   ]
  },
  {
   "cell_type": "code",
   "execution_count": 193,
   "id": "5722549e",
   "metadata": {},
   "outputs": [
    {
     "data": {
      "text/plain": [
       "(55, 45)"
      ]
     },
     "execution_count": 193,
     "metadata": {},
     "output_type": "execute_result"
    }
   ],
   "source": [
    "a = a ^ b\n",
    "b = a ^ b\n",
    "a = a ^ b\n",
    "a, b"
   ]
  },
  {
   "cell_type": "code",
   "execution_count": 194,
   "id": "4ae22c2c",
   "metadata": {},
   "outputs": [
    {
     "data": {
      "text/plain": [
       "10"
      ]
     },
     "execution_count": 194,
     "metadata": {},
     "output_type": "execute_result"
    }
   ],
   "source": [
    "5 << 1"
   ]
  },
  {
   "cell_type": "code",
   "execution_count": 195,
   "id": "ae2e7e41",
   "metadata": {},
   "outputs": [],
   "source": [
    "a ^= b"
   ]
  },
  {
   "cell_type": "code",
   "execution_count": 198,
   "id": "f55897ac",
   "metadata": {},
   "outputs": [
    {
     "data": {
      "text/plain": [
       "84"
      ]
     },
     "execution_count": 198,
     "metadata": {},
     "output_type": "execute_result"
    }
   ],
   "source": [
    "v1.max()"
   ]
  },
  {
   "cell_type": "code",
   "execution_count": 199,
   "id": "455e78e4",
   "metadata": {},
   "outputs": [
    {
     "data": {
      "text/plain": [
       "15"
      ]
     },
     "execution_count": 199,
     "metadata": {},
     "output_type": "execute_result"
    }
   ],
   "source": [
    "v1.min()"
   ]
  },
  {
   "cell_type": "code",
   "execution_count": 200,
   "id": "704233a0",
   "metadata": {},
   "outputs": [
    {
     "data": {
      "text/plain": [
       "359"
      ]
     },
     "execution_count": 200,
     "metadata": {},
     "output_type": "execute_result"
    }
   ],
   "source": [
    "v1.sum()"
   ]
  },
  {
   "cell_type": "code",
   "execution_count": 201,
   "id": "1c353558",
   "metadata": {},
   "outputs": [
    {
     "data": {
      "text/plain": [
       "25.981940352671813"
      ]
     },
     "execution_count": 201,
     "metadata": {},
     "output_type": "execute_result"
    }
   ],
   "source": [
    "v1.std()"
   ]
  },
  {
   "cell_type": "code",
   "execution_count": 202,
   "id": "4c5d87b0",
   "metadata": {},
   "outputs": [
    {
     "data": {
      "text/plain": [
       "array([ 45, 122, 145, 160, 237, 321, 359])"
      ]
     },
     "execution_count": 202,
     "metadata": {},
     "output_type": "execute_result"
    }
   ],
   "source": [
    "v1.cumsum()"
   ]
  },
  {
   "cell_type": "code",
   "execution_count": 203,
   "id": "e701275c",
   "metadata": {},
   "outputs": [
    {
     "data": {
      "text/plain": [
       "51.285714285714285"
      ]
     },
     "execution_count": 203,
     "metadata": {},
     "output_type": "execute_result"
    }
   ],
   "source": [
    "v1.mean()"
   ]
  },
  {
   "cell_type": "code",
   "execution_count": 204,
   "id": "9c2dd5f5",
   "metadata": {},
   "outputs": [
    {
     "data": {
      "text/plain": [
       "45.0"
      ]
     },
     "execution_count": 204,
     "metadata": {},
     "output_type": "execute_result"
    }
   ],
   "source": [
    "np.median(v1)"
   ]
  },
  {
   "cell_type": "code",
   "execution_count": 205,
   "id": "9d2834e6",
   "metadata": {},
   "outputs": [],
   "source": [
    "v1.sort()"
   ]
  },
  {
   "cell_type": "code",
   "execution_count": 206,
   "id": "5e8097be",
   "metadata": {},
   "outputs": [
    {
     "data": {
      "text/plain": [
       "array([15, 23, 38, 45, 77, 77, 84])"
      ]
     },
     "execution_count": 206,
     "metadata": {},
     "output_type": "execute_result"
    }
   ],
   "source": [
    "v1"
   ]
  },
  {
   "cell_type": "code",
   "execution_count": 207,
   "id": "5971c330",
   "metadata": {},
   "outputs": [
    {
     "data": {
      "text/plain": [
       "13.0"
      ]
     },
     "execution_count": 207,
     "metadata": {},
     "output_type": "execute_result"
    }
   ],
   "source": [
    "v3.mean()"
   ]
  },
  {
   "cell_type": "code",
   "execution_count": 208,
   "id": "4f37e273",
   "metadata": {},
   "outputs": [
    {
     "data": {
      "text/plain": [
       "13.0"
      ]
     },
     "execution_count": 208,
     "metadata": {},
     "output_type": "execute_result"
    }
   ],
   "source": [
    "np.median(v3)"
   ]
  },
  {
   "cell_type": "code",
   "execution_count": 209,
   "id": "7c211c57",
   "metadata": {},
   "outputs": [
    {
     "data": {
      "text/plain": [
       "16.0"
      ]
     },
     "execution_count": 209,
     "metadata": {},
     "output_type": "execute_result"
    }
   ],
   "source": [
    "v4.mean()"
   ]
  },
  {
   "cell_type": "code",
   "execution_count": 210,
   "id": "82e70b68",
   "metadata": {},
   "outputs": [
    {
     "data": {
      "text/plain": [
       "16.0"
      ]
     },
     "execution_count": 210,
     "metadata": {},
     "output_type": "execute_result"
    }
   ],
   "source": [
    "np.median(v4)"
   ]
  },
  {
   "cell_type": "markdown",
   "id": "c04a019b",
   "metadata": {},
   "source": [
    "#### Linear Combination"
   ]
  },
  {
   "cell_type": "code",
   "execution_count": 214,
   "id": "83746e02",
   "metadata": {},
   "outputs": [
    {
     "data": {
      "text/plain": [
       "[<matplotlib.lines.Line2D at 0x7f716bc98190>]"
      ]
     },
     "execution_count": 214,
     "metadata": {},
     "output_type": "execute_result"
    },
    {
     "data": {
      "image/png": "[encoded data removed]",
      "text/plain": [
       "<Figure size 432x288 with 1 Axes>"
      ]
     },
     "metadata": {
      "needs_background": "light"
     },
     "output_type": "display_data"
    }
   ],
   "source": [
    "plt.plot(v3)\n",
    "plt.plot(v4)"
   ]
  },
  {
   "cell_type": "code",
   "execution_count": 215,
   "id": "91c947ae",
   "metadata": {},
   "outputs": [],
   "source": [
    "v8 = 3 * v3 + 2 * v4"
   ]
  },
  {
   "cell_type": "code",
   "execution_count": 216,
   "id": "e88264ae",
   "metadata": {},
   "outputs": [
    {
     "data": {
      "text/plain": [
       "array([50, 57, 64, 71, 78, 85, 92])"
      ]
     },
     "execution_count": 216,
     "metadata": {},
     "output_type": "execute_result"
    }
   ],
   "source": [
    "v8"
   ]
  },
  {
   "cell_type": "code",
   "execution_count": 217,
   "id": "a2dc4583",
   "metadata": {},
   "outputs": [
    {
     "data": {
      "text/plain": [
       "[<matplotlib.lines.Line2D at 0x7f716bc413a0>]"
      ]
     },
     "execution_count": 217,
     "metadata": {},
     "output_type": "execute_result"
    },
    {
     "data": {
      "image/png": "[encoded data removed]",
      "text/plain": [
       "<Figure size 432x288 with 1 Axes>"
      ]
     },
     "metadata": {
      "needs_background": "light"
     },
     "output_type": "display_data"
    }
   ],
   "source": [
    "plt.plot(v3)\n",
    "plt.plot(v4)\n",
    "plt.plot(v8)"
   ]
  },
  {
   "cell_type": "markdown",
   "id": "24545808",
   "metadata": {},
   "source": [
    "#### Linear Span"
   ]
  },
  {
   "cell_type": "code",
   "execution_count": 218,
   "id": "f1a994f3",
   "metadata": {},
   "outputs": [
    {
     "data": {
      "text/plain": [
       "array([10, 11, 12, 13, 14, 15, 16])"
      ]
     },
     "execution_count": 218,
     "metadata": {},
     "output_type": "execute_result"
    }
   ],
   "source": [
    "v3"
   ]
  },
  {
   "cell_type": "code",
   "execution_count": 219,
   "id": "f777c843",
   "metadata": {},
   "outputs": [
    {
     "data": {
      "text/plain": [
       "array([10, 12, 14, 16, 18, 20, 22])"
      ]
     },
     "execution_count": 219,
     "metadata": {},
     "output_type": "execute_result"
    }
   ],
   "source": [
    "v4"
   ]
  },
  {
   "cell_type": "code",
   "execution_count": 220,
   "id": "3dee4cf0",
   "metadata": {},
   "outputs": [
    {
     "data": {
      "text/plain": [
       "array([100, 110, 120, 130, 140, 150, 160])"
      ]
     },
     "execution_count": 220,
     "metadata": {},
     "output_type": "execute_result"
    }
   ],
   "source": [
    "v3 * v4[0]"
   ]
  },
  {
   "cell_type": "code",
   "execution_count": 221,
   "id": "9b1039fb",
   "metadata": {},
   "outputs": [
    {
     "data": {
      "text/plain": [
       "array([10, 11, 12, 13, 14, 15, 16])"
      ]
     },
     "execution_count": 221,
     "metadata": {},
     "output_type": "execute_result"
    }
   ],
   "source": [
    "v3 * v[1]"
   ]
  },
  {
   "cell_type": "code",
   "execution_count": 223,
   "id": "6330d391",
   "metadata": {},
   "outputs": [
    {
     "data": {
      "text/plain": [
       "[array([100, 120, 140, 160, 180, 200, 220]),\n",
       " array([110, 132, 154, 176, 198, 220, 242]),\n",
       " array([120, 144, 168, 192, 216, 240, 264]),\n",
       " array([130, 156, 182, 208, 234, 260, 286]),\n",
       " array([140, 168, 196, 224, 252, 280, 308]),\n",
       " array([150, 180, 210, 240, 270, 300, 330]),\n",
       " array([160, 192, 224, 256, 288, 320, 352])]"
      ]
     },
     "execution_count": 223,
     "metadata": {},
     "output_type": "execute_result"
    }
   ],
   "source": [
    "[x * v4 for x in v3]"
   ]
  },
  {
   "cell_type": "code",
   "execution_count": 224,
   "id": "cbb8cfc9",
   "metadata": {},
   "outputs": [
    {
     "data": {
      "text/plain": [
       "[array([100, 110, 120, 130, 140, 150, 160]),\n",
       " array([120, 132, 144, 156, 168, 180, 192]),\n",
       " array([140, 154, 168, 182, 196, 210, 224]),\n",
       " array([160, 176, 192, 208, 224, 240, 256]),\n",
       " array([180, 198, 216, 234, 252, 270, 288]),\n",
       " array([200, 220, 240, 260, 280, 300, 320]),\n",
       " array([220, 242, 264, 286, 308, 330, 352])]"
      ]
     },
     "execution_count": 224,
     "metadata": {},
     "output_type": "execute_result"
    }
   ],
   "source": [
    "[x * v3 for x in v4]"
   ]
  },
  {
   "cell_type": "code",
   "execution_count": 228,
   "id": "8b674180",
   "metadata": {},
   "outputs": [
    {
     "data": {
      "text/plain": [
       "array([10, 12, 14, 16, 18, 20, 22])"
      ]
     },
     "execution_count": 228,
     "metadata": {},
     "output_type": "execute_result"
    }
   ],
   "source": [
    "v4"
   ]
  },
  {
   "cell_type": "code",
   "execution_count": 227,
   "id": "1f7f93df",
   "metadata": {},
   "outputs": [
    {
     "data": {
      "text/plain": [
       "array([10, 11, 12, 13, 14, 15, 16])"
      ]
     },
     "execution_count": 227,
     "metadata": {},
     "output_type": "execute_result"
    }
   ],
   "source": [
    "v3"
   ]
  },
  {
   "cell_type": "markdown",
   "id": "c529f971",
   "metadata": {},
   "source": [
    "#### Linear dependent Vectors"
   ]
  },
  {
   "cell_type": "code",
   "execution_count": 231,
   "id": "94c8faab",
   "metadata": {},
   "outputs": [],
   "source": [
    "v9 = v3 * 2.46"
   ]
  },
  {
   "cell_type": "code",
   "execution_count": 232,
   "id": "a44a38a3",
   "metadata": {},
   "outputs": [
    {
     "data": {
      "text/plain": [
       "array([24.6 , 27.06, 29.52, 31.98, 34.44, 36.9 , 39.36])"
      ]
     },
     "execution_count": 232,
     "metadata": {},
     "output_type": "execute_result"
    }
   ],
   "source": [
    "v9"
   ]
  },
  {
   "cell_type": "code",
   "execution_count": 234,
   "id": "adaee0e8",
   "metadata": {},
   "outputs": [
    {
     "data": {
      "text/plain": [
       "[<matplotlib.lines.Line2D at 0x7f716bb6c910>]"
      ]
     },
     "execution_count": 234,
     "metadata": {},
     "output_type": "execute_result"
    },
    {
     "data": {
      "image/png": "[encoded data removed]",
      "text/plain": [
       "<Figure size 432x288 with 1 Axes>"
      ]
     },
     "metadata": {
      "needs_background": "light"
     },
     "output_type": "display_data"
    }
   ],
   "source": [
    "plt.plot(v3)\n",
    "plt.plot(v9)"
   ]
  },
  {
   "cell_type": "code",
   "execution_count": 235,
   "id": "6824dfbc",
   "metadata": {},
   "outputs": [],
   "source": [
    "v11 = np.arange(10)\n",
    "v12 = v11 * 2.54"
   ]
  },
  {
   "cell_type": "code",
   "execution_count": 237,
   "id": "79ee3fcb",
   "metadata": {},
   "outputs": [
    {
     "data": {
      "text/plain": [
       "[<matplotlib.lines.Line2D at 0x7f716ba9da00>]"
      ]
     },
     "execution_count": 237,
     "metadata": {},
     "output_type": "execute_result"
    },
    {
     "data": {
      "image/png": "[encoded data removed]",
      "text/plain": [
       "<Figure size 432x288 with 1 Axes>"
      ]
     },
     "metadata": {
      "needs_background": "light"
     },
     "output_type": "display_data"
    }
   ],
   "source": [
    "plt.plot(v11)\n",
    "plt.plot(v12)"
   ]
  },
  {
   "cell_type": "markdown",
   "id": "3f9e5ca2",
   "metadata": {},
   "source": [
    "#### Cosine similiarity"
   ]
  },
  {
   "cell_type": "code",
   "execution_count": 240,
   "id": "d239c450",
   "metadata": {},
   "outputs": [],
   "source": [
    "cos_sim = np.dot(v3, v4) / (np.linalg.norm(v3) *np.linalg.norm(v4))"
   ]
  },
  {
   "cell_type": "code",
   "execution_count": 241,
   "id": "22aad992",
   "metadata": {},
   "outputs": [
    {
     "data": {
      "text/plain": [
       "0.9957406740559505"
      ]
     },
     "execution_count": 241,
     "metadata": {},
     "output_type": "execute_result"
    }
   ],
   "source": [
    "cos_sim"
   ]
  },
  {
   "cell_type": "code",
   "execution_count": 242,
   "id": "4ce099c7",
   "metadata": {},
   "outputs": [],
   "source": [
    "cos_sim = np.dot(v11, v12) / (np.linalg.norm(v11) *np.linalg.norm(v12))"
   ]
  },
  {
   "cell_type": "code",
   "execution_count": 243,
   "id": "55b645ef",
   "metadata": {},
   "outputs": [
    {
     "data": {
      "text/plain": [
       "1.0"
      ]
     },
     "execution_count": 243,
     "metadata": {},
     "output_type": "execute_result"
    }
   ],
   "source": [
    "cos_sim"
   ]
  },
  {
   "cell_type": "code",
   "execution_count": 244,
   "id": "086861d6",
   "metadata": {},
   "outputs": [
    {
     "data": {
      "text/plain": [
       "0.9271376178075227"
      ]
     },
     "execution_count": 244,
     "metadata": {},
     "output_type": "execute_result"
    }
   ],
   "source": [
    "np.dot(v1, v2) / (np.linalg.norm(v1) *np.linalg.norm(v2))"
   ]
  },
  {
   "cell_type": "code",
   "execution_count": 247,
   "id": "9eb5989d",
   "metadata": {},
   "outputs": [
    {
     "data": {
      "text/plain": [
       "array([-10,  -9,  -8,  -7,  -6,  -5,  -4])"
      ]
     },
     "execution_count": 247,
     "metadata": {},
     "output_type": "execute_result"
    }
   ],
   "source": [
    "v13 = np.arange(-10,-3,1)\n",
    "v13"
   ]
  },
  {
   "cell_type": "code",
   "execution_count": 248,
   "id": "65028152",
   "metadata": {},
   "outputs": [
    {
     "data": {
      "text/plain": [
       "-0.9085697352983415"
      ]
     },
     "execution_count": 248,
     "metadata": {},
     "output_type": "execute_result"
    }
   ],
   "source": [
    "np.dot(v3, v13) / (np.linalg.norm(v3) *np.linalg.norm(v13))"
   ]
  },
  {
   "cell_type": "code",
   "execution_count": 249,
   "id": "1e8e5720",
   "metadata": {},
   "outputs": [
    {
     "data": {
      "text/plain": [
       "array([10, 11, 12, 13, 14, 15, 16])"
      ]
     },
     "execution_count": 249,
     "metadata": {},
     "output_type": "execute_result"
    }
   ],
   "source": [
    "v3"
   ]
  },
  {
   "cell_type": "code",
   "execution_count": 256,
   "id": "d5a6a5aa",
   "metadata": {},
   "outputs": [
    {
     "data": {
      "text/plain": [
       "34.79942528261063"
      ]
     },
     "execution_count": 256,
     "metadata": {},
     "output_type": "execute_result"
    }
   ],
   "source": [
    "np.linalg.norm(v3)"
   ]
  },
  {
   "cell_type": "code",
   "execution_count": 259,
   "id": "686b936a",
   "metadata": {},
   "outputs": [
    {
     "data": {
      "text/plain": [
       "34.79942528261063"
      ]
     },
     "execution_count": 259,
     "metadata": {},
     "output_type": "execute_result"
    }
   ],
   "source": [
    "np.sqrt(sum([n*n for n in v3]))"
   ]
  },
  {
   "cell_type": "code",
   "execution_count": null,
   "id": "d2050870",
   "metadata": {},
   "outputs": [],
   "source": []
  }
 ],
 "metadata": {
  "kernelspec": {
   "display_name": "Python 3",
   "language": "python",
   "name": "python3"
  },
  "language_info": {
   "codemirror_mode": {
    "name": "ipython",
    "version": 3
   },
   "file_extension": ".py",
   "mimetype": "text/x-python",
   "name": "python",
   "nbconvert_exporter": "python",
   "pygments_lexer": "ipython3",
   "version": "3.8.10"
  }
 },
 "nbformat": 4,
 "nbformat_minor": 5
}
