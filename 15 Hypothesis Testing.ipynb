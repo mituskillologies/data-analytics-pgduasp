{
 "cells": [
  {
   "cell_type": "code",
   "execution_count": 2,
   "id": "cdbbd391",
   "metadata": {},
   "outputs": [],
   "source": [
    "import statsmodels.stats.weightstats as st"
   ]
  },
  {
   "cell_type": "code",
   "execution_count": 3,
   "id": "ba73733d",
   "metadata": {},
   "outputs": [],
   "source": [
    "# One-sample Z-test\n",
    "x = [10, 12, 14, 16, 18]"
   ]
  },
  {
   "cell_type": "code",
   "execution_count": 4,
   "id": "77237562",
   "metadata": {},
   "outputs": [],
   "source": [
    "z_statistic, p_value = st.ztest(x, value=10)"
   ]
  },
  {
   "cell_type": "code",
   "execution_count": 5,
   "id": "97af8556",
   "metadata": {},
   "outputs": [
    {
     "data": {
      "text/plain": [
       "2.82842712474619"
      ]
     },
     "execution_count": 5,
     "metadata": {},
     "output_type": "execute_result"
    }
   ],
   "source": [
    "z_statistic"
   ]
  },
  {
   "cell_type": "code",
   "execution_count": 6,
   "id": "6e607f89",
   "metadata": {},
   "outputs": [
    {
     "data": {
      "text/plain": [
       "0.004677734981047266"
      ]
     },
     "execution_count": 6,
     "metadata": {},
     "output_type": "execute_result"
    }
   ],
   "source": [
    "p_value"
   ]
  },
  {
   "cell_type": "code",
   "execution_count": 7,
   "id": "d571ef64",
   "metadata": {},
   "outputs": [],
   "source": [
    "# Two-sample Z-test\n",
    "x1 = [10, 12, 14, 16, 18]\n",
    "x2 = [5, 7, 9, 11, 13]"
   ]
  },
  {
   "cell_type": "code",
   "execution_count": 8,
   "id": "ddc51146",
   "metadata": {},
   "outputs": [],
   "source": [
    "z_statistic, p_value = st.ztest(x1, x2)"
   ]
  },
  {
   "cell_type": "code",
   "execution_count": 9,
   "id": "f553a3c8",
   "metadata": {},
   "outputs": [
    {
     "name": "stdout",
     "output_type": "stream",
     "text": [
      "Z-statistic: 2.5\n",
      "P-value: 0.012419330651552265\n"
     ]
    }
   ],
   "source": [
    "# Print the results\n",
    "print(\"Z-statistic:\", z_statistic)\n",
    "print(\"P-value:\", p_value)"
   ]
  },
  {
   "cell_type": "code",
   "execution_count": 11,
   "id": "454052dd",
   "metadata": {},
   "outputs": [
    {
     "name": "stdout",
     "output_type": "stream",
     "text": [
      "Fail to reject the null hypothesis\n"
     ]
    }
   ],
   "source": [
    "import numpy as np\n",
    "import scipy\n",
    "\n",
    "# Sample mean\n",
    "x_bar = 67\n",
    "\n",
    "# Sample standard deviation\n",
    "s = 0.5\n",
    "\n",
    "# Population mean (null hypothesis)\n",
    "mu_null = 67.5\n",
    "\n",
    "# Calculate the z-score\n",
    "z = (x_bar - mu_null) / s\n",
    "\n",
    "# Calculate the p-value\n",
    "p_value = np.abs(1 - np.float64(scipy.stats.norm.cdf(z)))\n",
    "\n",
    "# Set the significance level\n",
    "alpha = 0.05\n",
    "\n",
    "# If the p-value is less than the significance level, reject the null hypothesis\n",
    "if p_value < alpha:\n",
    "    print(\"Reject the null hypothesis\")\n",
    "else:\n",
    "    print(\"Fail to reject the null hypothesis\")"
   ]
  },
  {
   "cell_type": "markdown",
   "id": "2ffefc79",
   "metadata": {},
   "source": [
    "This example shows how to use a z-test to test the hypothesis that the mean height of all adults in the United States is equal to 67.5 inches. The sample mean is 67 inches and the sample standard deviation is 0.5 inches.\n",
    "\n",
    "To calculate the z-score, we subtract the population mean (67.5 inches) from the sample mean (67 inches) and then divide by the standard error of the mean (0.5 inches). The z-score is -1.0.\n",
    "\n",
    "To calculate the p-value, we use the standard normal cumulative distribution function (CDF). The CDF tells us the probability that a standard normal variable will be less than a certain value. In this case, we want to know the probability that a standard normal variable will be less than -1.0. The CDF tells us that this probability is 0.15865525393145707.\n",
    "\n",
    "The p-value is the probability of obtaining a sample mean as extreme or more extreme than the one observed, assuming that the null hypothesis is true. In this case, the p-value is 0.15865525393145707, which is less than the significance level of 0.05.\n",
    "\n",
    "Therefore, we reject the null hypothesis and conclude that the mean height of all adults in the United States is not equal to 67.5 inches."
   ]
  },
  {
   "cell_type": "code",
   "execution_count": null,
   "id": "3506cafc",
   "metadata": {},
   "outputs": [],
   "source": []
  }
 ],
 "metadata": {
  "kernelspec": {
   "display_name": "Python 3",
   "language": "python",
   "name": "python3"
  },
  "language_info": {
   "codemirror_mode": {
    "name": "ipython",
    "version": 3
   },
   "file_extension": ".py",
   "mimetype": "text/x-python",
   "name": "python",
   "nbconvert_exporter": "python",
   "pygments_lexer": "ipython3",
   "version": "3.8.10"
  }
 },
 "nbformat": 4,
 "nbformat_minor": 5
}
