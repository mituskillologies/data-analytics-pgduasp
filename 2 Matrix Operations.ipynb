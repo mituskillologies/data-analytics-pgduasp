{
 "cells": [
  {
   "cell_type": "code",
   "execution_count": 1,
   "id": "be159b21",
   "metadata": {},
   "outputs": [],
   "source": [
    "import numpy as np"
   ]
  },
  {
   "cell_type": "markdown",
   "id": "520c9353",
   "metadata": {},
   "source": [
    "#### Create a matrix"
   ]
  },
  {
   "cell_type": "code",
   "execution_count": 3,
   "id": "b9a937b9",
   "metadata": {},
   "outputs": [],
   "source": [
    "A = np.array([[5,6,1],[7,8,9],[1,0,2],[4,3,6]])"
   ]
  },
  {
   "cell_type": "code",
   "execution_count": 4,
   "id": "b38d5036",
   "metadata": {},
   "outputs": [
    {
     "data": {
      "text/plain": [
       "array([[5, 6, 1],\n",
       "       [7, 8, 9],\n",
       "       [1, 0, 2],\n",
       "       [4, 3, 6]])"
      ]
     },
     "execution_count": 4,
     "metadata": {},
     "output_type": "execute_result"
    }
   ],
   "source": [
    "A"
   ]
  },
  {
   "cell_type": "code",
   "execution_count": 6,
   "id": "6a6dac47",
   "metadata": {},
   "outputs": [
    {
     "name": "stdout",
     "output_type": "stream",
     "text": [
      "[[5 6 1]\n",
      " [7 8 9]\n",
      " [1 0 2]\n",
      " [4 3 6]]\n"
     ]
    }
   ],
   "source": [
    "print(A)"
   ]
  },
  {
   "cell_type": "code",
   "execution_count": 7,
   "id": "09319e90",
   "metadata": {},
   "outputs": [
    {
     "data": {
      "text/plain": [
       "dtype('int64')"
      ]
     },
     "execution_count": 7,
     "metadata": {},
     "output_type": "execute_result"
    }
   ],
   "source": [
    "# data type of variables\n",
    "A.dtype"
   ]
  },
  {
   "cell_type": "code",
   "execution_count": 8,
   "id": "dd065914",
   "metadata": {},
   "outputs": [
    {
     "data": {
      "text/plain": [
       "2"
      ]
     },
     "execution_count": 8,
     "metadata": {},
     "output_type": "execute_result"
    }
   ],
   "source": [
    "# number of dimensions\n",
    "A.ndim"
   ]
  },
  {
   "cell_type": "code",
   "execution_count": 9,
   "id": "720a9e64",
   "metadata": {},
   "outputs": [
    {
     "data": {
      "text/plain": [
       "12"
      ]
     },
     "execution_count": 9,
     "metadata": {},
     "output_type": "execute_result"
    }
   ],
   "source": [
    "# total number of elements\n",
    "A.size"
   ]
  },
  {
   "cell_type": "code",
   "execution_count": 10,
   "id": "8f621782",
   "metadata": {},
   "outputs": [
    {
     "data": {
      "text/plain": [
       "(4, 3)"
      ]
     },
     "execution_count": 10,
     "metadata": {},
     "output_type": "execute_result"
    }
   ],
   "source": [
    "# order of matrix m x n (m-rows, n-columns)\n",
    "A.shape"
   ]
  },
  {
   "cell_type": "code",
   "execution_count": 11,
   "id": "e78af215",
   "metadata": {},
   "outputs": [
    {
     "data": {
      "text/plain": [
       "4"
      ]
     },
     "execution_count": 11,
     "metadata": {},
     "output_type": "execute_result"
    }
   ],
   "source": [
    "A.shape[0]"
   ]
  },
  {
   "cell_type": "code",
   "execution_count": 12,
   "id": "8b872a16",
   "metadata": {},
   "outputs": [
    {
     "data": {
      "text/plain": [
       "3"
      ]
     },
     "execution_count": 12,
     "metadata": {},
     "output_type": "execute_result"
    }
   ],
   "source": [
    "A.shape[1]"
   ]
  },
  {
   "cell_type": "code",
   "execution_count": 15,
   "id": "872b2697",
   "metadata": {},
   "outputs": [],
   "source": [
    "A = np.array([[5,6,1],[7,8,9],[1,0,2],[4,3,6]], dtype=np.int16)"
   ]
  },
  {
   "cell_type": "code",
   "execution_count": 16,
   "id": "ef82e4e5",
   "metadata": {},
   "outputs": [
    {
     "data": {
      "text/plain": [
       "array([[5, 6, 1],\n",
       "       [7, 8, 9],\n",
       "       [1, 0, 2],\n",
       "       [4, 3, 6]], dtype=int16)"
      ]
     },
     "execution_count": 16,
     "metadata": {},
     "output_type": "execute_result"
    }
   ],
   "source": [
    "A"
   ]
  },
  {
   "cell_type": "code",
   "execution_count": 17,
   "id": "d57b5cab",
   "metadata": {},
   "outputs": [],
   "source": [
    "A1 = np.array([[5,6,1],[7,8,9],[1,0,2],[4,3,6]], dtype=np.float32)"
   ]
  },
  {
   "cell_type": "code",
   "execution_count": 18,
   "id": "52a0f7f1",
   "metadata": {},
   "outputs": [
    {
     "data": {
      "text/plain": [
       "array([[5., 6., 1.],\n",
       "       [7., 8., 9.],\n",
       "       [1., 0., 2.],\n",
       "       [4., 3., 6.]], dtype=float32)"
      ]
     },
     "execution_count": 18,
     "metadata": {},
     "output_type": "execute_result"
    }
   ],
   "source": [
    "A1"
   ]
  },
  {
   "cell_type": "markdown",
   "id": "338b1352",
   "metadata": {},
   "source": [
    "#### Create a matrix from vector"
   ]
  },
  {
   "cell_type": "code",
   "execution_count": 20,
   "id": "2e908afc",
   "metadata": {},
   "outputs": [],
   "source": [
    "v1 = np.array([5,7,6,12,87,43,22,5,64])"
   ]
  },
  {
   "cell_type": "code",
   "execution_count": 21,
   "id": "bb66dc6e",
   "metadata": {},
   "outputs": [
    {
     "data": {
      "text/plain": [
       "(9,)"
      ]
     },
     "execution_count": 21,
     "metadata": {},
     "output_type": "execute_result"
    }
   ],
   "source": [
    "v1.shape"
   ]
  },
  {
   "cell_type": "code",
   "execution_count": 22,
   "id": "4b496b43",
   "metadata": {},
   "outputs": [
    {
     "data": {
      "text/plain": [
       "array([[ 5,  7,  6],\n",
       "       [12, 87, 43],\n",
       "       [22,  5, 64]])"
      ]
     },
     "execution_count": 22,
     "metadata": {},
     "output_type": "execute_result"
    }
   ],
   "source": [
    "v1.reshape(3,3)"
   ]
  },
  {
   "cell_type": "code",
   "execution_count": 23,
   "id": "1a6d6cdd",
   "metadata": {},
   "outputs": [
    {
     "name": "stdout",
     "output_type": "stream",
     "text": [
      "[[ 5  7  6]\n",
      " [12 87 43]\n",
      " [22  5 64]]\n"
     ]
    }
   ],
   "source": [
    "B = v1.reshape(3,3)\n",
    "print(B)"
   ]
  },
  {
   "cell_type": "code",
   "execution_count": 24,
   "id": "585922f7",
   "metadata": {},
   "outputs": [
    {
     "ename": "ValueError",
     "evalue": "cannot reshape array of size 9 into shape (3,4)",
     "output_type": "error",
     "traceback": [
      "\u001b[0;31m---------------------------------------------------------------------------\u001b[0m",
      "\u001b[0;31mValueError\u001b[0m                                Traceback (most recent call last)",
      "\u001b[0;32m<ipython-input-24-e6e548b858ec>\u001b[0m in \u001b[0;36m<module>\u001b[0;34m\u001b[0m\n\u001b[0;32m----> 1\u001b[0;31m \u001b[0mv1\u001b[0m\u001b[0;34m.\u001b[0m\u001b[0mreshape\u001b[0m\u001b[0;34m(\u001b[0m\u001b[0;36m3\u001b[0m\u001b[0;34m,\u001b[0m\u001b[0;36m4\u001b[0m\u001b[0;34m)\u001b[0m\u001b[0;34m\u001b[0m\u001b[0;34m\u001b[0m\u001b[0m\n\u001b[0m",
      "\u001b[0;31mValueError\u001b[0m: cannot reshape array of size 9 into shape (3,4)"
     ]
    }
   ],
   "source": [
    "v1.reshape(3,4)"
   ]
  },
  {
   "cell_type": "code",
   "execution_count": 25,
   "id": "b5084937",
   "metadata": {},
   "outputs": [
    {
     "data": {
      "text/plain": [
       "array([[ 5,  7,  6],\n",
       "       [12, 87, 43],\n",
       "       [22,  5, 64]])"
      ]
     },
     "execution_count": 25,
     "metadata": {},
     "output_type": "execute_result"
    }
   ],
   "source": [
    "np.reshape(v1, (3,3))"
   ]
  },
  {
   "cell_type": "code",
   "execution_count": 26,
   "id": "135d3fc7",
   "metadata": {},
   "outputs": [
    {
     "data": {
      "text/plain": [
       "array([[ 5],\n",
       "       [ 7],\n",
       "       [ 6],\n",
       "       [12],\n",
       "       [87],\n",
       "       [43],\n",
       "       [22],\n",
       "       [ 5],\n",
       "       [64]])"
      ]
     },
     "execution_count": 26,
     "metadata": {},
     "output_type": "execute_result"
    }
   ],
   "source": [
    "v1.reshape(9,1)"
   ]
  },
  {
   "cell_type": "code",
   "execution_count": 27,
   "id": "0f65385d",
   "metadata": {},
   "outputs": [
    {
     "data": {
      "text/plain": [
       "array([[ 5,  7,  6, 12, 87, 43, 22,  5, 64]])"
      ]
     },
     "execution_count": 27,
     "metadata": {},
     "output_type": "execute_result"
    }
   ],
   "source": [
    "v1.reshape(1,9)"
   ]
  },
  {
   "cell_type": "code",
   "execution_count": 31,
   "id": "1857418f",
   "metadata": {},
   "outputs": [],
   "source": [
    "Z = np.zeros((3,4))"
   ]
  },
  {
   "cell_type": "code",
   "execution_count": 32,
   "id": "6be83841",
   "metadata": {},
   "outputs": [
    {
     "data": {
      "text/plain": [
       "array([[0., 0., 0., 0.],\n",
       "       [0., 0., 0., 0.],\n",
       "       [0., 0., 0., 0.]])"
      ]
     },
     "execution_count": 32,
     "metadata": {},
     "output_type": "execute_result"
    }
   ],
   "source": [
    "# Zero matrix\n",
    "Z"
   ]
  },
  {
   "cell_type": "code",
   "execution_count": 35,
   "id": "aac1c904",
   "metadata": {},
   "outputs": [],
   "source": [
    "U = np.ones((4,2))"
   ]
  },
  {
   "cell_type": "code",
   "execution_count": 36,
   "id": "78d09f05",
   "metadata": {},
   "outputs": [
    {
     "data": {
      "text/plain": [
       "array([[1., 1.],\n",
       "       [1., 1.],\n",
       "       [1., 1.],\n",
       "       [1., 1.]])"
      ]
     },
     "execution_count": 36,
     "metadata": {},
     "output_type": "execute_result"
    }
   ],
   "source": [
    "# Unit Matrix\n",
    "U"
   ]
  },
  {
   "cell_type": "code",
   "execution_count": 37,
   "id": "29f90927",
   "metadata": {},
   "outputs": [],
   "source": [
    "Z = np.zeros((3,4), dtype=np.int8)"
   ]
  },
  {
   "cell_type": "code",
   "execution_count": 38,
   "id": "e8bf69c0",
   "metadata": {},
   "outputs": [
    {
     "data": {
      "text/plain": [
       "array([[0, 0, 0, 0],\n",
       "       [0, 0, 0, 0],\n",
       "       [0, 0, 0, 0]], dtype=int8)"
      ]
     },
     "execution_count": 38,
     "metadata": {},
     "output_type": "execute_result"
    }
   ],
   "source": [
    "Z"
   ]
  },
  {
   "cell_type": "code",
   "execution_count": 39,
   "id": "715ad237",
   "metadata": {},
   "outputs": [],
   "source": [
    "C = np.zeros((3,3), dtype=np.bool_)"
   ]
  },
  {
   "cell_type": "code",
   "execution_count": 40,
   "id": "7d237711",
   "metadata": {},
   "outputs": [
    {
     "data": {
      "text/plain": [
       "array([[False, False, False],\n",
       "       [False, False, False],\n",
       "       [False, False, False]])"
      ]
     },
     "execution_count": 40,
     "metadata": {},
     "output_type": "execute_result"
    }
   ],
   "source": [
    "C"
   ]
  },
  {
   "cell_type": "markdown",
   "id": "772a7df0",
   "metadata": {},
   "source": [
    "#### Matrix Iterations"
   ]
  },
  {
   "cell_type": "code",
   "execution_count": 42,
   "id": "3d2496e0",
   "metadata": {},
   "outputs": [
    {
     "data": {
      "text/plain": [
       "array([[5, 6, 1],\n",
       "       [7, 8, 9],\n",
       "       [1, 0, 2],\n",
       "       [4, 3, 6]], dtype=int16)"
      ]
     },
     "execution_count": 42,
     "metadata": {},
     "output_type": "execute_result"
    }
   ],
   "source": [
    "A"
   ]
  },
  {
   "cell_type": "code",
   "execution_count": 43,
   "id": "7d7845b2",
   "metadata": {},
   "outputs": [
    {
     "data": {
      "text/plain": [
       "array([5, 6, 1], dtype=int16)"
      ]
     },
     "execution_count": 43,
     "metadata": {},
     "output_type": "execute_result"
    }
   ],
   "source": [
    "A[0]"
   ]
  },
  {
   "cell_type": "code",
   "execution_count": 44,
   "id": "69389643",
   "metadata": {},
   "outputs": [
    {
     "name": "stdout",
     "output_type": "stream",
     "text": [
      "[5 6 1]\n",
      "[7 8 9]\n",
      "[1 0 2]\n",
      "[4 3 6]\n"
     ]
    }
   ],
   "source": [
    "for row in A:\n",
    "    print(row)"
   ]
  },
  {
   "cell_type": "code",
   "execution_count": 45,
   "id": "7281b57a",
   "metadata": {},
   "outputs": [
    {
     "data": {
      "text/plain": [
       "0"
      ]
     },
     "execution_count": 45,
     "metadata": {},
     "output_type": "execute_result"
    }
   ],
   "source": [
    "A[2][1]"
   ]
  },
  {
   "cell_type": "code",
   "execution_count": 48,
   "id": "38b9514d",
   "metadata": {},
   "outputs": [
    {
     "name": "stdout",
     "output_type": "stream",
     "text": [
      "5 6 1 \n",
      "7 8 9 \n",
      "1 0 2 \n",
      "4 3 6 \n"
     ]
    }
   ],
   "source": [
    "for row in A:\n",
    "    for value in row:\n",
    "        print(value, end=' ')\n",
    "    print()"
   ]
  },
  {
   "cell_type": "code",
   "execution_count": 49,
   "id": "0acb5898",
   "metadata": {},
   "outputs": [],
   "source": [
    "# Read the dimensions of matrix from user and intialize it\n",
    "# by user input "
   ]
  },
  {
   "cell_type": "code",
   "execution_count": 53,
   "id": "34a33c7a",
   "metadata": {},
   "outputs": [
    {
     "name": "stdout",
     "output_type": "stream",
     "text": [
      "Enter number of rows   : 2\n",
      "Enter number of columns: 2\n",
      "Enter a number: 34\n",
      "Enter a number: 55\n",
      "Enter a number: 66\n",
      "Enter a number: 33\n",
      "Matrix:\n",
      " [[34 55]\n",
      " [66 33]]\n"
     ]
    }
   ],
   "source": [
    "rows = int(input('Enter number of rows   : '))\n",
    "cols = int(input('Enter number of columns: '))\n",
    "M = np.zeros((rows, cols), dtype=np.int16)\n",
    "for r in range(rows):\n",
    "    for c in range(cols):\n",
    "        num = int(input('Enter a number: '))\n",
    "        M[r][c] = num\n",
    "        \n",
    "print('Matrix:\\n', M)"
   ]
  },
  {
   "cell_type": "markdown",
   "id": "35e9d770",
   "metadata": {},
   "source": [
    "#### Scalar operations"
   ]
  },
  {
   "cell_type": "code",
   "execution_count": 55,
   "id": "dec8f468",
   "metadata": {},
   "outputs": [
    {
     "data": {
      "text/plain": [
       "array([[5, 6, 1],\n",
       "       [7, 8, 9],\n",
       "       [1, 0, 2],\n",
       "       [4, 3, 6]], dtype=int16)"
      ]
     },
     "execution_count": 55,
     "metadata": {},
     "output_type": "execute_result"
    }
   ],
   "source": [
    "A"
   ]
  },
  {
   "cell_type": "code",
   "execution_count": 56,
   "id": "e505c1c1",
   "metadata": {},
   "outputs": [
    {
     "data": {
      "text/plain": [
       "array([[10, 11,  6],\n",
       "       [12, 13, 14],\n",
       "       [ 6,  5,  7],\n",
       "       [ 9,  8, 11]], dtype=int16)"
      ]
     },
     "execution_count": 56,
     "metadata": {},
     "output_type": "execute_result"
    }
   ],
   "source": [
    "A + 5"
   ]
  },
  {
   "cell_type": "code",
   "execution_count": 57,
   "id": "c859e265",
   "metadata": {},
   "outputs": [
    {
     "data": {
      "text/plain": [
       "array([[15, 18,  3],\n",
       "       [21, 24, 27],\n",
       "       [ 3,  0,  6],\n",
       "       [12,  9, 18]], dtype=int16)"
      ]
     },
     "execution_count": 57,
     "metadata": {},
     "output_type": "execute_result"
    }
   ],
   "source": [
    "A * 3"
   ]
  },
  {
   "cell_type": "code",
   "execution_count": 58,
   "id": "fafdc72d",
   "metadata": {},
   "outputs": [
    {
     "data": {
      "text/plain": [
       "array([[ 3,  4, -1],\n",
       "       [ 5,  6,  7],\n",
       "       [-1, -2,  0],\n",
       "       [ 2,  1,  4]], dtype=int16)"
      ]
     },
     "execution_count": 58,
     "metadata": {},
     "output_type": "execute_result"
    }
   ],
   "source": [
    "A - 2"
   ]
  },
  {
   "cell_type": "code",
   "execution_count": 59,
   "id": "882d7d9b",
   "metadata": {},
   "outputs": [
    {
     "data": {
      "text/plain": [
       "array([[3, 4, 1],\n",
       "       [5, 6, 7],\n",
       "       [1, 2, 0],\n",
       "       [2, 1, 4]], dtype=int16)"
      ]
     },
     "execution_count": 59,
     "metadata": {},
     "output_type": "execute_result"
    }
   ],
   "source": [
    "abs(A - 2)"
   ]
  },
  {
   "cell_type": "code",
   "execution_count": 60,
   "id": "cc6a7353",
   "metadata": {},
   "outputs": [
    {
     "data": {
      "text/plain": [
       "array([[2.5, 3. , 0.5],\n",
       "       [3.5, 4. , 4.5],\n",
       "       [0.5, 0. , 1. ],\n",
       "       [2. , 1.5, 3. ]])"
      ]
     },
     "execution_count": 60,
     "metadata": {},
     "output_type": "execute_result"
    }
   ],
   "source": [
    "A / 2"
   ]
  },
  {
   "cell_type": "code",
   "execution_count": 61,
   "id": "bd4f701f",
   "metadata": {},
   "outputs": [
    {
     "data": {
      "text/plain": [
       "array([[1, 0, 1],\n",
       "       [1, 0, 1],\n",
       "       [1, 0, 0],\n",
       "       [0, 1, 0]], dtype=int16)"
      ]
     },
     "execution_count": 61,
     "metadata": {},
     "output_type": "execute_result"
    }
   ],
   "source": [
    "A % 2"
   ]
  },
  {
   "cell_type": "code",
   "execution_count": 62,
   "id": "6ffb792b",
   "metadata": {},
   "outputs": [
    {
     "data": {
      "text/plain": [
       "array([[False,  True, False],\n",
       "       [ True,  True,  True],\n",
       "       [False, False, False],\n",
       "       [False, False,  True]])"
      ]
     },
     "execution_count": 62,
     "metadata": {},
     "output_type": "execute_result"
    }
   ],
   "source": [
    "A > 5"
   ]
  },
  {
   "cell_type": "code",
   "execution_count": 63,
   "id": "b76762c8",
   "metadata": {},
   "outputs": [
    {
     "data": {
      "text/plain": [
       "array([[ True, False,  True],\n",
       "       [False, False, False],\n",
       "       [ True,  True,  True],\n",
       "       [ True,  True, False]])"
      ]
     },
     "execution_count": 63,
     "metadata": {},
     "output_type": "execute_result"
    }
   ],
   "source": [
    "A <= 5"
   ]
  },
  {
   "cell_type": "code",
   "execution_count": 64,
   "id": "018f418d",
   "metadata": {},
   "outputs": [
    {
     "data": {
      "text/plain": [
       "array([[ 5,  7,  6],\n",
       "       [12, 87, 43],\n",
       "       [22,  5, 64]])"
      ]
     },
     "execution_count": 64,
     "metadata": {},
     "output_type": "execute_result"
    }
   ],
   "source": [
    "B"
   ]
  },
  {
   "cell_type": "markdown",
   "id": "5d3734f7",
   "metadata": {},
   "source": [
    "#### Matrix Operations"
   ]
  },
  {
   "cell_type": "code",
   "execution_count": 74,
   "id": "34ef8bba",
   "metadata": {},
   "outputs": [],
   "source": [
    "D = np.empty((4,3), dtype=np.int16)"
   ]
  },
  {
   "cell_type": "code",
   "execution_count": 82,
   "id": "8e3dde33",
   "metadata": {},
   "outputs": [
    {
     "data": {
      "text/plain": [
       "2"
      ]
     },
     "execution_count": 82,
     "metadata": {},
     "output_type": "execute_result"
    }
   ],
   "source": [
    "np.random.randint(2,56)"
   ]
  },
  {
   "cell_type": "code",
   "execution_count": 88,
   "id": "608b9888",
   "metadata": {},
   "outputs": [],
   "source": [
    "# create a matrix with random values\n",
    "M = np.zeros((4,3), dtype=np.int16)\n",
    "for r in range(4):\n",
    "    for c in range(3):\n",
    "        M[r][c] = np.random.randint(2,17)"
   ]
  },
  {
   "cell_type": "code",
   "execution_count": 89,
   "id": "8fe3117f",
   "metadata": {},
   "outputs": [
    {
     "data": {
      "text/plain": [
       "array([[11,  7, 16],\n",
       "       [12,  3, 16],\n",
       "       [ 2, 16,  3],\n",
       "       [ 3,  7,  2]], dtype=int16)"
      ]
     },
     "execution_count": 89,
     "metadata": {},
     "output_type": "execute_result"
    }
   ],
   "source": [
    "M"
   ]
  },
  {
   "cell_type": "code",
   "execution_count": 90,
   "id": "69d14701",
   "metadata": {},
   "outputs": [],
   "source": [
    "N = A + M"
   ]
  },
  {
   "cell_type": "code",
   "execution_count": 91,
   "id": "5fc620d4",
   "metadata": {},
   "outputs": [
    {
     "data": {
      "text/plain": [
       "array([[16, 13, 17],\n",
       "       [19, 11, 25],\n",
       "       [ 3, 16,  5],\n",
       "       [ 7, 10,  8]], dtype=int16)"
      ]
     },
     "execution_count": 91,
     "metadata": {},
     "output_type": "execute_result"
    }
   ],
   "source": [
    "N"
   ]
  },
  {
   "cell_type": "code",
   "execution_count": 92,
   "id": "fc03bd56",
   "metadata": {},
   "outputs": [],
   "source": [
    "S = A - M"
   ]
  },
  {
   "cell_type": "code",
   "execution_count": 93,
   "id": "ffd42438",
   "metadata": {},
   "outputs": [
    {
     "data": {
      "text/plain": [
       "array([[ -6,  -1, -15],\n",
       "       [ -5,   5,  -7],\n",
       "       [ -1, -16,  -1],\n",
       "       [  1,  -4,   4]], dtype=int16)"
      ]
     },
     "execution_count": 93,
     "metadata": {},
     "output_type": "execute_result"
    }
   ],
   "source": [
    "S"
   ]
  },
  {
   "cell_type": "code",
   "execution_count": 99,
   "id": "383145f3",
   "metadata": {},
   "outputs": [
    {
     "data": {
      "text/plain": [
       "array([[32, 26, 34],\n",
       "       [38, 22, 50],\n",
       "       [ 6, 32, 10],\n",
       "       [14, 20, 16]], dtype=int16)"
      ]
     },
     "execution_count": 99,
     "metadata": {},
     "output_type": "execute_result"
    }
   ],
   "source": [
    "(A + M) * 2"
   ]
  },
  {
   "cell_type": "code",
   "execution_count": 100,
   "id": "c1c1f42e",
   "metadata": {},
   "outputs": [
    {
     "data": {
      "text/plain": [
       "array([[32, 26, 34],\n",
       "       [38, 22, 50],\n",
       "       [ 6, 32, 10],\n",
       "       [14, 20, 16]], dtype=int16)"
      ]
     },
     "execution_count": 100,
     "metadata": {},
     "output_type": "execute_result"
    }
   ],
   "source": [
    "2*A + 2*M"
   ]
  },
  {
   "cell_type": "code",
   "execution_count": 101,
   "id": "a701fccf",
   "metadata": {},
   "outputs": [
    {
     "data": {
      "text/plain": [
       "array([[25, 30,  5],\n",
       "       [35, 40, 45],\n",
       "       [ 5,  0, 10],\n",
       "       [20, 15, 30]], dtype=int16)"
      ]
     },
     "execution_count": 101,
     "metadata": {},
     "output_type": "execute_result"
    }
   ],
   "source": [
    "k=2\n",
    "l=3\n",
    "(k+l) * A"
   ]
  },
  {
   "cell_type": "code",
   "execution_count": 102,
   "id": "cb60dd82",
   "metadata": {},
   "outputs": [
    {
     "data": {
      "text/plain": [
       "array([[25, 30,  5],\n",
       "       [35, 40, 45],\n",
       "       [ 5,  0, 10],\n",
       "       [20, 15, 30]], dtype=int16)"
      ]
     },
     "execution_count": 102,
     "metadata": {},
     "output_type": "execute_result"
    }
   ],
   "source": [
    "k*A + l*A "
   ]
  },
  {
   "cell_type": "code",
   "execution_count": 105,
   "id": "725c7f45",
   "metadata": {},
   "outputs": [
    {
     "data": {
      "text/plain": [
       "(array([[30, 36,  6],\n",
       "        [42, 48, 54],\n",
       "        [ 6,  0, 12],\n",
       "        [24, 18, 36]], dtype=int16),\n",
       " array([[30, 36,  6],\n",
       "        [42, 48, 54],\n",
       "        [ 6,  0, 12],\n",
       "        [24, 18, 36]], dtype=int16),\n",
       " array([[30, 36,  6],\n",
       "        [42, 48, 54],\n",
       "        [ 6,  0, 12],\n",
       "        [24, 18, 36]], dtype=int16))"
      ]
     },
     "execution_count": 105,
     "metadata": {},
     "output_type": "execute_result"
    }
   ],
   "source": [
    "(k*l)*A, k*(l*A), l*(k*A)"
   ]
  },
  {
   "cell_type": "code",
   "execution_count": 110,
   "id": "c9cafdc2",
   "metadata": {},
   "outputs": [
    {
     "data": {
      "text/plain": [
       "(array([[-10, -12,  -2],\n",
       "        [-14, -16, -18],\n",
       "        [ -2,   0,  -4],\n",
       "        [ -8,  -6, -12]], dtype=int16),\n",
       " array([[-10, -12,  -2],\n",
       "        [-14, -16, -18],\n",
       "        [ -2,   0,  -4],\n",
       "        [ -8,  -6, -12]], dtype=int16),\n",
       " array([[-10, -12,  -2],\n",
       "        [-14, -16, -18],\n",
       "        [ -2,   0,  -4],\n",
       "        [ -8,  -6, -12]], dtype=int16))"
      ]
     },
     "execution_count": 110,
     "metadata": {},
     "output_type": "execute_result"
    }
   ],
   "source": [
    "(-k)*A, -(k*A), k*(-A)"
   ]
  },
  {
   "cell_type": "code",
   "execution_count": 112,
   "id": "13ce7684",
   "metadata": {},
   "outputs": [
    {
     "data": {
      "text/plain": [
       "(array([[5, 6, 1],\n",
       "        [7, 8, 9],\n",
       "        [1, 0, 2],\n",
       "        [4, 3, 6]], dtype=int16),\n",
       " array([[5, 6, 1],\n",
       "        [7, 8, 9],\n",
       "        [1, 0, 2],\n",
       "        [4, 3, 6]], dtype=int16))"
      ]
     },
     "execution_count": 112,
     "metadata": {},
     "output_type": "execute_result"
    }
   ],
   "source": [
    "1 * A, A"
   ]
  },
  {
   "cell_type": "code",
   "execution_count": 114,
   "id": "8554d6be",
   "metadata": {},
   "outputs": [
    {
     "data": {
      "text/plain": [
       "(array([[-5, -6, -1],\n",
       "        [-7, -8, -9],\n",
       "        [-1,  0, -2],\n",
       "        [-4, -3, -6]], dtype=int16),\n",
       " array([[-5, -6, -1],\n",
       "        [-7, -8, -9],\n",
       "        [-1,  0, -2],\n",
       "        [-4, -3, -6]], dtype=int16))"
      ]
     },
     "execution_count": 114,
     "metadata": {},
     "output_type": "execute_result"
    }
   ],
   "source": [
    "-1 * A, -A"
   ]
  },
  {
   "cell_type": "code",
   "execution_count": 116,
   "id": "62f922a7",
   "metadata": {},
   "outputs": [
    {
     "data": {
      "text/plain": [
       "(4, 3)"
      ]
     },
     "execution_count": 116,
     "metadata": {},
     "output_type": "execute_result"
    }
   ],
   "source": [
    "M.shape"
   ]
  },
  {
   "cell_type": "code",
   "execution_count": 117,
   "id": "cd4d156d",
   "metadata": {},
   "outputs": [
    {
     "data": {
      "text/plain": [
       "(4, 3)"
      ]
     },
     "execution_count": 117,
     "metadata": {},
     "output_type": "execute_result"
    }
   ],
   "source": [
    "A.shape"
   ]
  },
  {
   "cell_type": "code",
   "execution_count": 119,
   "id": "a584cd99",
   "metadata": {},
   "outputs": [
    {
     "data": {
      "text/plain": [
       "(array([[5, 6, 1],\n",
       "        [7, 8, 9],\n",
       "        [1, 0, 2],\n",
       "        [4, 3, 6]], dtype=int16),\n",
       " array([[11,  7, 16],\n",
       "        [12,  3, 16],\n",
       "        [ 2, 16,  3],\n",
       "        [ 3,  7,  2]], dtype=int16),\n",
       " array([[ 55,  42,  16],\n",
       "        [ 84,  24, 144],\n",
       "        [  2,   0,   6],\n",
       "        [ 12,  21,  12]], dtype=int16))"
      ]
     },
     "execution_count": 119,
     "metadata": {},
     "output_type": "execute_result"
    }
   ],
   "source": [
    "A, M, A * M"
   ]
  },
  {
   "cell_type": "code",
   "execution_count": 121,
   "id": "7f5b5357",
   "metadata": {},
   "outputs": [],
   "source": [
    "P = np.array([[3,5,4],[0,7,1]])"
   ]
  },
  {
   "cell_type": "code",
   "execution_count": 122,
   "id": "79a16aa9",
   "metadata": {},
   "outputs": [],
   "source": [
    "Q = np.array([[4,5],[7,2],[1,2]])"
   ]
  },
  {
   "cell_type": "code",
   "execution_count": 123,
   "id": "5d7a590d",
   "metadata": {},
   "outputs": [
    {
     "data": {
      "text/plain": [
       "(array([[3, 5, 4],\n",
       "        [0, 7, 1]]),\n",
       " array([[4, 5],\n",
       "        [7, 2],\n",
       "        [1, 2]]))"
      ]
     },
     "execution_count": 123,
     "metadata": {},
     "output_type": "execute_result"
    }
   ],
   "source": [
    "P, Q"
   ]
  },
  {
   "cell_type": "code",
   "execution_count": 124,
   "id": "afc4cb33",
   "metadata": {},
   "outputs": [],
   "source": [
    "# 51, 33, 50, 16"
   ]
  },
  {
   "cell_type": "code",
   "execution_count": 125,
   "id": "f1151f58",
   "metadata": {},
   "outputs": [
    {
     "data": {
      "text/plain": [
       "array([[51, 33],\n",
       "       [50, 16]])"
      ]
     },
     "execution_count": 125,
     "metadata": {},
     "output_type": "execute_result"
    }
   ],
   "source": [
    "np.matmul(P, Q)"
   ]
  },
  {
   "cell_type": "code",
   "execution_count": 126,
   "id": "19da35b0",
   "metadata": {},
   "outputs": [
    {
     "data": {
      "text/plain": [
       "array([[51, 33],\n",
       "       [50, 16]])"
      ]
     },
     "execution_count": 126,
     "metadata": {},
     "output_type": "execute_result"
    }
   ],
   "source": [
    "P @ Q"
   ]
  },
  {
   "cell_type": "code",
   "execution_count": 128,
   "id": "d32e3fc1",
   "metadata": {},
   "outputs": [
    {
     "data": {
      "text/plain": [
       "array([[119, 562, 352],\n",
       "       [329, 790, 962],\n",
       "       [ 49,  17, 134],\n",
       "       [188, 319, 537]])"
      ]
     },
     "execution_count": 128,
     "metadata": {},
     "output_type": "execute_result"
    }
   ],
   "source": [
    "A @ B"
   ]
  },
  {
   "cell_type": "code",
   "execution_count": 131,
   "id": "044608bc",
   "metadata": {},
   "outputs": [
    {
     "ename": "ValueError",
     "evalue": "matmul: Input operand 1 has a mismatch in its core dimension 0, with gufunc signature (n?,k),(k,m?)->(n?,m?) (size 4 is different from 3)",
     "output_type": "error",
     "traceback": [
      "\u001b[0;31m---------------------------------------------------------------------------\u001b[0m",
      "\u001b[0;31mValueError\u001b[0m                                Traceback (most recent call last)",
      "\u001b[0;32m<ipython-input-131-262a659dc2d6>\u001b[0m in \u001b[0;36m<module>\u001b[0;34m\u001b[0m\n\u001b[0;32m----> 1\u001b[0;31m \u001b[0mA\u001b[0m \u001b[0;34m@\u001b[0m \u001b[0mB\u001b[0m\u001b[0;34m,\u001b[0m \u001b[0mB\u001b[0m \u001b[0;34m@\u001b[0m \u001b[0mA\u001b[0m\u001b[0;34m\u001b[0m\u001b[0;34m\u001b[0m\u001b[0m\n\u001b[0m",
      "\u001b[0;31mValueError\u001b[0m: matmul: Input operand 1 has a mismatch in its core dimension 0, with gufunc signature (n?,k),(k,m?)->(n?,m?) (size 4 is different from 3)"
     ]
    }
   ],
   "source": [
    "A @ B, B @ A"
   ]
  },
  {
   "cell_type": "code",
   "execution_count": 142,
   "id": "9b905f9f",
   "metadata": {},
   "outputs": [],
   "source": [
    "R1 = np.zeros((3,3), dtype=np.int32)\n",
    "R2 = np.zeros((3,3), dtype=np.int32)\n",
    "R3 = np.zeros((3,3), dtype=np.int32)\n",
    "for r in range(3):\n",
    "    for c in range(3):\n",
    "        R1[r][c] = np.random.randint(10,25)\n",
    "        R2[r][c] = np.random.randint(10,25)\n",
    "        R3[r][c] = np.random.randint(10,25)"
   ]
  },
  {
   "cell_type": "code",
   "execution_count": 143,
   "id": "09f7ab76",
   "metadata": {},
   "outputs": [
    {
     "data": {
      "text/plain": [
       "(array([[15, 20, 14],\n",
       "        [24, 23, 12],\n",
       "        [18, 13, 14]], dtype=int32),\n",
       " array([[21, 10, 17],\n",
       "        [11, 20, 18],\n",
       "        [21, 21, 20]], dtype=int32),\n",
       " array([[19, 12, 21],\n",
       "        [10, 18, 14],\n",
       "        [19, 11, 22]], dtype=int32))"
      ]
     },
     "execution_count": 143,
     "metadata": {},
     "output_type": "execute_result"
    }
   ],
   "source": [
    "R1, R2, R3"
   ]
  },
  {
   "cell_type": "code",
   "execution_count": 144,
   "id": "24dcbd8f",
   "metadata": {},
   "outputs": [
    {
     "data": {
      "text/plain": [
       "(array([[ 829,  844,  895],\n",
       "        [1009,  952, 1062],\n",
       "        [ 815,  734,  820]], dtype=int32),\n",
       " array([[ 861,  871,  652],\n",
       "        [ 969,  914,  646],\n",
       "        [1179, 1163,  826]], dtype=int32))"
      ]
     },
     "execution_count": 144,
     "metadata": {},
     "output_type": "execute_result"
    }
   ],
   "source": [
    "R1 @ R2, R2 @ R1"
   ]
  },
  {
   "cell_type": "code",
   "execution_count": 145,
   "id": "09b3f7fe",
   "metadata": {},
   "outputs": [
    {
     "data": {
      "text/plain": [
       "(array([[41196, 34985, 48915],\n",
       "        [48869, 40926, 57881],\n",
       "        [38405, 32012, 45431]], dtype=int32),\n",
       " array([[41196, 34985, 48915],\n",
       "        [48869, 40926, 57881],\n",
       "        [38405, 32012, 45431]], dtype=int32))"
      ]
     },
     "execution_count": 145,
     "metadata": {},
     "output_type": "execute_result"
    }
   ],
   "source": [
    "R1 @ (R2 @ R3), (R1 @ R2) @ R3"
   ]
  },
  {
   "cell_type": "code",
   "execution_count": 148,
   "id": "3af86742",
   "metadata": {},
   "outputs": [
    {
     "data": {
      "text/plain": [
       "(array([[1573, 1313, 1858],\n",
       "        [1665, 1524, 1997],\n",
       "        [1727, 1454, 2043]], dtype=int32),\n",
       " array([[1573, 1313, 1858],\n",
       "        [1665, 1524, 1997],\n",
       "        [1727, 1454, 2043]], dtype=int32))"
      ]
     },
     "execution_count": 148,
     "metadata": {},
     "output_type": "execute_result"
    }
   ],
   "source": [
    "(R1 + R2) @ R3,      R1 @ R3 + R2 @ R3"
   ]
  },
  {
   "cell_type": "markdown",
   "id": "47094223",
   "metadata": {},
   "source": [
    "##### Transpose"
   ]
  },
  {
   "cell_type": "code",
   "execution_count": 155,
   "id": "17261c9c",
   "metadata": {},
   "outputs": [],
   "source": [
    "R4 = A.transpose()"
   ]
  },
  {
   "cell_type": "code",
   "execution_count": 156,
   "id": "ea5159c2",
   "metadata": {},
   "outputs": [
    {
     "data": {
      "text/plain": [
       "array([[5, 7, 1, 4],\n",
       "       [6, 8, 0, 3],\n",
       "       [1, 9, 2, 6]], dtype=int16)"
      ]
     },
     "execution_count": 156,
     "metadata": {},
     "output_type": "execute_result"
    }
   ],
   "source": [
    "R4"
   ]
  },
  {
   "cell_type": "code",
   "execution_count": 157,
   "id": "5c564b3f",
   "metadata": {},
   "outputs": [
    {
     "data": {
      "text/plain": [
       "((4, 3), (3, 4))"
      ]
     },
     "execution_count": 157,
     "metadata": {},
     "output_type": "execute_result"
    }
   ],
   "source": [
    "A.shape, R4.shape"
   ]
  },
  {
   "cell_type": "code",
   "execution_count": 158,
   "id": "148b05f5",
   "metadata": {},
   "outputs": [
    {
     "data": {
      "text/plain": [
       "(array([[5, 6, 1],\n",
       "        [7, 8, 9],\n",
       "        [1, 0, 2],\n",
       "        [4, 3, 6]], dtype=int16),\n",
       " array([[5, 7, 1, 4],\n",
       "        [6, 8, 0, 3],\n",
       "        [1, 9, 2, 6]], dtype=int16))"
      ]
     },
     "execution_count": 158,
     "metadata": {},
     "output_type": "execute_result"
    }
   ],
   "source": [
    "A, R4"
   ]
  },
  {
   "cell_type": "code",
   "execution_count": 159,
   "id": "b385ba44",
   "metadata": {},
   "outputs": [
    {
     "data": {
      "text/plain": [
       "array([[5, 7, 1, 4],\n",
       "       [6, 8, 0, 3],\n",
       "       [1, 9, 2, 6]], dtype=int16)"
      ]
     },
     "execution_count": 159,
     "metadata": {},
     "output_type": "execute_result"
    }
   ],
   "source": [
    "np.transpose(A)"
   ]
  },
  {
   "cell_type": "code",
   "execution_count": 161,
   "id": "53e1f1aa",
   "metadata": {},
   "outputs": [
    {
     "data": {
      "text/plain": [
       "(array([[5, 6, 1],\n",
       "        [7, 8, 9],\n",
       "        [1, 0, 2],\n",
       "        [4, 3, 6]], dtype=int16),\n",
       " array([[5, 6, 1],\n",
       "        [7, 8, 9],\n",
       "        [1, 0, 2],\n",
       "        [4, 3, 6]], dtype=int16))"
      ]
     },
     "execution_count": 161,
     "metadata": {},
     "output_type": "execute_result"
    }
   ],
   "source": [
    "A.transpose().transpose(), A"
   ]
  },
  {
   "cell_type": "code",
   "execution_count": 168,
   "id": "2f10ad59",
   "metadata": {},
   "outputs": [
    {
     "data": {
      "text/plain": [
       "(array([[36, 35, 39],\n",
       "        [30, 43, 34],\n",
       "        [31, 30, 34]], dtype=int32),\n",
       " array([[36, 35, 39],\n",
       "        [30, 43, 34],\n",
       "        [31, 30, 34]], dtype=int32))"
      ]
     },
     "execution_count": 168,
     "metadata": {},
     "output_type": "execute_result"
    }
   ],
   "source": [
    "(R1 + R2).transpose(), R1.transpose() + R2.transpose()"
   ]
  },
  {
   "cell_type": "code",
   "execution_count": 170,
   "id": "21488cad",
   "metadata": {},
   "outputs": [
    {
     "data": {
      "text/plain": [
       "(array([[30, 48, 36],\n",
       "        [40, 46, 26],\n",
       "        [28, 24, 28]], dtype=int32),\n",
       " array([[30, 48, 36],\n",
       "        [40, 46, 26],\n",
       "        [28, 24, 28]], dtype=int32))"
      ]
     },
     "execution_count": 170,
     "metadata": {},
     "output_type": "execute_result"
    }
   ],
   "source": [
    "2 * R1.transpose(), (2 * R1).transpose()"
   ]
  },
  {
   "cell_type": "code",
   "execution_count": 174,
   "id": "728c2566",
   "metadata": {},
   "outputs": [
    {
     "data": {
      "text/plain": [
       "(array([[ 829, 1009,  815],\n",
       "        [ 844,  952,  734],\n",
       "        [ 895, 1062,  820]], dtype=int32),\n",
       " array([[ 829, 1009,  815],\n",
       "        [ 844,  952,  734],\n",
       "        [ 895, 1062,  820]], dtype=int32))"
      ]
     },
     "execution_count": 174,
     "metadata": {},
     "output_type": "execute_result"
    }
   ],
   "source": [
    "(R1 @ R2).transpose(), R2.transpose() @ R1.transpose()"
   ]
  },
  {
   "cell_type": "markdown",
   "id": "d95a9760",
   "metadata": {},
   "source": [
    "##### trace"
   ]
  },
  {
   "cell_type": "code",
   "execution_count": 175,
   "id": "e27906f3",
   "metadata": {},
   "outputs": [
    {
     "data": {
      "text/plain": [
       "array([[15, 20, 14],\n",
       "       [24, 23, 12],\n",
       "       [18, 13, 14]], dtype=int32)"
      ]
     },
     "execution_count": 175,
     "metadata": {},
     "output_type": "execute_result"
    }
   ],
   "source": [
    "R1"
   ]
  },
  {
   "cell_type": "code",
   "execution_count": 176,
   "id": "e809bdf6",
   "metadata": {},
   "outputs": [
    {
     "data": {
      "text/plain": [
       "52"
      ]
     },
     "execution_count": 176,
     "metadata": {},
     "output_type": "execute_result"
    }
   ],
   "source": [
    "R1.trace()"
   ]
  },
  {
   "cell_type": "code",
   "execution_count": 177,
   "id": "8a5b03b8",
   "metadata": {},
   "outputs": [
    {
     "data": {
      "text/plain": [
       "15"
      ]
     },
     "execution_count": 177,
     "metadata": {},
     "output_type": "execute_result"
    }
   ],
   "source": [
    "A.trace()"
   ]
  },
  {
   "cell_type": "code",
   "execution_count": 178,
   "id": "82c4a935",
   "metadata": {},
   "outputs": [
    {
     "data": {
      "text/plain": [
       "array([[5, 6, 1],\n",
       "       [7, 8, 9],\n",
       "       [1, 0, 2],\n",
       "       [4, 3, 6]], dtype=int16)"
      ]
     },
     "execution_count": 178,
     "metadata": {},
     "output_type": "execute_result"
    }
   ],
   "source": [
    "A"
   ]
  },
  {
   "cell_type": "code",
   "execution_count": 183,
   "id": "953b4b6e",
   "metadata": {},
   "outputs": [
    {
     "name": "stdout",
     "output_type": "stream",
     "text": [
      "15 23 14 "
     ]
    }
   ],
   "source": [
    "for r in range(3):\n",
    "    for c in range(3):\n",
    "        if r == c:\n",
    "            print(R1[r][c], end=' ')"
   ]
  },
  {
   "cell_type": "code",
   "execution_count": 182,
   "id": "6743a462",
   "metadata": {},
   "outputs": [
    {
     "data": {
      "text/plain": [
       "array([15, 23, 14], dtype=int32)"
      ]
     },
     "execution_count": 182,
     "metadata": {},
     "output_type": "execute_result"
    }
   ],
   "source": [
    "R1.diagonal()"
   ]
  },
  {
   "cell_type": "code",
   "execution_count": 184,
   "id": "c85926f6",
   "metadata": {},
   "outputs": [
    {
     "name": "stdout",
     "output_type": "stream",
     "text": [
      "15 23 14 "
     ]
    }
   ],
   "source": [
    "for r in range(R1.shape[0]):\n",
    "    for c in range(R1.shape[1]):\n",
    "        if r == c:\n",
    "            print(R1[r][c], end=' ')"
   ]
  },
  {
   "cell_type": "code",
   "execution_count": 185,
   "id": "7d644fa2",
   "metadata": {},
   "outputs": [
    {
     "name": "stdout",
     "output_type": "stream",
     "text": [
      "5 8 2 "
     ]
    }
   ],
   "source": [
    "for r in range(A.shape[0]):\n",
    "    for c in range(A.shape[1]):\n",
    "        if r == c:\n",
    "            print(A[r][c], end=' ')"
   ]
  },
  {
   "cell_type": "code",
   "execution_count": 186,
   "id": "b555e395",
   "metadata": {},
   "outputs": [
    {
     "data": {
      "text/plain": [
       "(52, 61)"
      ]
     },
     "execution_count": 186,
     "metadata": {},
     "output_type": "execute_result"
    }
   ],
   "source": [
    "R1.trace(), R2.trace()"
   ]
  },
  {
   "cell_type": "code",
   "execution_count": 188,
   "id": "a894dfc2",
   "metadata": {},
   "outputs": [
    {
     "data": {
      "text/plain": [
       "2601"
      ]
     },
     "execution_count": 188,
     "metadata": {},
     "output_type": "execute_result"
    }
   ],
   "source": [
    "(R1 @ R2).trace()"
   ]
  },
  {
   "cell_type": "code",
   "execution_count": 189,
   "id": "7c9069a3",
   "metadata": {},
   "outputs": [
    {
     "data": {
      "text/plain": [
       "2601"
      ]
     },
     "execution_count": 189,
     "metadata": {},
     "output_type": "execute_result"
    }
   ],
   "source": [
    "(R2 @ R1).trace()"
   ]
  },
  {
   "cell_type": "code",
   "execution_count": 193,
   "id": "fe119e2e",
   "metadata": {},
   "outputs": [
    {
     "data": {
      "text/plain": [
       "(52, 52)"
      ]
     },
     "execution_count": 193,
     "metadata": {},
     "output_type": "execute_result"
    }
   ],
   "source": [
    "R1.trace(), R1.transpose().trace()"
   ]
  },
  {
   "cell_type": "code",
   "execution_count": 195,
   "id": "4e8a9cd4",
   "metadata": {},
   "outputs": [
    {
     "data": {
      "text/plain": [
       "(104, 104)"
      ]
     },
     "execution_count": 195,
     "metadata": {},
     "output_type": "execute_result"
    }
   ],
   "source": [
    "(R1 * 2).trace(),  R1.trace() * 2"
   ]
  },
  {
   "cell_type": "code",
   "execution_count": 197,
   "id": "91d6aed9",
   "metadata": {},
   "outputs": [
    {
     "data": {
      "text/plain": [
       "(113, 113)"
      ]
     },
     "execution_count": 197,
     "metadata": {},
     "output_type": "execute_result"
    }
   ],
   "source": [
    "R1.trace() + R2.trace(),  (R1 + R2).trace()"
   ]
  },
  {
   "cell_type": "markdown",
   "id": "d2298039",
   "metadata": {},
   "source": [
    "##### Determinant"
   ]
  },
  {
   "cell_type": "code",
   "execution_count": 199,
   "id": "aad88da1",
   "metadata": {},
   "outputs": [
    {
     "data": {
      "text/plain": [
       "array([[15, 20, 14],\n",
       "       [24, 23, 12],\n",
       "       [18, 13, 14]], dtype=int32)"
      ]
     },
     "execution_count": 199,
     "metadata": {},
     "output_type": "execute_result"
    }
   ],
   "source": [
    "R1"
   ]
  },
  {
   "cell_type": "code",
   "execution_count": 200,
   "id": "2e77aa04",
   "metadata": {},
   "outputs": [
    {
     "data": {
      "text/plain": [
       "-1337.9999999999995"
      ]
     },
     "execution_count": 200,
     "metadata": {},
     "output_type": "execute_result"
    }
   ],
   "source": [
    "np.linalg.det(R1)"
   ]
  },
  {
   "cell_type": "code",
   "execution_count": 201,
   "id": "d950948a",
   "metadata": {},
   "outputs": [
    {
     "data": {
      "text/plain": [
       "-1171.000000000001"
      ]
     },
     "execution_count": 201,
     "metadata": {},
     "output_type": "execute_result"
    }
   ],
   "source": [
    "np.linalg.det(R2)"
   ]
  },
  {
   "cell_type": "code",
   "execution_count": 202,
   "id": "e0272e54",
   "metadata": {},
   "outputs": [
    {
     "data": {
      "text/plain": [
       "277.9999999999997"
      ]
     },
     "execution_count": 202,
     "metadata": {},
     "output_type": "execute_result"
    }
   ],
   "source": [
    "np.linalg.det(R3)"
   ]
  },
  {
   "cell_type": "markdown",
   "id": "f85c97bd",
   "metadata": {},
   "source": [
    "##### Inverse of matrix"
   ]
  },
  {
   "cell_type": "code",
   "execution_count": 204,
   "id": "1c8ab6e5",
   "metadata": {},
   "outputs": [
    {
     "data": {
      "text/plain": [
       "array([[15, 20, 14],\n",
       "       [24, 23, 12],\n",
       "       [18, 13, 14]], dtype=int32)"
      ]
     },
     "execution_count": 204,
     "metadata": {},
     "output_type": "execute_result"
    }
   ],
   "source": [
    "R1"
   ]
  },
  {
   "cell_type": "code",
   "execution_count": 205,
   "id": "5eb67dbb",
   "metadata": {},
   "outputs": [
    {
     "data": {
      "text/plain": [
       "array([[-0.12406577,  0.07324365,  0.0612855 ],\n",
       "       [ 0.0896861 ,  0.03139013, -0.11659193],\n",
       "       [ 0.07623318, -0.12331839,  0.10089686]])"
      ]
     },
     "execution_count": 205,
     "metadata": {},
     "output_type": "execute_result"
    }
   ],
   "source": [
    "np.linalg.inv(R1)"
   ]
  },
  {
   "cell_type": "code",
   "execution_count": 206,
   "id": "4dbc9d56",
   "metadata": {},
   "outputs": [
    {
     "ename": "LinAlgError",
     "evalue": "Last 2 dimensions of the array must be square",
     "output_type": "error",
     "traceback": [
      "\u001b[0;31m---------------------------------------------------------------------------\u001b[0m",
      "\u001b[0;31mLinAlgError\u001b[0m                               Traceback (most recent call last)",
      "\u001b[0;32m<ipython-input-206-ae645f97e1f8>\u001b[0m in \u001b[0;36m<module>\u001b[0;34m\u001b[0m\n\u001b[0;32m----> 1\u001b[0;31m \u001b[0mnp\u001b[0m\u001b[0;34m.\u001b[0m\u001b[0mlinalg\u001b[0m\u001b[0;34m.\u001b[0m\u001b[0minv\u001b[0m\u001b[0;34m(\u001b[0m\u001b[0mA\u001b[0m\u001b[0;34m)\u001b[0m\u001b[0;34m\u001b[0m\u001b[0;34m\u001b[0m\u001b[0m\n\u001b[0m",
      "\u001b[0;32m<__array_function__ internals>\u001b[0m in \u001b[0;36minv\u001b[0;34m(*args, **kwargs)\u001b[0m\n",
      "\u001b[0;32m~/.local/lib/python3.8/site-packages/numpy/linalg/linalg.py\u001b[0m in \u001b[0;36minv\u001b[0;34m(a)\u001b[0m\n\u001b[1;32m    538\u001b[0m     \u001b[0ma\u001b[0m\u001b[0;34m,\u001b[0m \u001b[0mwrap\u001b[0m \u001b[0;34m=\u001b[0m \u001b[0m_makearray\u001b[0m\u001b[0;34m(\u001b[0m\u001b[0ma\u001b[0m\u001b[0;34m)\u001b[0m\u001b[0;34m\u001b[0m\u001b[0;34m\u001b[0m\u001b[0m\n\u001b[1;32m    539\u001b[0m     \u001b[0m_assert_stacked_2d\u001b[0m\u001b[0;34m(\u001b[0m\u001b[0ma\u001b[0m\u001b[0;34m)\u001b[0m\u001b[0;34m\u001b[0m\u001b[0;34m\u001b[0m\u001b[0m\n\u001b[0;32m--> 540\u001b[0;31m     \u001b[0m_assert_stacked_square\u001b[0m\u001b[0;34m(\u001b[0m\u001b[0ma\u001b[0m\u001b[0;34m)\u001b[0m\u001b[0;34m\u001b[0m\u001b[0;34m\u001b[0m\u001b[0m\n\u001b[0m\u001b[1;32m    541\u001b[0m     \u001b[0mt\u001b[0m\u001b[0;34m,\u001b[0m \u001b[0mresult_t\u001b[0m \u001b[0;34m=\u001b[0m \u001b[0m_commonType\u001b[0m\u001b[0;34m(\u001b[0m\u001b[0ma\u001b[0m\u001b[0;34m)\u001b[0m\u001b[0;34m\u001b[0m\u001b[0;34m\u001b[0m\u001b[0m\n\u001b[1;32m    542\u001b[0m \u001b[0;34m\u001b[0m\u001b[0m\n",
      "\u001b[0;32m~/.local/lib/python3.8/site-packages/numpy/linalg/linalg.py\u001b[0m in \u001b[0;36m_assert_stacked_square\u001b[0;34m(*arrays)\u001b[0m\n\u001b[1;32m    201\u001b[0m         \u001b[0mm\u001b[0m\u001b[0;34m,\u001b[0m \u001b[0mn\u001b[0m \u001b[0;34m=\u001b[0m \u001b[0ma\u001b[0m\u001b[0;34m.\u001b[0m\u001b[0mshape\u001b[0m\u001b[0;34m[\u001b[0m\u001b[0;34m-\u001b[0m\u001b[0;36m2\u001b[0m\u001b[0;34m:\u001b[0m\u001b[0;34m]\u001b[0m\u001b[0;34m\u001b[0m\u001b[0;34m\u001b[0m\u001b[0m\n\u001b[1;32m    202\u001b[0m         \u001b[0;32mif\u001b[0m \u001b[0mm\u001b[0m \u001b[0;34m!=\u001b[0m \u001b[0mn\u001b[0m\u001b[0;34m:\u001b[0m\u001b[0;34m\u001b[0m\u001b[0;34m\u001b[0m\u001b[0m\n\u001b[0;32m--> 203\u001b[0;31m             \u001b[0;32mraise\u001b[0m \u001b[0mLinAlgError\u001b[0m\u001b[0;34m(\u001b[0m\u001b[0;34m'Last 2 dimensions of the array must be square'\u001b[0m\u001b[0;34m)\u001b[0m\u001b[0;34m\u001b[0m\u001b[0;34m\u001b[0m\u001b[0m\n\u001b[0m\u001b[1;32m    204\u001b[0m \u001b[0;34m\u001b[0m\u001b[0m\n\u001b[1;32m    205\u001b[0m \u001b[0;32mdef\u001b[0m \u001b[0m_assert_finite\u001b[0m\u001b[0;34m(\u001b[0m\u001b[0;34m*\u001b[0m\u001b[0marrays\u001b[0m\u001b[0;34m)\u001b[0m\u001b[0;34m:\u001b[0m\u001b[0;34m\u001b[0m\u001b[0;34m\u001b[0m\u001b[0m\n",
      "\u001b[0;31mLinAlgError\u001b[0m: Last 2 dimensions of the array must be square"
     ]
    }
   ],
   "source": [
    "np.linalg.inv(A)"
   ]
  },
  {
   "cell_type": "markdown",
   "id": "05375fb8",
   "metadata": {},
   "source": [
    "##### Rank of matrix"
   ]
  },
  {
   "cell_type": "code",
   "execution_count": 208,
   "id": "e651b4c9",
   "metadata": {},
   "outputs": [
    {
     "data": {
      "text/plain": [
       "array([[15, 20, 14],\n",
       "       [24, 23, 12],\n",
       "       [18, 13, 14]], dtype=int32)"
      ]
     },
     "execution_count": 208,
     "metadata": {},
     "output_type": "execute_result"
    }
   ],
   "source": [
    "R1"
   ]
  },
  {
   "cell_type": "code",
   "execution_count": 209,
   "id": "8a3a4933",
   "metadata": {},
   "outputs": [
    {
     "data": {
      "text/plain": [
       "3"
      ]
     },
     "execution_count": 209,
     "metadata": {},
     "output_type": "execute_result"
    }
   ],
   "source": [
    "np.linalg.matrix_rank(R1)"
   ]
  },
  {
   "cell_type": "code",
   "execution_count": 221,
   "id": "de1fb236",
   "metadata": {},
   "outputs": [
    {
     "data": {
      "text/plain": [
       "array([[1, 2, 3],\n",
       "       [1, 2, 3],\n",
       "       [2, 3, 4]])"
      ]
     },
     "execution_count": 221,
     "metadata": {},
     "output_type": "execute_result"
    }
   ],
   "source": [
    "R5 = np.array([[1,2,3],[1,2,3],[2,3,4]])\n",
    "R5"
   ]
  },
  {
   "cell_type": "code",
   "execution_count": 222,
   "id": "bc59dd33",
   "metadata": {},
   "outputs": [
    {
     "data": {
      "text/plain": [
       "2"
      ]
     },
     "execution_count": 222,
     "metadata": {},
     "output_type": "execute_result"
    }
   ],
   "source": [
    "np.linalg.matrix_rank(R5)"
   ]
  },
  {
   "cell_type": "code",
   "execution_count": 223,
   "id": "4ad322f6",
   "metadata": {},
   "outputs": [
    {
     "data": {
      "text/plain": [
       "1"
      ]
     },
     "execution_count": 223,
     "metadata": {},
     "output_type": "execute_result"
    }
   ],
   "source": [
    "R5 = np.array([[1,2,3],[1,2,3],[1,2,3]])\n",
    "np.linalg.matrix_rank(R5)"
   ]
  },
  {
   "cell_type": "code",
   "execution_count": 226,
   "id": "cb1da1ee",
   "metadata": {},
   "outputs": [
    {
     "data": {
      "text/plain": [
       "3"
      ]
     },
     "execution_count": 226,
     "metadata": {},
     "output_type": "execute_result"
    }
   ],
   "source": [
    "R5 = np.array([[1,2,5],[1,6,7],[1,2,8]])\n",
    "np.linalg.matrix_rank(R5)"
   ]
  },
  {
   "cell_type": "code",
   "execution_count": 227,
   "id": "9aff68b9",
   "metadata": {},
   "outputs": [
    {
     "data": {
      "text/plain": [
       "array([[1, 2, 5],\n",
       "       [1, 6, 7],\n",
       "       [1, 2, 8]])"
      ]
     },
     "execution_count": 227,
     "metadata": {},
     "output_type": "execute_result"
    }
   ],
   "source": [
    "R5"
   ]
  },
  {
   "cell_type": "markdown",
   "id": "0bb586db",
   "metadata": {},
   "source": [
    "#### Types of Matrices"
   ]
  },
  {
   "cell_type": "markdown",
   "id": "817b49f0",
   "metadata": {},
   "source": [
    "##### row matrix"
   ]
  },
  {
   "cell_type": "code",
   "execution_count": 230,
   "id": "2bee3be9",
   "metadata": {},
   "outputs": [],
   "source": [
    "X = np.array([[5,4,6,7,8]])"
   ]
  },
  {
   "cell_type": "code",
   "execution_count": 231,
   "id": "b08c0201",
   "metadata": {},
   "outputs": [
    {
     "data": {
      "text/plain": [
       "array([[5, 4, 6, 7, 8]])"
      ]
     },
     "execution_count": 231,
     "metadata": {},
     "output_type": "execute_result"
    }
   ],
   "source": [
    "X"
   ]
  },
  {
   "cell_type": "code",
   "execution_count": 232,
   "id": "83b91f88",
   "metadata": {},
   "outputs": [
    {
     "data": {
      "text/plain": [
       "2"
      ]
     },
     "execution_count": 232,
     "metadata": {},
     "output_type": "execute_result"
    }
   ],
   "source": [
    "X.ndim"
   ]
  },
  {
   "cell_type": "code",
   "execution_count": 233,
   "id": "626a27a3",
   "metadata": {},
   "outputs": [
    {
     "data": {
      "text/plain": [
       "(1, 5)"
      ]
     },
     "execution_count": 233,
     "metadata": {},
     "output_type": "execute_result"
    }
   ],
   "source": [
    "X.shape"
   ]
  },
  {
   "cell_type": "markdown",
   "id": "bfd6d9b9",
   "metadata": {},
   "source": [
    "##### column matrix"
   ]
  },
  {
   "cell_type": "code",
   "execution_count": 235,
   "id": "15c4d920",
   "metadata": {},
   "outputs": [],
   "source": [
    "X = np.array([[5],[4],[6],[7],[8]])"
   ]
  },
  {
   "cell_type": "code",
   "execution_count": 236,
   "id": "52c386c3",
   "metadata": {},
   "outputs": [
    {
     "data": {
      "text/plain": [
       "array([[5],\n",
       "       [4],\n",
       "       [6],\n",
       "       [7],\n",
       "       [8]])"
      ]
     },
     "execution_count": 236,
     "metadata": {},
     "output_type": "execute_result"
    }
   ],
   "source": [
    "X"
   ]
  },
  {
   "cell_type": "code",
   "execution_count": 237,
   "id": "73c5476a",
   "metadata": {},
   "outputs": [
    {
     "data": {
      "text/plain": [
       "(5, 1)"
      ]
     },
     "execution_count": 237,
     "metadata": {},
     "output_type": "execute_result"
    }
   ],
   "source": [
    "X.shape"
   ]
  },
  {
   "cell_type": "code",
   "execution_count": 238,
   "id": "e47c657d",
   "metadata": {},
   "outputs": [
    {
     "data": {
      "text/plain": [
       "array([[5, 4, 6, 7, 8]])"
      ]
     },
     "execution_count": 238,
     "metadata": {},
     "output_type": "execute_result"
    }
   ],
   "source": [
    "X.reshape(1,5)"
   ]
  },
  {
   "cell_type": "code",
   "execution_count": 239,
   "id": "7767c2a2",
   "metadata": {},
   "outputs": [],
   "source": [
    "v = X.reshape(5)"
   ]
  },
  {
   "cell_type": "code",
   "execution_count": 240,
   "id": "0a9fbbe4",
   "metadata": {},
   "outputs": [
    {
     "data": {
      "text/plain": [
       "array([5, 4, 6, 7, 8])"
      ]
     },
     "execution_count": 240,
     "metadata": {},
     "output_type": "execute_result"
    }
   ],
   "source": [
    "v"
   ]
  },
  {
   "cell_type": "code",
   "execution_count": 241,
   "id": "e511bb89",
   "metadata": {},
   "outputs": [
    {
     "data": {
      "text/plain": [
       "(5,)"
      ]
     },
     "execution_count": 241,
     "metadata": {},
     "output_type": "execute_result"
    }
   ],
   "source": [
    "v.shape"
   ]
  },
  {
   "cell_type": "code",
   "execution_count": 242,
   "id": "bd8a2d9c",
   "metadata": {},
   "outputs": [],
   "source": [
    "X = np.array([[5,4,6,7,8,1]])"
   ]
  },
  {
   "cell_type": "code",
   "execution_count": 243,
   "id": "ba87c015",
   "metadata": {},
   "outputs": [
    {
     "data": {
      "text/plain": [
       "(1, 6)"
      ]
     },
     "execution_count": 243,
     "metadata": {},
     "output_type": "execute_result"
    }
   ],
   "source": [
    "X.shape"
   ]
  },
  {
   "cell_type": "code",
   "execution_count": 244,
   "id": "0d363d60",
   "metadata": {},
   "outputs": [
    {
     "data": {
      "text/plain": [
       "array([[5, 4],\n",
       "       [6, 7],\n",
       "       [8, 1]])"
      ]
     },
     "execution_count": 244,
     "metadata": {},
     "output_type": "execute_result"
    }
   ],
   "source": [
    "X.reshape(-1, 2)"
   ]
  },
  {
   "cell_type": "code",
   "execution_count": 245,
   "id": "5b6e10c1",
   "metadata": {},
   "outputs": [
    {
     "data": {
      "text/plain": [
       "array([[5, 4, 6],\n",
       "       [7, 8, 1]])"
      ]
     },
     "execution_count": 245,
     "metadata": {},
     "output_type": "execute_result"
    }
   ],
   "source": [
    "X.reshape(2, -1)"
   ]
  },
  {
   "cell_type": "code",
   "execution_count": 246,
   "id": "25c60833",
   "metadata": {},
   "outputs": [
    {
     "data": {
      "text/plain": [
       "array([5, 4, 6, 7, 8, 1])"
      ]
     },
     "execution_count": 246,
     "metadata": {},
     "output_type": "execute_result"
    }
   ],
   "source": [
    "X.flatten()"
   ]
  },
  {
   "cell_type": "code",
   "execution_count": 247,
   "id": "1ff92ceb",
   "metadata": {},
   "outputs": [
    {
     "data": {
      "text/plain": [
       "array([[5, 4, 6, 7, 8, 1]])"
      ]
     },
     "execution_count": 247,
     "metadata": {},
     "output_type": "execute_result"
    }
   ],
   "source": [
    "X"
   ]
  },
  {
   "cell_type": "code",
   "execution_count": 248,
   "id": "b335b21b",
   "metadata": {},
   "outputs": [
    {
     "data": {
      "text/plain": [
       "array([[5],\n",
       "       [4],\n",
       "       [6],\n",
       "       [7],\n",
       "       [8],\n",
       "       [1]])"
      ]
     },
     "execution_count": 248,
     "metadata": {},
     "output_type": "execute_result"
    }
   ],
   "source": [
    "X.transpose()"
   ]
  },
  {
   "cell_type": "markdown",
   "id": "60493b31",
   "metadata": {},
   "source": [
    "##### Square matrix"
   ]
  },
  {
   "cell_type": "code",
   "execution_count": 252,
   "id": "8786391d",
   "metadata": {},
   "outputs": [],
   "source": [
    "S1 = np.zeros((4,4))\n",
    "S2 = np.zeros((3,4))"
   ]
  },
  {
   "cell_type": "code",
   "execution_count": 253,
   "id": "179952a5",
   "metadata": {},
   "outputs": [
    {
     "data": {
      "text/plain": [
       "(array([[0., 0., 0., 0.],\n",
       "        [0., 0., 0., 0.],\n",
       "        [0., 0., 0., 0.],\n",
       "        [0., 0., 0., 0.]]),\n",
       " array([[0., 0., 0., 0.],\n",
       "        [0., 0., 0., 0.],\n",
       "        [0., 0., 0., 0.]]))"
      ]
     },
     "execution_count": 253,
     "metadata": {},
     "output_type": "execute_result"
    }
   ],
   "source": [
    "S1, S2"
   ]
  },
  {
   "cell_type": "code",
   "execution_count": 254,
   "id": "bfbc210b",
   "metadata": {},
   "outputs": [
    {
     "data": {
      "text/plain": [
       "(4, 4)"
      ]
     },
     "execution_count": 254,
     "metadata": {},
     "output_type": "execute_result"
    }
   ],
   "source": [
    "S1.shape"
   ]
  },
  {
   "cell_type": "code",
   "execution_count": 255,
   "id": "f63655e0",
   "metadata": {},
   "outputs": [],
   "source": [
    "def is_square_matrix(M):\n",
    "    if M.shape[0] == M.shape[1]:\n",
    "        return True\n",
    "    else:\n",
    "        return False"
   ]
  },
  {
   "cell_type": "code",
   "execution_count": 256,
   "id": "7df86ac8",
   "metadata": {},
   "outputs": [
    {
     "data": {
      "text/plain": [
       "True"
      ]
     },
     "execution_count": 256,
     "metadata": {},
     "output_type": "execute_result"
    }
   ],
   "source": [
    "is_square_matrix(R1)"
   ]
  },
  {
   "cell_type": "code",
   "execution_count": 257,
   "id": "3748c2dc",
   "metadata": {},
   "outputs": [
    {
     "data": {
      "text/plain": [
       "False"
      ]
     },
     "execution_count": 257,
     "metadata": {},
     "output_type": "execute_result"
    }
   ],
   "source": [
    "is_square_matrix(A)"
   ]
  },
  {
   "cell_type": "code",
   "execution_count": 258,
   "id": "c0528f3b",
   "metadata": {},
   "outputs": [],
   "source": [
    "def is_rectangular_matrix(M):\n",
    "    if M.shape[0] != M.shape[1]:\n",
    "        return True\n",
    "    else:\n",
    "        return False"
   ]
  },
  {
   "cell_type": "code",
   "execution_count": 259,
   "id": "da95133f",
   "metadata": {},
   "outputs": [
    {
     "data": {
      "text/plain": [
       "True"
      ]
     },
     "execution_count": 259,
     "metadata": {},
     "output_type": "execute_result"
    }
   ],
   "source": [
    "is_rectangular_matrix(A)"
   ]
  },
  {
   "cell_type": "code",
   "execution_count": 260,
   "id": "4cc53ddf",
   "metadata": {},
   "outputs": [
    {
     "data": {
      "text/plain": [
       "False"
      ]
     },
     "execution_count": 260,
     "metadata": {},
     "output_type": "execute_result"
    }
   ],
   "source": [
    "is_rectangular_matrix(R1)"
   ]
  },
  {
   "cell_type": "markdown",
   "id": "72aad412",
   "metadata": {},
   "source": [
    "#### Diagonal Matrix"
   ]
  },
  {
   "cell_type": "code",
   "execution_count": 264,
   "id": "c18363ac",
   "metadata": {},
   "outputs": [],
   "source": [
    "D = np.zeros((4,4))"
   ]
  },
  {
   "cell_type": "code",
   "execution_count": 266,
   "id": "3be52491",
   "metadata": {},
   "outputs": [],
   "source": [
    "for r in range(4):\n",
    "    for c in range(4):\n",
    "        if r == c:\n",
    "            D[r][c] = np.random.randint(1,10)"
   ]
  },
  {
   "cell_type": "code",
   "execution_count": 267,
   "id": "e577c9ac",
   "metadata": {},
   "outputs": [
    {
     "data": {
      "text/plain": [
       "array([[6., 0., 0., 0.],\n",
       "       [0., 4., 0., 0.],\n",
       "       [0., 0., 2., 0.],\n",
       "       [0., 0., 0., 8.]])"
      ]
     },
     "execution_count": 267,
     "metadata": {},
     "output_type": "execute_result"
    }
   ],
   "source": [
    "D"
   ]
  },
  {
   "cell_type": "code",
   "execution_count": 269,
   "id": "a7cb66b0",
   "metadata": {},
   "outputs": [],
   "source": [
    "def create_diagonal_matrix(shape):\n",
    "    D = np.zeros((shape, shape))\n",
    "    for r in range(shape):\n",
    "        for c in range(shape):\n",
    "            if r == c:\n",
    "                D[r][c] = np.random.randint(1,10)\n",
    "    return D"
   ]
  },
  {
   "cell_type": "code",
   "execution_count": 274,
   "id": "2be6e4d0",
   "metadata": {},
   "outputs": [
    {
     "data": {
      "text/plain": [
       "array([[5., 0., 0., 0., 0., 0.],\n",
       "       [0., 3., 0., 0., 0., 0.],\n",
       "       [0., 0., 4., 0., 0., 0.],\n",
       "       [0., 0., 0., 1., 0., 0.],\n",
       "       [0., 0., 0., 0., 5., 0.],\n",
       "       [0., 0., 0., 0., 0., 6.]])"
      ]
     },
     "execution_count": 274,
     "metadata": {},
     "output_type": "execute_result"
    }
   ],
   "source": [
    "create_diagonal_matrix(6)"
   ]
  },
  {
   "cell_type": "markdown",
   "id": "83542b36",
   "metadata": {},
   "source": [
    "#### Identity matrix"
   ]
  },
  {
   "cell_type": "code",
   "execution_count": 280,
   "id": "7f25d42b",
   "metadata": {},
   "outputs": [],
   "source": [
    "# create identity matrix with random values\n",
    "M = np.zeros((4,4), dtype=np.int16)\n",
    "for r in range(4):\n",
    "    for c in range(4):\n",
    "        if r == c:\n",
    "            M[r][c] = 1\n",
    "        else:\n",
    "            M[r][c] = np.random.randint(2,17)"
   ]
  },
  {
   "cell_type": "code",
   "execution_count": 281,
   "id": "f2a8d5e0",
   "metadata": {},
   "outputs": [
    {
     "data": {
      "text/plain": [
       "array([[ 1,  7,  4,  2],\n",
       "       [ 9,  1, 10,  6],\n",
       "       [ 3, 14,  1,  9],\n",
       "       [15,  3,  2,  1]], dtype=int16)"
      ]
     },
     "execution_count": 281,
     "metadata": {},
     "output_type": "execute_result"
    }
   ],
   "source": [
    "M"
   ]
  },
  {
   "cell_type": "code",
   "execution_count": 282,
   "id": "16573054",
   "metadata": {},
   "outputs": [],
   "source": [
    "def create_identity_matrix(shape):\n",
    "    M = np.zeros((shape, shape), dtype=np.int16)\n",
    "    for r in range(shape):\n",
    "        for c in range(shape):\n",
    "            if r == c:\n",
    "                M[r][c] = 1\n",
    "            else:\n",
    "                M[r][c] = np.random.randint(2,17)\n",
    "    return M"
   ]
  },
  {
   "cell_type": "code",
   "execution_count": 283,
   "id": "f2fa6572",
   "metadata": {},
   "outputs": [
    {
     "data": {
      "text/plain": [
       "array([[ 1, 14, 14],\n",
       "       [11,  1, 14],\n",
       "       [ 3, 11,  1]], dtype=int16)"
      ]
     },
     "execution_count": 283,
     "metadata": {},
     "output_type": "execute_result"
    }
   ],
   "source": [
    "create_identity_matrix(3)"
   ]
  },
  {
   "cell_type": "code",
   "execution_count": 294,
   "id": "097e5703",
   "metadata": {},
   "outputs": [
    {
     "data": {
      "text/plain": [
       "array([15, 23, 14], dtype=int32)"
      ]
     },
     "execution_count": 294,
     "metadata": {},
     "output_type": "execute_result"
    }
   ],
   "source": [
    "R1.diagonal()"
   ]
  },
  {
   "cell_type": "code",
   "execution_count": 296,
   "id": "dfccfc9f",
   "metadata": {},
   "outputs": [],
   "source": [
    "# write a function to check identity matrix or not\n",
    "def is_identity_matrix(M):\n",
    "    diag = M.diagonal()\n",
    "    for n in diag:\n",
    "        if n != 1:\n",
    "            return False\n",
    "    return True"
   ]
  },
  {
   "cell_type": "code",
   "execution_count": 299,
   "id": "aca42f04",
   "metadata": {},
   "outputs": [],
   "source": [
    "D = create_identity_matrix(3)"
   ]
  },
  {
   "cell_type": "code",
   "execution_count": 301,
   "id": "100b7edc",
   "metadata": {},
   "outputs": [
    {
     "data": {
      "text/plain": [
       "True"
      ]
     },
     "execution_count": 301,
     "metadata": {},
     "output_type": "execute_result"
    }
   ],
   "source": [
    "is_identity_matrix(D)"
   ]
  },
  {
   "cell_type": "code",
   "execution_count": 302,
   "id": "1b814038",
   "metadata": {},
   "outputs": [
    {
     "data": {
      "text/plain": [
       "False"
      ]
     },
     "execution_count": 302,
     "metadata": {},
     "output_type": "execute_result"
    }
   ],
   "source": [
    "is_identity_matrix(A)"
   ]
  },
  {
   "cell_type": "markdown",
   "id": "01f96e40",
   "metadata": {},
   "source": [
    "#### Symmetric Matrix"
   ]
  },
  {
   "cell_type": "code",
   "execution_count": 305,
   "id": "b6a28017",
   "metadata": {},
   "outputs": [],
   "source": [
    "M = np.zeros((4,4), dtype=np.int16)"
   ]
  },
  {
   "cell_type": "code",
   "execution_count": 312,
   "id": "4ab79543",
   "metadata": {},
   "outputs": [],
   "source": [
    "for r in range(4):\n",
    "    for c in range(r,4):\n",
    "        M[r][c] = np.random.randint(2,15)\n",
    "        M[c][r] = M[r][c]"
   ]
  },
  {
   "cell_type": "code",
   "execution_count": 325,
   "id": "2f450a3a",
   "metadata": {},
   "outputs": [
    {
     "data": {
      "text/plain": [
       "array([[ 5,  2,  7, 12],\n",
       "       [ 2,  4, 13,  5],\n",
       "       [ 7, 13,  9,  2],\n",
       "       [12,  5,  2, 14]], dtype=int16)"
      ]
     },
     "execution_count": 325,
     "metadata": {},
     "output_type": "execute_result"
    }
   ],
   "source": [
    "M"
   ]
  },
  {
   "cell_type": "code",
   "execution_count": 316,
   "id": "eb6bcf2b",
   "metadata": {},
   "outputs": [],
   "source": [
    "def create_symmetric_matrix(shape):\n",
    "    M = np.zeros((shape,shape), dtype=np.int16)\n",
    "    for r in range(shape):\n",
    "        for c in range(r,shape):\n",
    "            M[r][c] = np.random.randint(2,15)\n",
    "            M[c][r] = M[r][c]\n",
    "    return M"
   ]
  },
  {
   "cell_type": "code",
   "execution_count": 326,
   "id": "84fd9785",
   "metadata": {},
   "outputs": [],
   "source": [
    "N = create_symmetric_matrix(5)"
   ]
  },
  {
   "cell_type": "code",
   "execution_count": 327,
   "id": "d8c19de3",
   "metadata": {},
   "outputs": [
    {
     "data": {
      "text/plain": [
       "array([[ 5,  4, 11, 13,  6],\n",
       "       [ 4,  4, 11, 11,  9],\n",
       "       [11, 11,  2,  5,  6],\n",
       "       [13, 11,  5, 14,  2],\n",
       "       [ 6,  9,  6,  2,  2]], dtype=int16)"
      ]
     },
     "execution_count": 327,
     "metadata": {},
     "output_type": "execute_result"
    }
   ],
   "source": [
    "N"
   ]
  },
  {
   "cell_type": "code",
   "execution_count": 328,
   "id": "e9201cd0",
   "metadata": {},
   "outputs": [
    {
     "data": {
      "text/plain": [
       "(array([[ 5,  4, 11, 13,  6],\n",
       "        [ 4,  4, 11, 11,  9],\n",
       "        [11, 11,  2,  5,  6],\n",
       "        [13, 11,  5, 14,  2],\n",
       "        [ 6,  9,  6,  2,  2]], dtype=int16),\n",
       " array([[ 5,  4, 11, 13,  6],\n",
       "        [ 4,  4, 11, 11,  9],\n",
       "        [11, 11,  2,  5,  6],\n",
       "        [13, 11,  5, 14,  2],\n",
       "        [ 6,  9,  6,  2,  2]], dtype=int16))"
      ]
     },
     "execution_count": 328,
     "metadata": {},
     "output_type": "execute_result"
    }
   ],
   "source": [
    "N, N.transpose()"
   ]
  },
  {
   "cell_type": "code",
   "execution_count": 331,
   "id": "ff3fae3c",
   "metadata": {},
   "outputs": [
    {
     "data": {
      "text/plain": [
       "False"
      ]
     },
     "execution_count": 331,
     "metadata": {},
     "output_type": "execute_result"
    }
   ],
   "source": [
    "all([1,1,1,0,1])"
   ]
  },
  {
   "cell_type": "code",
   "execution_count": 335,
   "id": "dc6c9c21",
   "metadata": {},
   "outputs": [
    {
     "data": {
      "text/plain": [
       "True"
      ]
     },
     "execution_count": 335,
     "metadata": {},
     "output_type": "execute_result"
    }
   ],
   "source": [
    "all((M == M.transpose()).flatten())"
   ]
  },
  {
   "cell_type": "code",
   "execution_count": 339,
   "id": "aaa5911b",
   "metadata": {},
   "outputs": [],
   "source": [
    "def is_symmetric_matrix(M):\n",
    "    if M.shape[0] == M.shape[1]:\n",
    "        return all((M == M.transpose()).flatten())\n",
    "    return False"
   ]
  },
  {
   "cell_type": "code",
   "execution_count": 343,
   "id": "55014626",
   "metadata": {},
   "outputs": [
    {
     "data": {
      "text/plain": [
       "True"
      ]
     },
     "execution_count": 343,
     "metadata": {},
     "output_type": "execute_result"
    }
   ],
   "source": [
    "is_symmetric_matrix(N)"
   ]
  },
  {
   "cell_type": "code",
   "execution_count": 344,
   "id": "fc5c204b",
   "metadata": {},
   "outputs": [
    {
     "data": {
      "text/plain": [
       "False"
      ]
     },
     "execution_count": 344,
     "metadata": {},
     "output_type": "execute_result"
    }
   ],
   "source": [
    "is_symmetric_matrix(R1)"
   ]
  },
  {
   "cell_type": "markdown",
   "id": "76454354",
   "metadata": {},
   "source": [
    "#### Skew-symmetric matrix"
   ]
  },
  {
   "cell_type": "code",
   "execution_count": 346,
   "id": "fa24ed28",
   "metadata": {},
   "outputs": [],
   "source": [
    "def create_skew_symmetric_matrix(shape):\n",
    "    M = np.zeros((shape,shape), dtype=np.int16)\n",
    "    for r in range(shape):\n",
    "        for c in range(r,shape):\n",
    "            if r != c:\n",
    "                M[r][c] = np.random.randint(2,15)\n",
    "                M[c][r] = -M[r][c]\n",
    "    return M"
   ]
  },
  {
   "cell_type": "code",
   "execution_count": 348,
   "id": "11f486e8",
   "metadata": {},
   "outputs": [],
   "source": [
    "Q = create_skew_symmetric_matrix(5)"
   ]
  },
  {
   "cell_type": "code",
   "execution_count": 349,
   "id": "6750b3c5",
   "metadata": {},
   "outputs": [
    {
     "data": {
      "text/plain": [
       "array([[  0,   5,   2,   4,  12],\n",
       "       [ -5,   0,   8,   2,  10],\n",
       "       [ -2,  -8,   0,  11,  10],\n",
       "       [ -4,  -2, -11,   0,  10],\n",
       "       [-12, -10, -10, -10,   0]], dtype=int16)"
      ]
     },
     "execution_count": 349,
     "metadata": {},
     "output_type": "execute_result"
    }
   ],
   "source": [
    "Q"
   ]
  },
  {
   "cell_type": "code",
   "execution_count": 350,
   "id": "8a7cb344",
   "metadata": {},
   "outputs": [
    {
     "data": {
      "text/plain": [
       "(array([[  0,   5,   2,   4,  12],\n",
       "        [ -5,   0,   8,   2,  10],\n",
       "        [ -2,  -8,   0,  11,  10],\n",
       "        [ -4,  -2, -11,   0,  10],\n",
       "        [-12, -10, -10, -10,   0]], dtype=int16),\n",
       " array([[  0,   5,   2,   4,  12],\n",
       "        [ -5,   0,   8,   2,  10],\n",
       "        [ -2,  -8,   0,  11,  10],\n",
       "        [ -4,  -2, -11,   0,  10],\n",
       "        [-12, -10, -10, -10,   0]], dtype=int16))"
      ]
     },
     "execution_count": 350,
     "metadata": {},
     "output_type": "execute_result"
    }
   ],
   "source": [
    "Q, -Q.transpose()"
   ]
  },
  {
   "cell_type": "code",
   "execution_count": 351,
   "id": "a5c323bb",
   "metadata": {},
   "outputs": [],
   "source": [
    "def is_skew_symmetric_matrix(M):\n",
    "    if M.shape[0] == M.shape[1]:\n",
    "        return all((M == -M.transpose()).flatten())\n",
    "    return False"
   ]
  },
  {
   "cell_type": "code",
   "execution_count": 352,
   "id": "df260e77",
   "metadata": {},
   "outputs": [
    {
     "data": {
      "text/plain": [
       "True"
      ]
     },
     "execution_count": 352,
     "metadata": {},
     "output_type": "execute_result"
    }
   ],
   "source": [
    "is_skew_symmetric_matrix(Q)"
   ]
  },
  {
   "cell_type": "code",
   "execution_count": 353,
   "id": "4d028c0c",
   "metadata": {},
   "outputs": [
    {
     "data": {
      "text/plain": [
       "False"
      ]
     },
     "execution_count": 353,
     "metadata": {},
     "output_type": "execute_result"
    }
   ],
   "source": [
    "is_skew_symmetric_matrix(M)"
   ]
  },
  {
   "cell_type": "markdown",
   "id": "4db24524",
   "metadata": {},
   "source": [
    "#### Orthonormal Matrix"
   ]
  },
  {
   "cell_type": "code",
   "execution_count": 355,
   "id": "6d6da6bb",
   "metadata": {},
   "outputs": [],
   "source": [
    "O = np.array([[1/np.sqrt(2),1/np.sqrt(2)],\n",
    "              [-1/np.sqrt(2), 1/np.sqrt(2)]])"
   ]
  },
  {
   "cell_type": "code",
   "execution_count": 356,
   "id": "5b6df73d",
   "metadata": {},
   "outputs": [
    {
     "data": {
      "text/plain": [
       "array([[ 0.70710678,  0.70710678],\n",
       "       [-0.70710678,  0.70710678]])"
      ]
     },
     "execution_count": 356,
     "metadata": {},
     "output_type": "execute_result"
    }
   ],
   "source": [
    "O"
   ]
  },
  {
   "cell_type": "code",
   "execution_count": 382,
   "id": "7a94751f",
   "metadata": {},
   "outputs": [
    {
     "data": {
      "text/plain": [
       "(array([[ 0.70710678, -0.70710678],\n",
       "        [ 0.70710678,  0.70710678]]),\n",
       " array([[ 0.70710678, -0.70710678],\n",
       "        [ 0.70710678,  0.70710678]]))"
      ]
     },
     "execution_count": 382,
     "metadata": {},
     "output_type": "execute_result"
    }
   ],
   "source": [
    "np.linalg.inv(O), O.transpose()"
   ]
  },
  {
   "cell_type": "code",
   "execution_count": 383,
   "id": "8989fab5",
   "metadata": {},
   "outputs": [
    {
     "data": {
      "text/plain": [
       "True"
      ]
     },
     "execution_count": 383,
     "metadata": {},
     "output_type": "execute_result"
    }
   ],
   "source": [
    "round(np.linalg.det(O),0) == 1"
   ]
  },
  {
   "cell_type": "code",
   "execution_count": 388,
   "id": "6e4d1cff",
   "metadata": {},
   "outputs": [
    {
     "data": {
      "text/plain": [
       "True"
      ]
     },
     "execution_count": 388,
     "metadata": {},
     "output_type": "execute_result"
    }
   ],
   "source": [
    "v = 1.67\n",
    "v == 1.67"
   ]
  },
  {
   "cell_type": "code",
   "execution_count": 386,
   "id": "f48ca3b1",
   "metadata": {},
   "outputs": [
    {
     "data": {
      "text/plain": [
       "array([[False, False],\n",
       "       [False, False]])"
      ]
     },
     "execution_count": 386,
     "metadata": {},
     "output_type": "execute_result"
    }
   ],
   "source": [
    "np.linalg.inv(O) == O.transpose()"
   ]
  },
  {
   "cell_type": "code",
   "execution_count": 376,
   "id": "afd454d2",
   "metadata": {},
   "outputs": [],
   "source": [
    "def is_orthonormal_matrix(M):\n",
    "    if M.shape[0] == M.shape[1]:\n",
    "        return all((np.linalg.inv(M) == M.transpose()).flatten()) and round(np.linalg.det(M),0) == 1\n",
    "    return False"
   ]
  },
  {
   "cell_type": "code",
   "execution_count": 377,
   "id": "f0c447e0",
   "metadata": {},
   "outputs": [
    {
     "data": {
      "text/plain": [
       "False"
      ]
     },
     "execution_count": 377,
     "metadata": {},
     "output_type": "execute_result"
    }
   ],
   "source": [
    "is_orthonormal_matrix(O)"
   ]
  },
  {
   "cell_type": "code",
   "execution_count": 378,
   "id": "d39036d0",
   "metadata": {},
   "outputs": [
    {
     "data": {
      "text/plain": [
       "array([[ 0.70710678,  0.70710678],\n",
       "       [-0.70710678,  0.70710678]])"
      ]
     },
     "execution_count": 378,
     "metadata": {},
     "output_type": "execute_result"
    }
   ],
   "source": [
    "O"
   ]
  },
  {
   "cell_type": "markdown",
   "id": "bd617124",
   "metadata": {},
   "source": [
    "#### Eigen Values"
   ]
  },
  {
   "cell_type": "code",
   "execution_count": 391,
   "id": "4487545c",
   "metadata": {},
   "outputs": [
    {
     "data": {
      "text/plain": [
       "array([[15, 20, 14],\n",
       "       [24, 23, 12],\n",
       "       [18, 13, 14]], dtype=int32)"
      ]
     },
     "execution_count": 391,
     "metadata": {},
     "output_type": "execute_result"
    }
   ],
   "source": [
    "R1"
   ]
  },
  {
   "cell_type": "code",
   "execution_count": 394,
   "id": "f15a01a5",
   "metadata": {},
   "outputs": [],
   "source": [
    "w, v = np.linalg.eig(R1)"
   ]
  },
  {
   "cell_type": "code",
   "execution_count": 395,
   "id": "ee5fa771",
   "metadata": {},
   "outputs": [
    {
     "data": {
      "text/plain": [
       "array([51.71237279, -4.94485691,  5.23248412])"
      ]
     },
     "execution_count": 395,
     "metadata": {},
     "output_type": "execute_result"
    }
   ],
   "source": [
    "### Eigen Value\n",
    "w"
   ]
  },
  {
   "cell_type": "code",
   "execution_count": 396,
   "id": "8bddba11",
   "metadata": {},
   "outputs": [
    {
     "data": {
      "text/plain": [
       "array([[ 0.55360065,  0.77377636,  0.02321882],\n",
       "       [ 0.66965058, -0.49458138, -0.5808934 ],\n",
       "       [ 0.49507013, -0.39580223,  0.81364841]])"
      ]
     },
     "execution_count": 396,
     "metadata": {},
     "output_type": "execute_result"
    }
   ],
   "source": [
    "### Eigen vector\n",
    "v"
   ]
  },
  {
   "cell_type": "code",
   "execution_count": 399,
   "id": "586f481f",
   "metadata": {},
   "outputs": [
    {
     "data": {
      "text/plain": [
       "array([[28.62800299, -3.82621338,  0.12149213],\n",
       "       [34.62922029,  2.44563416, -3.0395155 ],\n",
       "       [25.60125089,  1.95718537,  4.25740241]])"
      ]
     },
     "execution_count": 399,
     "metadata": {},
     "output_type": "execute_result"
    }
   ],
   "source": [
    "v * w"
   ]
  },
  {
   "cell_type": "code",
   "execution_count": 403,
   "id": "18c2da6b",
   "metadata": {},
   "outputs": [
    {
     "data": {
      "text/plain": [
       "array([[12.89066839, 20.99255865, 15.78614468],\n",
       "       [20.99255865, 23.74554672, 13.70280802],\n",
       "       [15.78614468, 13.70280802, 15.36378488]])"
      ]
     },
     "execution_count": 403,
     "metadata": {},
     "output_type": "execute_result"
    }
   ],
   "source": [
    "v @ np.diag(w) @ v.transpose()"
   ]
  },
  {
   "cell_type": "code",
   "execution_count": 404,
   "id": "0b66fe6a",
   "metadata": {},
   "outputs": [
    {
     "name": "stdout",
     "output_type": "stream",
     "text": [
      "[[1 0 0]\n",
      " [0 2 0]\n",
      " [0 0 3]]\n"
     ]
    }
   ],
   "source": [
    "# Create a NumPy array containing the eigenvalues\n",
    "eigenvalues = np.array([1, 2, 3])\n",
    "\n",
    "# Create a NumPy array containing the eigenvectors\n",
    "eigenvectors = np.array([[1, 0, 0], [0, 1, 0], [0, 0, 1]])\n",
    "\n",
    "# Calculate the original matrix\n",
    "original_matrix = eigenvectors @ np.diag(eigenvalues) \n",
    "@ eigenvectors.T\n",
    "\n",
    "# Print the original matrix\n",
    "print(original_matrix)"
   ]
  },
  {
   "cell_type": "code",
   "execution_count": null,
   "id": "5ae9ed23",
   "metadata": {},
   "outputs": [],
   "source": []
  }
 ],
 "metadata": {
  "kernelspec": {
   "display_name": "Python 3",
   "language": "python",
   "name": "python3"
  },
  "language_info": {
   "codemirror_mode": {
    "name": "ipython",
    "version": 3
   },
   "file_extension": ".py",
   "mimetype": "text/x-python",
   "name": "python",
   "nbconvert_exporter": "python",
   "pygments_lexer": "ipython3",
   "version": "3.8.10"
  }
 },
 "nbformat": 4,
 "nbformat_minor": 5
}
