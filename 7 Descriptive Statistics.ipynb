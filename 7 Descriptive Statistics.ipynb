{
 "cells": [
  {
   "cell_type": "code",
   "execution_count": 2,
   "id": "0d3384d8",
   "metadata": {},
   "outputs": [],
   "source": [
    "import numpy as np\n",
    "import pandas as pd"
   ]
  },
  {
   "cell_type": "code",
   "execution_count": 3,
   "id": "03aa78cb",
   "metadata": {},
   "outputs": [],
   "source": [
    "v = np.array([23,11,46,42,33,56,7,88,54])"
   ]
  },
  {
   "cell_type": "code",
   "execution_count": 4,
   "id": "b01b042a",
   "metadata": {},
   "outputs": [],
   "source": [
    "s = pd.Series([23,11,46,42,33,56,7,88,54])"
   ]
  },
  {
   "cell_type": "code",
   "execution_count": 5,
   "id": "76213bdc",
   "metadata": {},
   "outputs": [
    {
     "data": {
      "text/plain": [
       "array([23, 11, 46, 42, 33, 56,  7, 88, 54])"
      ]
     },
     "execution_count": 5,
     "metadata": {},
     "output_type": "execute_result"
    }
   ],
   "source": [
    "v"
   ]
  },
  {
   "cell_type": "code",
   "execution_count": 6,
   "id": "c1a10af9",
   "metadata": {},
   "outputs": [
    {
     "data": {
      "text/plain": [
       "0    23\n",
       "1    11\n",
       "2    46\n",
       "3    42\n",
       "4    33\n",
       "5    56\n",
       "6     7\n",
       "7    88\n",
       "8    54\n",
       "dtype: int64"
      ]
     },
     "execution_count": 6,
     "metadata": {},
     "output_type": "execute_result"
    }
   ],
   "source": [
    "s"
   ]
  },
  {
   "cell_type": "markdown",
   "id": "9aa2c593",
   "metadata": {},
   "source": [
    "#### mean"
   ]
  },
  {
   "cell_type": "code",
   "execution_count": 8,
   "id": "e51bcee5",
   "metadata": {},
   "outputs": [
    {
     "data": {
      "text/plain": [
       "40.0"
      ]
     },
     "execution_count": 8,
     "metadata": {},
     "output_type": "execute_result"
    }
   ],
   "source": [
    "sum(v) / v.size"
   ]
  },
  {
   "cell_type": "code",
   "execution_count": 9,
   "id": "fce259e1",
   "metadata": {},
   "outputs": [
    {
     "data": {
      "text/plain": [
       "40.0"
      ]
     },
     "execution_count": 9,
     "metadata": {},
     "output_type": "execute_result"
    }
   ],
   "source": [
    "s.sum() / s.size"
   ]
  },
  {
   "cell_type": "code",
   "execution_count": 10,
   "id": "4b3d8d03",
   "metadata": {},
   "outputs": [
    {
     "data": {
      "text/plain": [
       "40.0"
      ]
     },
     "execution_count": 10,
     "metadata": {},
     "output_type": "execute_result"
    }
   ],
   "source": [
    "v.mean()"
   ]
  },
  {
   "cell_type": "code",
   "execution_count": 11,
   "id": "83f1a482",
   "metadata": {},
   "outputs": [
    {
     "data": {
      "text/plain": [
       "40.0"
      ]
     },
     "execution_count": 11,
     "metadata": {},
     "output_type": "execute_result"
    }
   ],
   "source": [
    "s.mean()"
   ]
  },
  {
   "cell_type": "markdown",
   "id": "cf21404d",
   "metadata": {},
   "source": [
    "#### median"
   ]
  },
  {
   "cell_type": "code",
   "execution_count": 13,
   "id": "2b5da026",
   "metadata": {},
   "outputs": [
    {
     "data": {
      "text/plain": [
       "42.0"
      ]
     },
     "execution_count": 13,
     "metadata": {},
     "output_type": "execute_result"
    }
   ],
   "source": [
    "s.median()"
   ]
  },
  {
   "cell_type": "code",
   "execution_count": 14,
   "id": "57b25191",
   "metadata": {},
   "outputs": [
    {
     "data": {
      "text/plain": [
       "42.0"
      ]
     },
     "execution_count": 14,
     "metadata": {},
     "output_type": "execute_result"
    }
   ],
   "source": [
    "np.median(v)"
   ]
  },
  {
   "cell_type": "code",
   "execution_count": 33,
   "id": "c71cf9b9",
   "metadata": {},
   "outputs": [],
   "source": [
    "x = np.array([12,13,14,15])"
   ]
  },
  {
   "cell_type": "code",
   "execution_count": 40,
   "id": "fd0870fa",
   "metadata": {},
   "outputs": [],
   "source": [
    "def median(n):\n",
    "    if n.size % 2 == 1:\n",
    "        return n[n.size//2 - 1]\n",
    "    else:\n",
    "        return (n[n.size//2] + n[n.size//2 - 1]) / 2"
   ]
  },
  {
   "cell_type": "code",
   "execution_count": 43,
   "id": "958231d4",
   "metadata": {},
   "outputs": [
    {
     "data": {
      "text/plain": [
       "13.5"
      ]
     },
     "execution_count": 43,
     "metadata": {},
     "output_type": "execute_result"
    }
   ],
   "source": [
    "median(x)"
   ]
  },
  {
   "cell_type": "markdown",
   "id": "4ef7ac52",
   "metadata": {},
   "source": [
    "#### mode"
   ]
  },
  {
   "cell_type": "code",
   "execution_count": 45,
   "id": "ff7cb7b9",
   "metadata": {},
   "outputs": [],
   "source": [
    "x = np.array([54,33,23,6,66,54,34,78,54,12])"
   ]
  },
  {
   "cell_type": "code",
   "execution_count": 47,
   "id": "af07b4b2",
   "metadata": {},
   "outputs": [],
   "source": [
    "s = pd.Series([54,33,23,6,66,54,34,78,54,12])"
   ]
  },
  {
   "cell_type": "code",
   "execution_count": 48,
   "id": "63b9c3f6",
   "metadata": {},
   "outputs": [
    {
     "data": {
      "text/plain": [
       "0    54\n",
       "dtype: int64"
      ]
     },
     "execution_count": 48,
     "metadata": {},
     "output_type": "execute_result"
    }
   ],
   "source": [
    "s.mode()"
   ]
  },
  {
   "cell_type": "code",
   "execution_count": 49,
   "id": "c04da977",
   "metadata": {},
   "outputs": [
    {
     "data": {
      "text/plain": [
       "54    3\n",
       "33    1\n",
       "23    1\n",
       "6     1\n",
       "66    1\n",
       "34    1\n",
       "78    1\n",
       "12    1\n",
       "dtype: int64"
      ]
     },
     "execution_count": 49,
     "metadata": {},
     "output_type": "execute_result"
    }
   ],
   "source": [
    "s.value_counts()"
   ]
  },
  {
   "cell_type": "code",
   "execution_count": 50,
   "id": "be2ef22c",
   "metadata": {},
   "outputs": [
    {
     "data": {
      "text/plain": [
       "Counter({54: 3, 33: 1, 23: 1, 6: 1, 66: 1, 34: 1, 78: 1, 12: 1})"
      ]
     },
     "execution_count": 50,
     "metadata": {},
     "output_type": "execute_result"
    }
   ],
   "source": [
    "from collections import Counter\n",
    "Counter(s)"
   ]
  },
  {
   "cell_type": "code",
   "execution_count": 51,
   "id": "732a8326",
   "metadata": {},
   "outputs": [],
   "source": [
    "s = pd.Series([54,34,23,34,66,54,34,78,54,12])"
   ]
  },
  {
   "cell_type": "code",
   "execution_count": 52,
   "id": "c1b63959",
   "metadata": {},
   "outputs": [
    {
     "data": {
      "text/plain": [
       "0    34\n",
       "1    54\n",
       "dtype: int64"
      ]
     },
     "execution_count": 52,
     "metadata": {},
     "output_type": "execute_result"
    }
   ],
   "source": [
    "s.mode()"
   ]
  },
  {
   "cell_type": "code",
   "execution_count": 53,
   "id": "15717dc5",
   "metadata": {},
   "outputs": [],
   "source": [
    "import seaborn as sns"
   ]
  },
  {
   "cell_type": "code",
   "execution_count": 54,
   "id": "619b117f",
   "metadata": {},
   "outputs": [
    {
     "data": {
      "text/plain": [
       "<AxesSubplot:ylabel='count'>"
      ]
     },
     "execution_count": 54,
     "metadata": {},
     "output_type": "execute_result"
    },
    {
     "data": {
      "image/png": "[encoded data removed]",
      "text/plain": [
       "<Figure size 432x288 with 1 Axes>"
      ]
     },
     "metadata": {
      "needs_background": "light"
     },
     "output_type": "display_data"
    }
   ],
   "source": [
    "sns.countplot(x=s)"
   ]
  },
  {
   "cell_type": "markdown",
   "id": "d677fe3f",
   "metadata": {},
   "source": [
    "#### mean absolute deviation"
   ]
  },
  {
   "cell_type": "code",
   "execution_count": 58,
   "id": "d5e9b9f4",
   "metadata": {},
   "outputs": [
    {
     "data": {
      "text/plain": [
       "19.11111111111111"
      ]
     },
     "execution_count": 58,
     "metadata": {},
     "output_type": "execute_result"
    }
   ],
   "source": [
    "np.mean(abs(v - v.mean()))"
   ]
  },
  {
   "cell_type": "code",
   "execution_count": 59,
   "id": "be2d5711",
   "metadata": {},
   "outputs": [
    {
     "data": {
      "text/plain": [
       "16.9"
      ]
     },
     "execution_count": 59,
     "metadata": {},
     "output_type": "execute_result"
    }
   ],
   "source": [
    "np.mean(abs(s - s.mean()))"
   ]
  },
  {
   "cell_type": "markdown",
   "id": "b46f786e",
   "metadata": {},
   "source": [
    "#### variance"
   ]
  },
  {
   "cell_type": "code",
   "execution_count": 63,
   "id": "581966ba",
   "metadata": {},
   "outputs": [
    {
     "data": {
      "text/plain": [
       "562.6666666666666"
      ]
     },
     "execution_count": 63,
     "metadata": {},
     "output_type": "execute_result"
    }
   ],
   "source": [
    "np.mean((v - v.mean()) ** 2)"
   ]
  },
  {
   "cell_type": "code",
   "execution_count": 64,
   "id": "32ca421e",
   "metadata": {},
   "outputs": [
    {
     "data": {
      "text/plain": [
       "562"
      ]
     },
     "execution_count": 64,
     "metadata": {},
     "output_type": "execute_result"
    }
   ],
   "source": [
    "from statistics import pvariance\n",
    "pvariance(v)"
   ]
  },
  {
   "cell_type": "code",
   "execution_count": 65,
   "id": "99f9daf1",
   "metadata": {},
   "outputs": [
    {
     "data": {
      "text/plain": [
       "370.41"
      ]
     },
     "execution_count": 65,
     "metadata": {},
     "output_type": "execute_result"
    }
   ],
   "source": [
    "np.mean((s - s.mean()) ** 2)"
   ]
  },
  {
   "cell_type": "code",
   "execution_count": 66,
   "id": "0d486d28",
   "metadata": {},
   "outputs": [
    {
     "data": {
      "text/plain": [
       "370.41"
      ]
     },
     "execution_count": 66,
     "metadata": {},
     "output_type": "execute_result"
    }
   ],
   "source": [
    "pvariance(s)"
   ]
  },
  {
   "cell_type": "code",
   "execution_count": 79,
   "id": "cad621ef",
   "metadata": {},
   "outputs": [],
   "source": [
    "z = np.array([5,7,3.0,9,4,2])"
   ]
  },
  {
   "cell_type": "code",
   "execution_count": 80,
   "id": "b99a4aec",
   "metadata": {},
   "outputs": [
    {
     "data": {
      "text/plain": [
       "5.666666666666667"
      ]
     },
     "execution_count": 80,
     "metadata": {},
     "output_type": "execute_result"
    }
   ],
   "source": [
    "pvariance(z)"
   ]
  },
  {
   "cell_type": "markdown",
   "id": "ae77eed0",
   "metadata": {},
   "source": [
    "#### Standard deviation"
   ]
  },
  {
   "cell_type": "code",
   "execution_count": 82,
   "id": "b7319fe4",
   "metadata": {},
   "outputs": [
    {
     "data": {
      "text/plain": [
       "23.72059583287626"
      ]
     },
     "execution_count": 82,
     "metadata": {},
     "output_type": "execute_result"
    }
   ],
   "source": [
    "np.sqrt(np.mean((v - v.mean()) ** 2))"
   ]
  },
  {
   "cell_type": "code",
   "execution_count": 83,
   "id": "b552fdaa",
   "metadata": {},
   "outputs": [
    {
     "data": {
      "text/plain": [
       "23.72059583287626"
      ]
     },
     "execution_count": 83,
     "metadata": {},
     "output_type": "execute_result"
    }
   ],
   "source": [
    "v.std()"
   ]
  },
  {
   "cell_type": "code",
   "execution_count": 84,
   "id": "62d00686",
   "metadata": {},
   "outputs": [
    {
     "data": {
      "text/plain": [
       "19.24603855342704"
      ]
     },
     "execution_count": 84,
     "metadata": {},
     "output_type": "execute_result"
    }
   ],
   "source": [
    "np.sqrt(np.mean((s - s.mean()) ** 2))"
   ]
  },
  {
   "cell_type": "code",
   "execution_count": 85,
   "id": "473b1f93",
   "metadata": {},
   "outputs": [
    {
     "data": {
      "text/plain": [
       "20.287105921413897"
      ]
     },
     "execution_count": 85,
     "metadata": {},
     "output_type": "execute_result"
    }
   ],
   "source": [
    "s.std()"
   ]
  },
  {
   "cell_type": "code",
   "execution_count": 86,
   "id": "2fff82f8",
   "metadata": {},
   "outputs": [
    {
     "data": {
      "text/plain": [
       "19.24603855342704"
      ]
     },
     "execution_count": 86,
     "metadata": {},
     "output_type": "execute_result"
    }
   ],
   "source": [
    "np.std(s)"
   ]
  },
  {
   "cell_type": "markdown",
   "id": "90b96475",
   "metadata": {},
   "source": [
    "#### Range"
   ]
  },
  {
   "cell_type": "code",
   "execution_count": 91,
   "id": "1ab66886",
   "metadata": {},
   "outputs": [
    {
     "data": {
      "text/plain": [
       "66"
      ]
     },
     "execution_count": 91,
     "metadata": {},
     "output_type": "execute_result"
    }
   ],
   "source": [
    "s.max() - s.min()"
   ]
  },
  {
   "cell_type": "code",
   "execution_count": 92,
   "id": "bec2269e",
   "metadata": {},
   "outputs": [
    {
     "data": {
      "text/plain": [
       "81"
      ]
     },
     "execution_count": 92,
     "metadata": {},
     "output_type": "execute_result"
    }
   ],
   "source": [
    "v.max() - v.min()"
   ]
  },
  {
   "cell_type": "markdown",
   "id": "93c2c3d5",
   "metadata": {},
   "source": [
    "#### Density Distribution"
   ]
  },
  {
   "cell_type": "code",
   "execution_count": 100,
   "id": "54dcb801",
   "metadata": {},
   "outputs": [],
   "source": [
    "x = pd.Series([1,2,3,4,4,5,5,6,6,7,7,7,8,8,9,9,10,10,11,12,13])"
   ]
  },
  {
   "cell_type": "code",
   "execution_count": 106,
   "id": "7ceedb39",
   "metadata": {},
   "outputs": [],
   "source": [
    "x;"
   ]
  },
  {
   "cell_type": "code",
   "execution_count": 102,
   "id": "b96ff518",
   "metadata": {},
   "outputs": [
    {
     "data": {
      "text/plain": [
       "<AxesSubplot:ylabel='Density'>"
      ]
     },
     "execution_count": 102,
     "metadata": {},
     "output_type": "execute_result"
    },
    {
     "data": {
      "image/png": "[encoded data removed]",
      "text/plain": [
       "<Figure size 432x288 with 1 Axes>"
      ]
     },
     "metadata": {
      "needs_background": "light"
     },
     "output_type": "display_data"
    }
   ],
   "source": [
    "sns.kdeplot(x)"
   ]
  },
  {
   "cell_type": "code",
   "execution_count": 103,
   "id": "6d7f0a05",
   "metadata": {},
   "outputs": [
    {
     "data": {
      "text/plain": [
       "7.0"
      ]
     },
     "execution_count": 103,
     "metadata": {},
     "output_type": "execute_result"
    }
   ],
   "source": [
    "x.mean()"
   ]
  },
  {
   "cell_type": "code",
   "execution_count": 104,
   "id": "180fc1f2",
   "metadata": {},
   "outputs": [
    {
     "data": {
      "text/plain": [
       "7.0"
      ]
     },
     "execution_count": 104,
     "metadata": {},
     "output_type": "execute_result"
    }
   ],
   "source": [
    "x.median()"
   ]
  },
  {
   "cell_type": "code",
   "execution_count": 105,
   "id": "c1237a51",
   "metadata": {},
   "outputs": [
    {
     "data": {
      "text/plain": [
       "0    7\n",
       "dtype: int64"
      ]
     },
     "execution_count": 105,
     "metadata": {},
     "output_type": "execute_result"
    }
   ],
   "source": [
    "x.mode()"
   ]
  },
  {
   "cell_type": "code",
   "execution_count": 107,
   "id": "d5206be8",
   "metadata": {},
   "outputs": [],
   "source": [
    "df = pd.read_csv('student.csv')"
   ]
  },
  {
   "cell_type": "code",
   "execution_count": 109,
   "id": "143870aa",
   "metadata": {},
   "outputs": [
    {
     "data": {
      "text/plain": [
       "<AxesSubplot:xlabel='marks', ylabel='Density'>"
      ]
     },
     "execution_count": 109,
     "metadata": {},
     "output_type": "execute_result"
    },
    {
     "data": {
      "image/png": "[encoded data removed]",
      "text/plain": [
       "<Figure size 432x288 with 1 Axes>"
      ]
     },
     "metadata": {
      "needs_background": "light"
     },
     "output_type": "display_data"
    }
   ],
   "source": [
    "sns.kdeplot(df['marks'])"
   ]
  },
  {
   "cell_type": "code",
   "execution_count": 110,
   "id": "d50d411f",
   "metadata": {},
   "outputs": [
    {
     "data": {
      "text/plain": [
       "<AxesSubplot:xlabel='age', ylabel='Density'>"
      ]
     },
     "execution_count": 110,
     "metadata": {},
     "output_type": "execute_result"
    },
    {
     "data": {
      "image/png": "[encoded data removed]",
      "text/plain": [
       "<Figure size 432x288 with 1 Axes>"
      ]
     },
     "metadata": {
      "needs_background": "light"
     },
     "output_type": "display_data"
    }
   ],
   "source": [
    "sns.kdeplot(df['age'])"
   ]
  },
  {
   "cell_type": "markdown",
   "id": "e6495a7a",
   "metadata": {},
   "source": [
    "#### Skewness"
   ]
  },
  {
   "cell_type": "code",
   "execution_count": 117,
   "id": "4874f282",
   "metadata": {},
   "outputs": [],
   "source": [
    "from scipy.stats import skew"
   ]
  },
  {
   "cell_type": "code",
   "execution_count": 120,
   "id": "9a405e19",
   "metadata": {},
   "outputs": [],
   "source": [
    "x;"
   ]
  },
  {
   "cell_type": "code",
   "execution_count": 118,
   "id": "698dafaa",
   "metadata": {},
   "outputs": [
    {
     "data": {
      "text/plain": [
       "0.0"
      ]
     },
     "execution_count": 118,
     "metadata": {},
     "output_type": "execute_result"
    }
   ],
   "source": [
    "# 0 -> ideal bell curve\n",
    "skew(x)"
   ]
  },
  {
   "cell_type": "code",
   "execution_count": 133,
   "id": "e7d32d44",
   "metadata": {},
   "outputs": [],
   "source": [
    "x1 = pd.Series([1,1,1,1,2,2,2,2,3,3,4,5,6,7,8,9,10])"
   ]
  },
  {
   "cell_type": "code",
   "execution_count": 134,
   "id": "4c204309",
   "metadata": {},
   "outputs": [
    {
     "data": {
      "text/plain": [
       "<AxesSubplot:ylabel='Density'>"
      ]
     },
     "execution_count": 134,
     "metadata": {},
     "output_type": "execute_result"
    },
    {
     "data": {
      "image/png": "[encoded data removed]",
      "text/plain": [
       "<Figure size 432x288 with 1 Axes>"
      ]
     },
     "metadata": {
      "needs_background": "light"
     },
     "output_type": "display_data"
    }
   ],
   "source": [
    "sns.kdeplot(x1)"
   ]
  },
  {
   "cell_type": "code",
   "execution_count": 135,
   "id": "2139d018",
   "metadata": {},
   "outputs": [
    {
     "data": {
      "text/plain": [
       "0.766938081548668"
      ]
     },
     "execution_count": 135,
     "metadata": {},
     "output_type": "execute_result"
    }
   ],
   "source": [
    "skew(x1)"
   ]
  },
  {
   "cell_type": "code",
   "execution_count": 140,
   "id": "886b6345",
   "metadata": {},
   "outputs": [
    {
     "data": {
      "text/plain": [
       "(1, 3.0, 3.9411764705882355)"
      ]
     },
     "execution_count": 140,
     "metadata": {},
     "output_type": "execute_result"
    }
   ],
   "source": [
    "x1.mode()[0], x1.median(), x1.mean()"
   ]
  },
  {
   "cell_type": "code",
   "execution_count": 141,
   "id": "58e40de4",
   "metadata": {},
   "outputs": [],
   "source": [
    "x2 = pd.Series([1,2,3,4,5,6,7,7,8,8,9,9,9,10,10,10,10,10])"
   ]
  },
  {
   "cell_type": "code",
   "execution_count": 142,
   "id": "77da1e2e",
   "metadata": {},
   "outputs": [
    {
     "data": {
      "text/plain": [
       "<AxesSubplot:ylabel='Density'>"
      ]
     },
     "execution_count": 142,
     "metadata": {},
     "output_type": "execute_result"
    },
    {
     "data": {
      "image/png": "[encoded data removed]",
      "text/plain": [
       "<Figure size 432x288 with 1 Axes>"
      ]
     },
     "metadata": {
      "needs_background": "light"
     },
     "output_type": "display_data"
    }
   ],
   "source": [
    "sns.kdeplot(x2)"
   ]
  },
  {
   "cell_type": "code",
   "execution_count": 143,
   "id": "78d4200e",
   "metadata": {},
   "outputs": [
    {
     "data": {
      "text/plain": [
       "(10, 8.0, 7.111111111111111)"
      ]
     },
     "execution_count": 143,
     "metadata": {},
     "output_type": "execute_result"
    }
   ],
   "source": [
    "x2.mode()[0], x2.median(), x2.mean()"
   ]
  },
  {
   "cell_type": "code",
   "execution_count": 144,
   "id": "60c0b9a4",
   "metadata": {},
   "outputs": [
    {
     "data": {
      "text/plain": [
       "-0.7636847593733299"
      ]
     },
     "execution_count": 144,
     "metadata": {},
     "output_type": "execute_result"
    }
   ],
   "source": [
    "skew(x2)"
   ]
  },
  {
   "cell_type": "code",
   "execution_count": 152,
   "id": "0cb180f1",
   "metadata": {},
   "outputs": [],
   "source": [
    "m = pd.Series([61]*5+[64]*18+[67]*42+[70]*27+[73]*8)"
   ]
  },
  {
   "cell_type": "code",
   "execution_count": 153,
   "id": "680073db",
   "metadata": {},
   "outputs": [
    {
     "data": {
      "text/plain": [
       "-0.10815437112299389"
      ]
     },
     "execution_count": 153,
     "metadata": {},
     "output_type": "execute_result"
    }
   ],
   "source": [
    "skew(m)"
   ]
  },
  {
   "cell_type": "code",
   "execution_count": 154,
   "id": "7df80109",
   "metadata": {},
   "outputs": [
    {
     "data": {
      "text/plain": [
       "<AxesSubplot:ylabel='Density'>"
      ]
     },
     "execution_count": 154,
     "metadata": {},
     "output_type": "execute_result"
    },
    {
     "data": {
      "image/png": "[encoded data removed]",
      "text/plain": [
       "<Figure size 432x288 with 1 Axes>"
      ]
     },
     "metadata": {
      "needs_background": "light"
     },
     "output_type": "display_data"
    }
   ],
   "source": [
    "sns.kdeplot(m)"
   ]
  },
  {
   "cell_type": "code",
   "execution_count": 155,
   "id": "96b294fc",
   "metadata": {},
   "outputs": [
    {
     "data": {
      "text/plain": [
       "0.08352893890364131"
      ]
     },
     "execution_count": 155,
     "metadata": {},
     "output_type": "execute_result"
    }
   ],
   "source": [
    "skew(df['marks'])"
   ]
  },
  {
   "cell_type": "markdown",
   "id": "ebdefabd",
   "metadata": {},
   "source": [
    "#### Kurtosis"
   ]
  },
  {
   "cell_type": "code",
   "execution_count": 157,
   "id": "21a25b7e",
   "metadata": {},
   "outputs": [],
   "source": [
    "from scipy.stats import kurtosis"
   ]
  },
  {
   "cell_type": "code",
   "execution_count": 159,
   "id": "80a76da3",
   "metadata": {},
   "outputs": [
    {
     "data": {
      "text/plain": [
       "-0.9110296498185608"
      ]
     },
     "execution_count": 159,
     "metadata": {},
     "output_type": "execute_result"
    }
   ],
   "source": [
    "kurtosis(s)"
   ]
  },
  {
   "cell_type": "code",
   "execution_count": 161,
   "id": "d541d0ca",
   "metadata": {},
   "outputs": [
    {
     "data": {
      "text/plain": [
       "-1.0"
      ]
     },
     "execution_count": 161,
     "metadata": {},
     "output_type": "execute_result"
    }
   ],
   "source": [
    "kurtosis([0,10,10,20])"
   ]
  },
  {
   "cell_type": "code",
   "execution_count": 162,
   "id": "b9026ef1",
   "metadata": {},
   "outputs": [
    {
     "data": {
      "text/plain": [
       "<AxesSubplot:ylabel='Density'>"
      ]
     },
     "execution_count": 162,
     "metadata": {},
     "output_type": "execute_result"
    },
    {
     "data": {
      "image/png": "[encoded data removed]",
      "text/plain": [
       "<Figure size 432x288 with 1 Axes>"
      ]
     },
     "metadata": {
      "needs_background": "light"
     },
     "output_type": "display_data"
    }
   ],
   "source": [
    "sns.kdeplot([0,10,10,20])"
   ]
  },
  {
   "cell_type": "markdown",
   "id": "f48ac1ee",
   "metadata": {},
   "source": [
    "## Outlier Detection"
   ]
  },
  {
   "cell_type": "markdown",
   "id": "4031fcab",
   "metadata": {},
   "source": [
    "#### box plot"
   ]
  },
  {
   "cell_type": "code",
   "execution_count": 165,
   "id": "c6b2b836",
   "metadata": {},
   "outputs": [],
   "source": [
    "sal = []\n",
    "for n in range(100):\n",
    "    sal.append(np.random.randint(25000, 40000))"
   ]
  },
  {
   "cell_type": "code",
   "execution_count": 167,
   "id": "ee3e5912",
   "metadata": {},
   "outputs": [],
   "source": [
    "df = pd.DataFrame({\n",
    "    'salary': sal\n",
    "})"
   ]
  },
  {
   "cell_type": "code",
   "execution_count": 168,
   "id": "eefc0349",
   "metadata": {},
   "outputs": [
    {
     "data": {
      "text/html": [
       "<div>\n",
       "<style scoped>\n",
       "    .dataframe tbody tr th:only-of-type {\n",
       "        vertical-align: middle;\n",
       "    }\n",
       "\n",
       "    .dataframe tbody tr th {\n",
       "        vertical-align: top;\n",
       "    }\n",
       "\n",
       "    .dataframe thead th {\n",
       "        text-align: right;\n",
       "    }\n",
       "</style>\n",
       "<table border=\"1\" class=\"dataframe\">\n",
       "  <thead>\n",
       "    <tr style=\"text-align: right;\">\n",
       "      <th></th>\n",
       "      <th>salary</th>\n",
       "    </tr>\n",
       "  </thead>\n",
       "  <tbody>\n",
       "    <tr>\n",
       "      <th>0</th>\n",
       "      <td>37419</td>\n",
       "    </tr>\n",
       "    <tr>\n",
       "      <th>1</th>\n",
       "      <td>28879</td>\n",
       "    </tr>\n",
       "    <tr>\n",
       "      <th>2</th>\n",
       "      <td>26460</td>\n",
       "    </tr>\n",
       "    <tr>\n",
       "      <th>3</th>\n",
       "      <td>37216</td>\n",
       "    </tr>\n",
       "    <tr>\n",
       "      <th>4</th>\n",
       "      <td>38766</td>\n",
       "    </tr>\n",
       "    <tr>\n",
       "      <th>...</th>\n",
       "      <td>...</td>\n",
       "    </tr>\n",
       "    <tr>\n",
       "      <th>95</th>\n",
       "      <td>33313</td>\n",
       "    </tr>\n",
       "    <tr>\n",
       "      <th>96</th>\n",
       "      <td>38422</td>\n",
       "    </tr>\n",
       "    <tr>\n",
       "      <th>97</th>\n",
       "      <td>31771</td>\n",
       "    </tr>\n",
       "    <tr>\n",
       "      <th>98</th>\n",
       "      <td>25225</td>\n",
       "    </tr>\n",
       "    <tr>\n",
       "      <th>99</th>\n",
       "      <td>26432</td>\n",
       "    </tr>\n",
       "  </tbody>\n",
       "</table>\n",
       "<p>100 rows × 1 columns</p>\n",
       "</div>"
      ],
      "text/plain": [
       "    salary\n",
       "0    37419\n",
       "1    28879\n",
       "2    26460\n",
       "3    37216\n",
       "4    38766\n",
       "..     ...\n",
       "95   33313\n",
       "96   38422\n",
       "97   31771\n",
       "98   25225\n",
       "99   26432\n",
       "\n",
       "[100 rows x 1 columns]"
      ]
     },
     "execution_count": 168,
     "metadata": {},
     "output_type": "execute_result"
    }
   ],
   "source": [
    "df"
   ]
  },
  {
   "cell_type": "code",
   "execution_count": 179,
   "id": "2f1ecc08",
   "metadata": {},
   "outputs": [],
   "source": [
    "df.iloc[34,:] = 52000\n",
    "df.iloc[81,:] = 56500\n",
    "df.iloc[57,:] = 15000"
   ]
  },
  {
   "cell_type": "code",
   "execution_count": 180,
   "id": "da49c3d6",
   "metadata": {},
   "outputs": [
    {
     "data": {
      "text/html": [
       "<div>\n",
       "<style scoped>\n",
       "    .dataframe tbody tr th:only-of-type {\n",
       "        vertical-align: middle;\n",
       "    }\n",
       "\n",
       "    .dataframe tbody tr th {\n",
       "        vertical-align: top;\n",
       "    }\n",
       "\n",
       "    .dataframe thead th {\n",
       "        text-align: right;\n",
       "    }\n",
       "</style>\n",
       "<table border=\"1\" class=\"dataframe\">\n",
       "  <thead>\n",
       "    <tr style=\"text-align: right;\">\n",
       "      <th></th>\n",
       "      <th>salary</th>\n",
       "    </tr>\n",
       "  </thead>\n",
       "  <tbody>\n",
       "    <tr>\n",
       "      <th>0</th>\n",
       "      <td>37419</td>\n",
       "    </tr>\n",
       "    <tr>\n",
       "      <th>1</th>\n",
       "      <td>28879</td>\n",
       "    </tr>\n",
       "    <tr>\n",
       "      <th>2</th>\n",
       "      <td>26460</td>\n",
       "    </tr>\n",
       "    <tr>\n",
       "      <th>3</th>\n",
       "      <td>37216</td>\n",
       "    </tr>\n",
       "    <tr>\n",
       "      <th>4</th>\n",
       "      <td>38766</td>\n",
       "    </tr>\n",
       "    <tr>\n",
       "      <th>...</th>\n",
       "      <td>...</td>\n",
       "    </tr>\n",
       "    <tr>\n",
       "      <th>95</th>\n",
       "      <td>33313</td>\n",
       "    </tr>\n",
       "    <tr>\n",
       "      <th>96</th>\n",
       "      <td>38422</td>\n",
       "    </tr>\n",
       "    <tr>\n",
       "      <th>97</th>\n",
       "      <td>31771</td>\n",
       "    </tr>\n",
       "    <tr>\n",
       "      <th>98</th>\n",
       "      <td>25225</td>\n",
       "    </tr>\n",
       "    <tr>\n",
       "      <th>99</th>\n",
       "      <td>26432</td>\n",
       "    </tr>\n",
       "  </tbody>\n",
       "</table>\n",
       "<p>100 rows × 1 columns</p>\n",
       "</div>"
      ],
      "text/plain": [
       "    salary\n",
       "0    37419\n",
       "1    28879\n",
       "2    26460\n",
       "3    37216\n",
       "4    38766\n",
       "..     ...\n",
       "95   33313\n",
       "96   38422\n",
       "97   31771\n",
       "98   25225\n",
       "99   26432\n",
       "\n",
       "[100 rows x 1 columns]"
      ]
     },
     "execution_count": 180,
     "metadata": {},
     "output_type": "execute_result"
    }
   ],
   "source": [
    "df"
   ]
  },
  {
   "cell_type": "code",
   "execution_count": 181,
   "id": "23804926",
   "metadata": {},
   "outputs": [
    {
     "data": {
      "text/plain": [
       "<AxesSubplot:>"
      ]
     },
     "execution_count": 181,
     "metadata": {},
     "output_type": "execute_result"
    },
    {
     "data": {
      "image/png": "[encoded data removed]",
      "text/plain": [
       "<Figure size 432x288 with 1 Axes>"
      ]
     },
     "metadata": {
      "needs_background": "light"
     },
     "output_type": "display_data"
    }
   ],
   "source": [
    "df.plot.box()"
   ]
  },
  {
   "cell_type": "code",
   "execution_count": 183,
   "id": "05d25140",
   "metadata": {},
   "outputs": [
    {
     "name": "stderr",
     "output_type": "stream",
     "text": [
      "/home/mitu/.local/lib/python3.8/site-packages/seaborn/categorical.py:82: FutureWarning: iteritems is deprecated and will be removed in a future version. Use .items instead.\n",
      "  plot_data = [np.asarray(s, float) for k, s in iter_data]\n"
     ]
    },
    {
     "data": {
      "text/plain": [
       "<AxesSubplot:>"
      ]
     },
     "execution_count": 183,
     "metadata": {},
     "output_type": "execute_result"
    },
    {
     "data": {
      "image/png": "[encoded data removed]",
      "text/plain": [
       "<Figure size 432x288 with 1 Axes>"
      ]
     },
     "metadata": {
      "needs_background": "light"
     },
     "output_type": "display_data"
    }
   ],
   "source": [
    "sns.boxplot(data=df)"
   ]
  },
  {
   "cell_type": "markdown",
   "id": "fe48f5ce",
   "metadata": {},
   "source": [
    "#### Histogram"
   ]
  },
  {
   "cell_type": "code",
   "execution_count": 188,
   "id": "980c4b60",
   "metadata": {},
   "outputs": [
    {
     "data": {
      "text/plain": [
       "<AxesSubplot:ylabel='Frequency'>"
      ]
     },
     "execution_count": 188,
     "metadata": {},
     "output_type": "execute_result"
    },
    {
     "data": {
      "image/png": "[encoded data removed]",
      "text/plain": [
       "<Figure size 432x288 with 1 Axes>"
      ]
     },
     "metadata": {
      "needs_background": "light"
     },
     "output_type": "display_data"
    }
   ],
   "source": [
    "df.plot.hist(bins=range(10000,60001,10000))"
   ]
  },
  {
   "cell_type": "code",
   "execution_count": 190,
   "id": "39b22e52",
   "metadata": {},
   "outputs": [],
   "source": [
    "ndf = df[(df['salary'] >= 20000) & (df['salary'] <= 40000)]"
   ]
  },
  {
   "cell_type": "code",
   "execution_count": 191,
   "id": "fb5ed4db",
   "metadata": {},
   "outputs": [
    {
     "data": {
      "text/plain": [
       "(97, 1)"
      ]
     },
     "execution_count": 191,
     "metadata": {},
     "output_type": "execute_result"
    }
   ],
   "source": [
    "ndf.shape"
   ]
  },
  {
   "cell_type": "code",
   "execution_count": 192,
   "id": "2f792e56",
   "metadata": {},
   "outputs": [
    {
     "data": {
      "text/plain": [
       "<AxesSubplot:>"
      ]
     },
     "execution_count": 192,
     "metadata": {},
     "output_type": "execute_result"
    },
    {
     "data": {
      "image/png": "[encoded data removed]",
      "text/plain": [
       "<Figure size 432x288 with 1 Axes>"
      ]
     },
     "metadata": {
      "needs_background": "light"
     },
     "output_type": "display_data"
    }
   ],
   "source": [
    "ndf.plot.box()"
   ]
  },
  {
   "cell_type": "code",
   "execution_count": 193,
   "id": "6e3c32d0",
   "metadata": {},
   "outputs": [
    {
     "data": {
      "text/plain": [
       "<AxesSubplot:ylabel='Frequency'>"
      ]
     },
     "execution_count": 193,
     "metadata": {},
     "output_type": "execute_result"
    },
    {
     "data": {
      "image/png": "[encoded data removed]",
      "text/plain": [
       "<Figure size 432x288 with 1 Axes>"
      ]
     },
     "metadata": {
      "needs_background": "light"
     },
     "output_type": "display_data"
    }
   ],
   "source": [
    "ndf.plot.hist(bins=range(10000,60001,10000))"
   ]
  },
  {
   "cell_type": "markdown",
   "id": "2b36b3af",
   "metadata": {},
   "source": [
    "#### Z-scores"
   ]
  },
  {
   "cell_type": "code",
   "execution_count": 199,
   "id": "20ca72d2",
   "metadata": {},
   "outputs": [],
   "source": [
    "def zscore(n):\n",
    "    score = (n - np.mean(n)) / n.std()\n",
    "    return score"
   ]
  },
  {
   "cell_type": "code",
   "execution_count": 202,
   "id": "3c7f6bfe",
   "metadata": {},
   "outputs": [
    {
     "data": {
      "text/plain": [
       "0     0.776855\n",
       "1    -0.727801\n",
       "2    -1.154003\n",
       "3     0.741089\n",
       "4     1.014182\n",
       "        ...   \n",
       "95    0.053422\n",
       "96    0.953573\n",
       "97   -0.218261\n",
       "98   -1.371596\n",
       "99   -1.158936\n",
       "Name: salary, Length: 100, dtype: float64"
      ]
     },
     "execution_count": 202,
     "metadata": {},
     "output_type": "execute_result"
    }
   ],
   "source": [
    "zscore(df['salary'])"
   ]
  },
  {
   "cell_type": "code",
   "execution_count": 203,
   "id": "26caa446",
   "metadata": {},
   "outputs": [
    {
     "data": {
      "text/plain": [
       "<AxesSubplot:>"
      ]
     },
     "execution_count": 203,
     "metadata": {},
     "output_type": "execute_result"
    },
    {
     "data": {
      "image/png": "[encoded data removed]",
      "text/plain": [
       "<Figure size 432x288 with 1 Axes>"
      ]
     },
     "metadata": {
      "needs_background": "light"
     },
     "output_type": "display_data"
    }
   ],
   "source": [
    "zscore(df['salary']).plot()"
   ]
  },
  {
   "cell_type": "code",
   "execution_count": 204,
   "id": "399adea6",
   "metadata": {},
   "outputs": [],
   "source": [
    "import matplotlib.pyplot as plt"
   ]
  },
  {
   "cell_type": "code",
   "execution_count": 207,
   "id": "5611eb32",
   "metadata": {},
   "outputs": [
    {
     "data": {
      "text/plain": [
       "[<matplotlib.lines.Line2D at 0x7f4c68ac49a0>]"
      ]
     },
     "execution_count": 207,
     "metadata": {},
     "output_type": "execute_result"
    },
    {
     "data": {
      "image/png": "[encoded data removed]",
      "text/plain": [
       "<Figure size 1152x648 with 1 Axes>"
      ]
     },
     "metadata": {
      "needs_background": "light"
     },
     "output_type": "display_data"
    }
   ],
   "source": [
    "plt.figure(figsize=(16,9))\n",
    "plt.xlabel('Value')\n",
    "plt.ylabel('Z-score')\n",
    "plt.grid()\n",
    "plt.xticks(range(0,100,5))\n",
    "plt.plot(range(0,100), zscore(df['salary']))"
   ]
  },
  {
   "cell_type": "code",
   "execution_count": 214,
   "id": "62b7149e",
   "metadata": {},
   "outputs": [
    {
     "data": {
      "text/plain": [
       "0     False\n",
       "1     False\n",
       "2     False\n",
       "3     False\n",
       "4     False\n",
       "      ...  \n",
       "95    False\n",
       "96    False\n",
       "97    False\n",
       "98    False\n",
       "99    False\n",
       "Name: salary, Length: 100, dtype: bool"
      ]
     },
     "execution_count": 214,
     "metadata": {},
     "output_type": "execute_result"
    }
   ],
   "source": [
    "zscore(df['salary']) > 3.0"
   ]
  },
  {
   "cell_type": "code",
   "execution_count": 218,
   "id": "fc1e6368",
   "metadata": {},
   "outputs": [],
   "source": [
    "ndf = df[(zscore(df['salary']) < 3.0) & \n",
    "         (zscore(df['salary']) > -3.0)]"
   ]
  },
  {
   "cell_type": "code",
   "execution_count": 219,
   "id": "eeb414a7",
   "metadata": {},
   "outputs": [
    {
     "data": {
      "text/plain": [
       "(97, 1)"
      ]
     },
     "execution_count": 219,
     "metadata": {},
     "output_type": "execute_result"
    }
   ],
   "source": [
    "ndf.shape"
   ]
  },
  {
   "cell_type": "markdown",
   "id": "3a5e119b",
   "metadata": {},
   "source": [
    "#### Turkey's fences"
   ]
  },
  {
   "cell_type": "code",
   "execution_count": 225,
   "id": "f42a3376",
   "metadata": {},
   "outputs": [
    {
     "data": {
      "text/html": [
       "<div>\n",
       "<style scoped>\n",
       "    .dataframe tbody tr th:only-of-type {\n",
       "        vertical-align: middle;\n",
       "    }\n",
       "\n",
       "    .dataframe tbody tr th {\n",
       "        vertical-align: top;\n",
       "    }\n",
       "\n",
       "    .dataframe thead th {\n",
       "        text-align: right;\n",
       "    }\n",
       "</style>\n",
       "<table border=\"1\" class=\"dataframe\">\n",
       "  <thead>\n",
       "    <tr style=\"text-align: right;\">\n",
       "      <th></th>\n",
       "      <th>salary</th>\n",
       "    </tr>\n",
       "  </thead>\n",
       "  <tbody>\n",
       "    <tr>\n",
       "      <th>count</th>\n",
       "      <td>100.000000</td>\n",
       "    </tr>\n",
       "    <tr>\n",
       "      <th>mean</th>\n",
       "      <td>33009.790000</td>\n",
       "    </tr>\n",
       "    <tr>\n",
       "      <th>std</th>\n",
       "      <td>5675.715453</td>\n",
       "    </tr>\n",
       "    <tr>\n",
       "      <th>min</th>\n",
       "      <td>15000.000000</td>\n",
       "    </tr>\n",
       "    <tr>\n",
       "      <th>25%</th>\n",
       "      <td>28759.750000</td>\n",
       "    </tr>\n",
       "    <tr>\n",
       "      <th>50%</th>\n",
       "      <td>32655.000000</td>\n",
       "    </tr>\n",
       "    <tr>\n",
       "      <th>75%</th>\n",
       "      <td>37682.500000</td>\n",
       "    </tr>\n",
       "    <tr>\n",
       "      <th>max</th>\n",
       "      <td>56500.000000</td>\n",
       "    </tr>\n",
       "  </tbody>\n",
       "</table>\n",
       "</div>"
      ],
      "text/plain": [
       "             salary\n",
       "count    100.000000\n",
       "mean   33009.790000\n",
       "std     5675.715453\n",
       "min    15000.000000\n",
       "25%    28759.750000\n",
       "50%    32655.000000\n",
       "75%    37682.500000\n",
       "max    56500.000000"
      ]
     },
     "execution_count": 225,
     "metadata": {},
     "output_type": "execute_result"
    }
   ],
   "source": [
    "df.describe()"
   ]
  },
  {
   "cell_type": "code",
   "execution_count": 221,
   "id": "79f2eddb",
   "metadata": {},
   "outputs": [],
   "source": [
    "# Calculate the third and first quartiles of the data\n",
    "Q3 = np.percentile(df, 75)\n",
    "Q1 = np.percentile(df, 25)"
   ]
  },
  {
   "cell_type": "code",
   "execution_count": 227,
   "id": "321f5dcd",
   "metadata": {},
   "outputs": [
    {
     "data": {
      "text/plain": [
       "(28759.75, 37682.5)"
      ]
     },
     "execution_count": 227,
     "metadata": {},
     "output_type": "execute_result"
    }
   ],
   "source": [
    "Q1, Q3"
   ]
  },
  {
   "cell_type": "code",
   "execution_count": 222,
   "id": "20d9e41b",
   "metadata": {},
   "outputs": [],
   "source": [
    "# Calculate the interquartile range\n",
    "IQR = Q3 - Q1"
   ]
  },
  {
   "cell_type": "code",
   "execution_count": 223,
   "id": "d8827ac1",
   "metadata": {},
   "outputs": [],
   "source": [
    "# Calculate the upper and lower fences\n",
    "upper_fence = Q3 + 1.5 * IQR\n",
    "lower_fence = Q1 - 1.5 * IQR"
   ]
  },
  {
   "cell_type": "code",
   "execution_count": 228,
   "id": "ae9ff742",
   "metadata": {},
   "outputs": [
    {
     "data": {
      "text/plain": [
       "(51066.625, 15375.625)"
      ]
     },
     "execution_count": 228,
     "metadata": {},
     "output_type": "execute_result"
    }
   ],
   "source": [
    "upper_fence, lower_fence"
   ]
  },
  {
   "cell_type": "code",
   "execution_count": 229,
   "id": "45e1ef72",
   "metadata": {},
   "outputs": [],
   "source": [
    "ndf = df[(df['salary'] > lower_fence) & \n",
    "         (df['salary'] < upper_fence)]"
   ]
  },
  {
   "cell_type": "code",
   "execution_count": 230,
   "id": "c6a06c1c",
   "metadata": {},
   "outputs": [
    {
     "data": {
      "text/plain": [
       "(97, 1)"
      ]
     },
     "execution_count": 230,
     "metadata": {},
     "output_type": "execute_result"
    }
   ],
   "source": [
    "ndf.shape"
   ]
  },
  {
   "cell_type": "code",
   "execution_count": 238,
   "id": "c9cdc5d8",
   "metadata": {},
   "outputs": [
    {
     "data": {
      "text/plain": [
       "<BarContainer object of 100 artists>"
      ]
     },
     "execution_count": 238,
     "metadata": {},
     "output_type": "execute_result"
    },
    {
     "data": {
      "image/png": "[encoded data removed]",
      "text/plain": [
       "<Figure size 1152x648 with 1 Axes>"
      ]
     },
     "metadata": {
      "needs_background": "light"
     },
     "output_type": "display_data"
    }
   ],
   "source": [
    "plt.figure(figsize=(16,9))\n",
    "plt.grid()\n",
    "plt.yticks([upper_fence,lower_fence])\n",
    "plt.bar(range(100), df['salary'])"
   ]
  },
  {
   "cell_type": "code",
   "execution_count": null,
   "id": "ecd2e079",
   "metadata": {},
   "outputs": [],
   "source": []
  }
 ],
 "metadata": {
  "kernelspec": {
   "display_name": "Python 3",
   "language": "python",
   "name": "python3"
  },
  "language_info": {
   "codemirror_mode": {
    "name": "ipython",
    "version": 3
   },
   "file_extension": ".py",
   "mimetype": "text/x-python",
   "name": "python",
   "nbconvert_exporter": "python",
   "pygments_lexer": "ipython3",
   "version": "3.8.10"
  }
 },
 "nbformat": 4,
 "nbformat_minor": 5
}
